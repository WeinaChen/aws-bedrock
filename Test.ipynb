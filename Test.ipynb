{
 "cells": [
  {
   "cell_type": "code",
   "execution_count": 1,
   "metadata": {},
   "outputs": [],
   "source": [
    "import pandas as pd"
   ]
  },
  {
   "cell_type": "code",
   "execution_count": 4,
   "metadata": {},
   "outputs": [
    {
     "data": {
      "text/html": [
       "<div>\n",
       "<style scoped>\n",
       "    .dataframe tbody tr th:only-of-type {\n",
       "        vertical-align: middle;\n",
       "    }\n",
       "\n",
       "    .dataframe tbody tr th {\n",
       "        vertical-align: top;\n",
       "    }\n",
       "\n",
       "    .dataframe thead th {\n",
       "        text-align: right;\n",
       "    }\n",
       "</style>\n",
       "<table border=\"1\" class=\"dataframe\">\n",
       "  <thead>\n",
       "    <tr style=\"text-align: right;\">\n",
       "      <th></th>\n",
       "      <th>Open</th>\n",
       "      <th>High</th>\n",
       "      <th>Low</th>\n",
       "      <th>Close</th>\n",
       "      <th>Adj Close</th>\n",
       "      <th>Volume</th>\n",
       "    </tr>\n",
       "    <tr>\n",
       "      <th>Date</th>\n",
       "      <th></th>\n",
       "      <th></th>\n",
       "      <th></th>\n",
       "      <th></th>\n",
       "      <th></th>\n",
       "      <th></th>\n",
       "    </tr>\n",
       "  </thead>\n",
       "  <tbody>\n",
       "    <tr>\n",
       "      <th>2019-06-05</th>\n",
       "      <td>154.199997</td>\n",
       "      <td>154.199997</td>\n",
       "      <td>151.059998</td>\n",
       "      <td>152.500000</td>\n",
       "      <td>130.843079</td>\n",
       "      <td>67049984.0</td>\n",
       "    </tr>\n",
       "    <tr>\n",
       "      <th>2019-06-06</th>\n",
       "      <td>153.339996</td>\n",
       "      <td>153.520004</td>\n",
       "      <td>149.600006</td>\n",
       "      <td>151.240005</td>\n",
       "      <td>129.762009</td>\n",
       "      <td>31278842.0</td>\n",
       "    </tr>\n",
       "    <tr>\n",
       "      <th>2019-06-07</th>\n",
       "      <td>151.679993</td>\n",
       "      <td>152.559998</td>\n",
       "      <td>150.199997</td>\n",
       "      <td>151.059998</td>\n",
       "      <td>129.607559</td>\n",
       "      <td>21154119.0</td>\n",
       "    </tr>\n",
       "    <tr>\n",
       "      <th>2019-06-10</th>\n",
       "      <td>151.979996</td>\n",
       "      <td>153.740005</td>\n",
       "      <td>150.699997</td>\n",
       "      <td>153.080002</td>\n",
       "      <td>131.340698</td>\n",
       "      <td>21160315.0</td>\n",
       "    </tr>\n",
       "    <tr>\n",
       "      <th>2019-06-11</th>\n",
       "      <td>152.619995</td>\n",
       "      <td>154.059998</td>\n",
       "      <td>151.520004</td>\n",
       "      <td>152.220001</td>\n",
       "      <td>130.602844</td>\n",
       "      <td>22900404.0</td>\n",
       "    </tr>\n",
       "    <tr>\n",
       "      <th>...</th>\n",
       "      <td>...</td>\n",
       "      <td>...</td>\n",
       "      <td>...</td>\n",
       "      <td>...</td>\n",
       "      <td>...</td>\n",
       "      <td>...</td>\n",
       "    </tr>\n",
       "    <tr>\n",
       "      <th>2024-05-30</th>\n",
       "      <td>212.550003</td>\n",
       "      <td>219.850006</td>\n",
       "      <td>211.250000</td>\n",
       "      <td>218.550003</td>\n",
       "      <td>218.550003</td>\n",
       "      <td>47795152.0</td>\n",
       "    </tr>\n",
       "    <tr>\n",
       "      <th>2024-05-31</th>\n",
       "      <td>219.199997</td>\n",
       "      <td>221.100006</td>\n",
       "      <td>217.199997</td>\n",
       "      <td>220.000000</td>\n",
       "      <td>220.000000</td>\n",
       "      <td>82218581.0</td>\n",
       "    </tr>\n",
       "    <tr>\n",
       "      <th>2024-06-03</th>\n",
       "      <td>222.050003</td>\n",
       "      <td>224.300003</td>\n",
       "      <td>219.000000</td>\n",
       "      <td>219.199997</td>\n",
       "      <td>219.199997</td>\n",
       "      <td>47887792.0</td>\n",
       "    </tr>\n",
       "    <tr>\n",
       "      <th>2024-06-04</th>\n",
       "      <td>218.649994</td>\n",
       "      <td>219.350006</td>\n",
       "      <td>215.000000</td>\n",
       "      <td>215.000000</td>\n",
       "      <td>215.000000</td>\n",
       "      <td>96266689.0</td>\n",
       "    </tr>\n",
       "    <tr>\n",
       "      <th>2024-06-05</th>\n",
       "      <td>0.000000</td>\n",
       "      <td>0.000000</td>\n",
       "      <td>0.000000</td>\n",
       "      <td>212.649994</td>\n",
       "      <td>212.649994</td>\n",
       "      <td>18752096.0</td>\n",
       "    </tr>\n",
       "  </tbody>\n",
       "</table>\n",
       "<p>1263 rows × 6 columns</p>\n",
       "</div>"
      ],
      "text/plain": [
       "                  Open        High         Low       Close   Adj Close  \\\n",
       "Date                                                                     \n",
       "2019-06-05  154.199997  154.199997  151.059998  152.500000  130.843079   \n",
       "2019-06-06  153.339996  153.520004  149.600006  151.240005  129.762009   \n",
       "2019-06-07  151.679993  152.559998  150.199997  151.059998  129.607559   \n",
       "2019-06-10  151.979996  153.740005  150.699997  153.080002  131.340698   \n",
       "2019-06-11  152.619995  154.059998  151.520004  152.220001  130.602844   \n",
       "...                ...         ...         ...         ...         ...   \n",
       "2024-05-30  212.550003  219.850006  211.250000  218.550003  218.550003   \n",
       "2024-05-31  219.199997  221.100006  217.199997  220.000000  220.000000   \n",
       "2024-06-03  222.050003  224.300003  219.000000  219.199997  219.199997   \n",
       "2024-06-04  218.649994  219.350006  215.000000  215.000000  215.000000   \n",
       "2024-06-05    0.000000    0.000000    0.000000  212.649994  212.649994   \n",
       "\n",
       "                Volume  \n",
       "Date                    \n",
       "2019-06-05  67049984.0  \n",
       "2019-06-06  31278842.0  \n",
       "2019-06-07  21154119.0  \n",
       "2019-06-10  21160315.0  \n",
       "2019-06-11  22900404.0  \n",
       "...                ...  \n",
       "2024-05-30  47795152.0  \n",
       "2024-05-31  82218581.0  \n",
       "2024-06-03  47887792.0  \n",
       "2024-06-04  96266689.0  \n",
       "2024-06-05  18752096.0  \n",
       "\n",
       "[1263 rows x 6 columns]"
      ]
     },
     "execution_count": 4,
     "metadata": {},
     "output_type": "execute_result"
    }
   ],
   "source": [
    "df = pd.read_csv(\"data/BCS.csv\", index_col = 0)\n",
    "df"
   ]
  },
  {
   "cell_type": "code",
   "execution_count": 5,
   "metadata": {},
   "outputs": [
    {
     "name": "stderr",
     "output_type": "stream",
     "text": [
      "/var/folders/pf/r0cmnchs509dgvhzjm4qsn640000gn/T/ipykernel_33109/628832764.py:1: FutureWarning: The default fill_method='pad' in Series.pct_change is deprecated and will be removed in a future version. Either fill in any non-leading NA values prior to calling pct_change or specify 'fill_method=None' to not fill NA values.\n",
      "  1 - (df['Adj Close'].pct_change() + 1).cumprod().tail()[0]\n",
      "/var/folders/pf/r0cmnchs509dgvhzjm4qsn640000gn/T/ipykernel_33109/628832764.py:1: FutureWarning: Series.__getitem__ treating keys as positions is deprecated. In a future version, integer keys will always be treated as labels (consistent with DataFrame behavior). To access a value by position, use `ser.iloc[pos]`\n",
      "  1 - (df['Adj Close'].pct_change() + 1).cumprod().tail()[0]\n"
     ]
    },
    {
     "data": {
      "text/plain": [
       "-0.6703214619399178"
      ]
     },
     "execution_count": 5,
     "metadata": {},
     "output_type": "execute_result"
    }
   ],
   "source": [
    "\n",
    "1 - (df['Adj Close'].pct_change() + 1).cumprod().tail()[0]"
   ]
  },
  {
   "cell_type": "code",
   "execution_count": 6,
   "metadata": {},
   "outputs": [],
   "source": [
    "from typing import Type\n",
    "import boto3\n",
    "from langchain.tools import BaseTool\n",
    "from pydantic import BaseModel, Field\n",
    "import streamlit as st\n",
    "import pandas as pd\n",
    "\n",
    "## We will be suing Titan Embeddings Model To generate Embedding\n",
    "from langchain.embeddings.bedrock import BedrockEmbeddings\n",
    "from langchain.llms.bedrock import Bedrock\n",
    "from langchain.chat_models.bedrock import BedrockChat\n",
    "\n",
    "## Data Ingestion\n",
    "from langchain.document_loaders import PyPDFDirectoryLoader\n",
    "from langchain.text_splitter import RecursiveCharacterTextSplitter\n",
    "\n",
    "# Vector Embedding And Vector Store\n",
    "from langchain.vectorstores import FAISS\n",
    "\n",
    "## LLm Models\n",
    "from langchain.prompts import PromptTemplate\n",
    "from langchain.chains import RetrievalQA"
   ]
  },
  {
   "cell_type": "code",
   "execution_count": 7,
   "metadata": {},
   "outputs": [],
   "source": [
    "\n",
    "from langchain.agents import initialize_agent, Tool, AgentType\n",
    "from langchain.chains.conversation.memory import ConversationBufferMemory\n",
    "from langchain_community.callbacks.streamlit import (\n",
    "    StreamlitCallbackHandler,\n",
    ")\n",
    "from langchain_core.documents import Document"
   ]
  },
  {
   "cell_type": "code",
   "execution_count": 13,
   "metadata": {},
   "outputs": [],
   "source": [
    "bedrock = boto3.client(service_name=\"bedrock-runtime\")\n",
    "bedrock_embeddings = BedrockEmbeddings(\n",
    "    model_id=\"amazon.titan-embed-image-v1\", client=bedrock\n",
    ")"
   ]
  },
  {
   "cell_type": "code",
   "execution_count": 14,
   "metadata": {},
   "outputs": [],
   "source": [
    "def get_llama2_llm():\n",
    "    ##create the Llama Model\n",
    "    llm=Bedrock(model_id=\"meta.llama2-70b-chat-v1\",client=bedrock,\n",
    "                model_kwargs={'max_gen_len':200})\n",
    "    \n",
    "    return llm"
   ]
  },
  {
   "cell_type": "code",
   "execution_count": 15,
   "metadata": {},
   "outputs": [],
   "source": [
    "vectorstore = FAISS.load_local(\n",
    "        \"faiss_index_reports\", bedrock_embeddings, allow_dangerous_deserialization=True\n",
    "    )"
   ]
  },
  {
   "cell_type": "code",
   "execution_count": 40,
   "metadata": {},
   "outputs": [],
   "source": [
    "def search_docs(query):\n",
    "    print(query)\n",
    "    \"\"\"Searches the document store for relevant information.\"\"\"\n",
    "    vectorstore = configure_retriever()\n",
    "    # print(f\"query: {query}\")\n",
    "    # if query[\"value\"]:\n",
    "    #     results = vectorstore.similarity_search(query[\"value\"])\n",
    "    # else:\n",
    "    #     results = vectorstore.similarity_search(query[\"query\"])\n",
    "    results = vectorstore.similarity_search(query)\n",
    "    return {\"docs\": results}\n",
    "\n",
    "\n",
    "retriever_tool = Tool(\n",
    "    name=\"search_docs\",\n",
    "    func=search_docs,\n",
    "    description=\"Search the document store for relevant information.\",\n",
    ")"
   ]
  },
  {
   "cell_type": "code",
   "execution_count": 41,
   "metadata": {},
   "outputs": [],
   "source": [
    "tools = [retriever_tool]\n",
    "llm = get_llama2_llm()\n",
    "agent = initialize_agent(\n",
    "    tools,\n",
    "    llm,\n",
    "    agent=AgentType.STRUCTURED_CHAT_ZERO_SHOT_REACT_DESCRIPTION,\n",
    "    memory=ConversationBufferMemory(),\n",
    "    handle_parsing_error = True,\n",
    "    verbose=True,\n",
    ")"
   ]
  },
  {
   "cell_type": "code",
   "execution_count": 42,
   "metadata": {},
   "outputs": [],
   "source": [
    "st_callback = StreamlitCallbackHandler(st.container())"
   ]
  },
  {
   "cell_type": "code",
   "execution_count": 43,
   "metadata": {},
   "outputs": [],
   "source": [
    "def configure_retriever():\n",
    "    bedrock_embeddings = BedrockEmbeddings(\n",
    "        model_id=\"amazon.titan-embed-image-v1\", client=bedrock\n",
    "    )\n",
    "    vectorstore = FAISS.load_local(\n",
    "        \"faiss_index_pdfs\", bedrock_embeddings, allow_dangerous_deserialization=True\n",
    "    )\n",
    "    return vectorstore"
   ]
  },
  {
   "cell_type": "code",
   "execution_count": 44,
   "metadata": {},
   "outputs": [
    {
     "name": "stdout",
     "output_type": "stream",
     "text": [
      "\n",
      "\n",
      "\u001b[1m> Entering new AgentExecutor chain...\u001b[0m\n"
     ]
    },
    {
     "name": "stderr",
     "output_type": "stream",
     "text": [
      "Error in StreamlitCallbackHandler.on_llm_end callback: StreamlitAPIException()\n",
      "Error in StreamlitCallbackHandler.on_tool_start callback: StreamlitAPIException()\n",
      "Error in StreamlitCallbackHandler.on_tool_error callback: StreamlitAPIException()\n"
     ]
    },
    {
     "name": "stdout",
     "output_type": "stream",
     "text": [
      "\u001b[32;1m\u001b[1;3mAction:\n",
      "```\n",
      "{\n",
      "  \"action\": \"search_docs\",\n",
      "  \"action_input\": \"human greetings\"\n",
      "}\n",
      "```\n",
      "\n",
      "\u001b[0mhuman greetings\n",
      "query: human greetings\n"
     ]
    },
    {
     "ename": "TypeError",
     "evalue": "string indices must be integers",
     "output_type": "error",
     "traceback": [
      "\u001b[0;31m---------------------------------------------------------------------------\u001b[0m",
      "\u001b[0;31mTypeError\u001b[0m                                 Traceback (most recent call last)",
      "Cell \u001b[0;32mIn[44], line 1\u001b[0m\n\u001b[0;32m----> 1\u001b[0m response \u001b[38;5;241m=\u001b[39m \u001b[43magent\u001b[49m\u001b[38;5;241;43m.\u001b[39;49m\u001b[43minvoke\u001b[49m\u001b[43m(\u001b[49m\n\u001b[1;32m      2\u001b[0m \u001b[43m                \u001b[49m\u001b[43m{\u001b[49m\u001b[38;5;124;43m\"\u001b[39;49m\u001b[38;5;124;43minput\u001b[39;49m\u001b[38;5;124;43m\"\u001b[39;49m\u001b[43m:\u001b[49m\u001b[43m \u001b[49m\u001b[38;5;124;43m\"\u001b[39;49m\u001b[38;5;124;43mHello\u001b[39;49m\u001b[38;5;124;43m\"\u001b[39;49m\u001b[43m}\u001b[49m\u001b[43m,\u001b[49m\u001b[43m \u001b[49m\u001b[43m{\u001b[49m\u001b[38;5;124;43m\"\u001b[39;49m\u001b[38;5;124;43mcallbacks\u001b[39;49m\u001b[38;5;124;43m\"\u001b[39;49m\u001b[43m:\u001b[49m\u001b[43m \u001b[49m\u001b[43m[\u001b[49m\u001b[43mst_callback\u001b[49m\u001b[43m]\u001b[49m\u001b[43m}\u001b[49m\n\u001b[1;32m      3\u001b[0m \u001b[43m            \u001b[49m\u001b[43m)\u001b[49m\n",
      "File \u001b[0;32m~/Desktop/aws bedrock/venv/lib/python3.10/site-packages/langchain/chains/base.py:166\u001b[0m, in \u001b[0;36mChain.invoke\u001b[0;34m(self, input, config, **kwargs)\u001b[0m\n\u001b[1;32m    164\u001b[0m \u001b[38;5;28;01mexcept\u001b[39;00m \u001b[38;5;167;01mBaseException\u001b[39;00m \u001b[38;5;28;01mas\u001b[39;00m e:\n\u001b[1;32m    165\u001b[0m     run_manager\u001b[38;5;241m.\u001b[39mon_chain_error(e)\n\u001b[0;32m--> 166\u001b[0m     \u001b[38;5;28;01mraise\u001b[39;00m e\n\u001b[1;32m    167\u001b[0m run_manager\u001b[38;5;241m.\u001b[39mon_chain_end(outputs)\n\u001b[1;32m    169\u001b[0m \u001b[38;5;28;01mif\u001b[39;00m include_run_info:\n",
      "File \u001b[0;32m~/Desktop/aws bedrock/venv/lib/python3.10/site-packages/langchain/chains/base.py:156\u001b[0m, in \u001b[0;36mChain.invoke\u001b[0;34m(self, input, config, **kwargs)\u001b[0m\n\u001b[1;32m    153\u001b[0m \u001b[38;5;28;01mtry\u001b[39;00m:\n\u001b[1;32m    154\u001b[0m     \u001b[38;5;28mself\u001b[39m\u001b[38;5;241m.\u001b[39m_validate_inputs(inputs)\n\u001b[1;32m    155\u001b[0m     outputs \u001b[38;5;241m=\u001b[39m (\n\u001b[0;32m--> 156\u001b[0m         \u001b[38;5;28;43mself\u001b[39;49m\u001b[38;5;241;43m.\u001b[39;49m\u001b[43m_call\u001b[49m\u001b[43m(\u001b[49m\u001b[43minputs\u001b[49m\u001b[43m,\u001b[49m\u001b[43m \u001b[49m\u001b[43mrun_manager\u001b[49m\u001b[38;5;241;43m=\u001b[39;49m\u001b[43mrun_manager\u001b[49m\u001b[43m)\u001b[49m\n\u001b[1;32m    157\u001b[0m         \u001b[38;5;28;01mif\u001b[39;00m new_arg_supported\n\u001b[1;32m    158\u001b[0m         \u001b[38;5;28;01melse\u001b[39;00m \u001b[38;5;28mself\u001b[39m\u001b[38;5;241m.\u001b[39m_call(inputs)\n\u001b[1;32m    159\u001b[0m     )\n\u001b[1;32m    161\u001b[0m     final_outputs: Dict[\u001b[38;5;28mstr\u001b[39m, Any] \u001b[38;5;241m=\u001b[39m \u001b[38;5;28mself\u001b[39m\u001b[38;5;241m.\u001b[39mprep_outputs(\n\u001b[1;32m    162\u001b[0m         inputs, outputs, return_only_outputs\n\u001b[1;32m    163\u001b[0m     )\n\u001b[1;32m    164\u001b[0m \u001b[38;5;28;01mexcept\u001b[39;00m \u001b[38;5;167;01mBaseException\u001b[39;00m \u001b[38;5;28;01mas\u001b[39;00m e:\n",
      "File \u001b[0;32m~/Desktop/aws bedrock/venv/lib/python3.10/site-packages/langchain/agents/agent.py:1433\u001b[0m, in \u001b[0;36mAgentExecutor._call\u001b[0;34m(self, inputs, run_manager)\u001b[0m\n\u001b[1;32m   1431\u001b[0m \u001b[38;5;66;03m# We now enter the agent loop (until it returns something).\u001b[39;00m\n\u001b[1;32m   1432\u001b[0m \u001b[38;5;28;01mwhile\u001b[39;00m \u001b[38;5;28mself\u001b[39m\u001b[38;5;241m.\u001b[39m_should_continue(iterations, time_elapsed):\n\u001b[0;32m-> 1433\u001b[0m     next_step_output \u001b[38;5;241m=\u001b[39m \u001b[38;5;28;43mself\u001b[39;49m\u001b[38;5;241;43m.\u001b[39;49m\u001b[43m_take_next_step\u001b[49m\u001b[43m(\u001b[49m\n\u001b[1;32m   1434\u001b[0m \u001b[43m        \u001b[49m\u001b[43mname_to_tool_map\u001b[49m\u001b[43m,\u001b[49m\n\u001b[1;32m   1435\u001b[0m \u001b[43m        \u001b[49m\u001b[43mcolor_mapping\u001b[49m\u001b[43m,\u001b[49m\n\u001b[1;32m   1436\u001b[0m \u001b[43m        \u001b[49m\u001b[43minputs\u001b[49m\u001b[43m,\u001b[49m\n\u001b[1;32m   1437\u001b[0m \u001b[43m        \u001b[49m\u001b[43mintermediate_steps\u001b[49m\u001b[43m,\u001b[49m\n\u001b[1;32m   1438\u001b[0m \u001b[43m        \u001b[49m\u001b[43mrun_manager\u001b[49m\u001b[38;5;241;43m=\u001b[39;49m\u001b[43mrun_manager\u001b[49m\u001b[43m,\u001b[49m\n\u001b[1;32m   1439\u001b[0m \u001b[43m    \u001b[49m\u001b[43m)\u001b[49m\n\u001b[1;32m   1440\u001b[0m     \u001b[38;5;28;01mif\u001b[39;00m \u001b[38;5;28misinstance\u001b[39m(next_step_output, AgentFinish):\n\u001b[1;32m   1441\u001b[0m         \u001b[38;5;28;01mreturn\u001b[39;00m \u001b[38;5;28mself\u001b[39m\u001b[38;5;241m.\u001b[39m_return(\n\u001b[1;32m   1442\u001b[0m             next_step_output, intermediate_steps, run_manager\u001b[38;5;241m=\u001b[39mrun_manager\n\u001b[1;32m   1443\u001b[0m         )\n",
      "File \u001b[0;32m~/Desktop/aws bedrock/venv/lib/python3.10/site-packages/langchain/agents/agent.py:1139\u001b[0m, in \u001b[0;36mAgentExecutor._take_next_step\u001b[0;34m(self, name_to_tool_map, color_mapping, inputs, intermediate_steps, run_manager)\u001b[0m\n\u001b[1;32m   1130\u001b[0m \u001b[38;5;28;01mdef\u001b[39;00m \u001b[38;5;21m_take_next_step\u001b[39m(\n\u001b[1;32m   1131\u001b[0m     \u001b[38;5;28mself\u001b[39m,\n\u001b[1;32m   1132\u001b[0m     name_to_tool_map: Dict[\u001b[38;5;28mstr\u001b[39m, BaseTool],\n\u001b[0;32m   (...)\u001b[0m\n\u001b[1;32m   1136\u001b[0m     run_manager: Optional[CallbackManagerForChainRun] \u001b[38;5;241m=\u001b[39m \u001b[38;5;28;01mNone\u001b[39;00m,\n\u001b[1;32m   1137\u001b[0m ) \u001b[38;5;241m-\u001b[39m\u001b[38;5;241m>\u001b[39m Union[AgentFinish, List[Tuple[AgentAction, \u001b[38;5;28mstr\u001b[39m]]]:\n\u001b[1;32m   1138\u001b[0m     \u001b[38;5;28;01mreturn\u001b[39;00m \u001b[38;5;28mself\u001b[39m\u001b[38;5;241m.\u001b[39m_consume_next_step(\n\u001b[0;32m-> 1139\u001b[0m         [\n\u001b[1;32m   1140\u001b[0m             a\n\u001b[1;32m   1141\u001b[0m             \u001b[38;5;28;01mfor\u001b[39;00m a \u001b[38;5;129;01min\u001b[39;00m \u001b[38;5;28mself\u001b[39m\u001b[38;5;241m.\u001b[39m_iter_next_step(\n\u001b[1;32m   1142\u001b[0m                 name_to_tool_map,\n\u001b[1;32m   1143\u001b[0m                 color_mapping,\n\u001b[1;32m   1144\u001b[0m                 inputs,\n\u001b[1;32m   1145\u001b[0m                 intermediate_steps,\n\u001b[1;32m   1146\u001b[0m                 run_manager,\n\u001b[1;32m   1147\u001b[0m             )\n\u001b[1;32m   1148\u001b[0m         ]\n\u001b[1;32m   1149\u001b[0m     )\n",
      "File \u001b[0;32m~/Desktop/aws bedrock/venv/lib/python3.10/site-packages/langchain/agents/agent.py:1139\u001b[0m, in \u001b[0;36m<listcomp>\u001b[0;34m(.0)\u001b[0m\n\u001b[1;32m   1130\u001b[0m \u001b[38;5;28;01mdef\u001b[39;00m \u001b[38;5;21m_take_next_step\u001b[39m(\n\u001b[1;32m   1131\u001b[0m     \u001b[38;5;28mself\u001b[39m,\n\u001b[1;32m   1132\u001b[0m     name_to_tool_map: Dict[\u001b[38;5;28mstr\u001b[39m, BaseTool],\n\u001b[0;32m   (...)\u001b[0m\n\u001b[1;32m   1136\u001b[0m     run_manager: Optional[CallbackManagerForChainRun] \u001b[38;5;241m=\u001b[39m \u001b[38;5;28;01mNone\u001b[39;00m,\n\u001b[1;32m   1137\u001b[0m ) \u001b[38;5;241m-\u001b[39m\u001b[38;5;241m>\u001b[39m Union[AgentFinish, List[Tuple[AgentAction, \u001b[38;5;28mstr\u001b[39m]]]:\n\u001b[1;32m   1138\u001b[0m     \u001b[38;5;28;01mreturn\u001b[39;00m \u001b[38;5;28mself\u001b[39m\u001b[38;5;241m.\u001b[39m_consume_next_step(\n\u001b[0;32m-> 1139\u001b[0m         [\n\u001b[1;32m   1140\u001b[0m             a\n\u001b[1;32m   1141\u001b[0m             \u001b[38;5;28;01mfor\u001b[39;00m a \u001b[38;5;129;01min\u001b[39;00m \u001b[38;5;28mself\u001b[39m\u001b[38;5;241m.\u001b[39m_iter_next_step(\n\u001b[1;32m   1142\u001b[0m                 name_to_tool_map,\n\u001b[1;32m   1143\u001b[0m                 color_mapping,\n\u001b[1;32m   1144\u001b[0m                 inputs,\n\u001b[1;32m   1145\u001b[0m                 intermediate_steps,\n\u001b[1;32m   1146\u001b[0m                 run_manager,\n\u001b[1;32m   1147\u001b[0m             )\n\u001b[1;32m   1148\u001b[0m         ]\n\u001b[1;32m   1149\u001b[0m     )\n",
      "File \u001b[0;32m~/Desktop/aws bedrock/venv/lib/python3.10/site-packages/langchain/agents/agent.py:1224\u001b[0m, in \u001b[0;36mAgentExecutor._iter_next_step\u001b[0;34m(self, name_to_tool_map, color_mapping, inputs, intermediate_steps, run_manager)\u001b[0m\n\u001b[1;32m   1222\u001b[0m     \u001b[38;5;28;01myield\u001b[39;00m agent_action\n\u001b[1;32m   1223\u001b[0m \u001b[38;5;28;01mfor\u001b[39;00m agent_action \u001b[38;5;129;01min\u001b[39;00m actions:\n\u001b[0;32m-> 1224\u001b[0m     \u001b[38;5;28;01myield\u001b[39;00m \u001b[38;5;28;43mself\u001b[39;49m\u001b[38;5;241;43m.\u001b[39;49m\u001b[43m_perform_agent_action\u001b[49m\u001b[43m(\u001b[49m\n\u001b[1;32m   1225\u001b[0m \u001b[43m        \u001b[49m\u001b[43mname_to_tool_map\u001b[49m\u001b[43m,\u001b[49m\u001b[43m \u001b[49m\u001b[43mcolor_mapping\u001b[49m\u001b[43m,\u001b[49m\u001b[43m \u001b[49m\u001b[43magent_action\u001b[49m\u001b[43m,\u001b[49m\u001b[43m \u001b[49m\u001b[43mrun_manager\u001b[49m\n\u001b[1;32m   1226\u001b[0m \u001b[43m    \u001b[49m\u001b[43m)\u001b[49m\n",
      "File \u001b[0;32m~/Desktop/aws bedrock/venv/lib/python3.10/site-packages/langchain/agents/agent.py:1246\u001b[0m, in \u001b[0;36mAgentExecutor._perform_agent_action\u001b[0;34m(self, name_to_tool_map, color_mapping, agent_action, run_manager)\u001b[0m\n\u001b[1;32m   1244\u001b[0m         tool_run_kwargs[\u001b[38;5;124m\"\u001b[39m\u001b[38;5;124mllm_prefix\u001b[39m\u001b[38;5;124m\"\u001b[39m] \u001b[38;5;241m=\u001b[39m \u001b[38;5;124m\"\u001b[39m\u001b[38;5;124m\"\u001b[39m\n\u001b[1;32m   1245\u001b[0m     \u001b[38;5;66;03m# We then call the tool on the tool input to get an observation\u001b[39;00m\n\u001b[0;32m-> 1246\u001b[0m     observation \u001b[38;5;241m=\u001b[39m \u001b[43mtool\u001b[49m\u001b[38;5;241;43m.\u001b[39;49m\u001b[43mrun\u001b[49m\u001b[43m(\u001b[49m\n\u001b[1;32m   1247\u001b[0m \u001b[43m        \u001b[49m\u001b[43magent_action\u001b[49m\u001b[38;5;241;43m.\u001b[39;49m\u001b[43mtool_input\u001b[49m\u001b[43m,\u001b[49m\n\u001b[1;32m   1248\u001b[0m \u001b[43m        \u001b[49m\u001b[43mverbose\u001b[49m\u001b[38;5;241;43m=\u001b[39;49m\u001b[38;5;28;43mself\u001b[39;49m\u001b[38;5;241;43m.\u001b[39;49m\u001b[43mverbose\u001b[49m\u001b[43m,\u001b[49m\n\u001b[1;32m   1249\u001b[0m \u001b[43m        \u001b[49m\u001b[43mcolor\u001b[49m\u001b[38;5;241;43m=\u001b[39;49m\u001b[43mcolor\u001b[49m\u001b[43m,\u001b[49m\n\u001b[1;32m   1250\u001b[0m \u001b[43m        \u001b[49m\u001b[43mcallbacks\u001b[49m\u001b[38;5;241;43m=\u001b[39;49m\u001b[43mrun_manager\u001b[49m\u001b[38;5;241;43m.\u001b[39;49m\u001b[43mget_child\u001b[49m\u001b[43m(\u001b[49m\u001b[43m)\u001b[49m\u001b[43m \u001b[49m\u001b[38;5;28;43;01mif\u001b[39;49;00m\u001b[43m \u001b[49m\u001b[43mrun_manager\u001b[49m\u001b[43m \u001b[49m\u001b[38;5;28;43;01melse\u001b[39;49;00m\u001b[43m \u001b[49m\u001b[38;5;28;43;01mNone\u001b[39;49;00m\u001b[43m,\u001b[49m\n\u001b[1;32m   1251\u001b[0m \u001b[43m        \u001b[49m\u001b[38;5;241;43m*\u001b[39;49m\u001b[38;5;241;43m*\u001b[39;49m\u001b[43mtool_run_kwargs\u001b[49m\u001b[43m,\u001b[49m\n\u001b[1;32m   1252\u001b[0m \u001b[43m    \u001b[49m\u001b[43m)\u001b[49m\n\u001b[1;32m   1253\u001b[0m \u001b[38;5;28;01melse\u001b[39;00m:\n\u001b[1;32m   1254\u001b[0m     tool_run_kwargs \u001b[38;5;241m=\u001b[39m \u001b[38;5;28mself\u001b[39m\u001b[38;5;241m.\u001b[39magent\u001b[38;5;241m.\u001b[39mtool_run_logging_kwargs()\n",
      "File \u001b[0;32m~/Desktop/aws bedrock/venv/lib/python3.10/site-packages/langchain_core/tools.py:452\u001b[0m, in \u001b[0;36mBaseTool.run\u001b[0;34m(self, tool_input, verbose, start_color, color, callbacks, tags, metadata, run_name, run_id, config, **kwargs)\u001b[0m\n\u001b[1;32m    450\u001b[0m \u001b[38;5;28;01mexcept\u001b[39;00m (\u001b[38;5;167;01mException\u001b[39;00m, \u001b[38;5;167;01mKeyboardInterrupt\u001b[39;00m) \u001b[38;5;28;01mas\u001b[39;00m e:\n\u001b[1;32m    451\u001b[0m     run_manager\u001b[38;5;241m.\u001b[39mon_tool_error(e)\n\u001b[0;32m--> 452\u001b[0m     \u001b[38;5;28;01mraise\u001b[39;00m e\n\u001b[1;32m    453\u001b[0m \u001b[38;5;28;01melse\u001b[39;00m:\n\u001b[1;32m    454\u001b[0m     run_manager\u001b[38;5;241m.\u001b[39mon_tool_end(observation, color\u001b[38;5;241m=\u001b[39mcolor, name\u001b[38;5;241m=\u001b[39m\u001b[38;5;28mself\u001b[39m\u001b[38;5;241m.\u001b[39mname, \u001b[38;5;241m*\u001b[39m\u001b[38;5;241m*\u001b[39mkwargs)\n",
      "File \u001b[0;32m~/Desktop/aws bedrock/venv/lib/python3.10/site-packages/langchain_core/tools.py:409\u001b[0m, in \u001b[0;36mBaseTool.run\u001b[0;34m(self, tool_input, verbose, start_color, color, callbacks, tags, metadata, run_name, run_id, config, **kwargs)\u001b[0m\n\u001b[1;32m    406\u001b[0m     parsed_input \u001b[38;5;241m=\u001b[39m \u001b[38;5;28mself\u001b[39m\u001b[38;5;241m.\u001b[39m_parse_input(tool_input)\n\u001b[1;32m    407\u001b[0m     tool_args, tool_kwargs \u001b[38;5;241m=\u001b[39m \u001b[38;5;28mself\u001b[39m\u001b[38;5;241m.\u001b[39m_to_args_and_kwargs(parsed_input)\n\u001b[1;32m    408\u001b[0m     observation \u001b[38;5;241m=\u001b[39m (\n\u001b[0;32m--> 409\u001b[0m         \u001b[43mcontext\u001b[49m\u001b[38;5;241;43m.\u001b[39;49m\u001b[43mrun\u001b[49m\u001b[43m(\u001b[49m\n\u001b[1;32m    410\u001b[0m \u001b[43m            \u001b[49m\u001b[38;5;28;43mself\u001b[39;49m\u001b[38;5;241;43m.\u001b[39;49m\u001b[43m_run\u001b[49m\u001b[43m,\u001b[49m\u001b[43m \u001b[49m\u001b[38;5;241;43m*\u001b[39;49m\u001b[43mtool_args\u001b[49m\u001b[43m,\u001b[49m\u001b[43m \u001b[49m\u001b[43mrun_manager\u001b[49m\u001b[38;5;241;43m=\u001b[39;49m\u001b[43mrun_manager\u001b[49m\u001b[43m,\u001b[49m\u001b[43m \u001b[49m\u001b[38;5;241;43m*\u001b[39;49m\u001b[38;5;241;43m*\u001b[39;49m\u001b[43mtool_kwargs\u001b[49m\n\u001b[1;32m    411\u001b[0m \u001b[43m        \u001b[49m\u001b[43m)\u001b[49m\n\u001b[1;32m    412\u001b[0m         \u001b[38;5;28;01mif\u001b[39;00m new_arg_supported\n\u001b[1;32m    413\u001b[0m         \u001b[38;5;28;01melse\u001b[39;00m context\u001b[38;5;241m.\u001b[39mrun(\u001b[38;5;28mself\u001b[39m\u001b[38;5;241m.\u001b[39m_run, \u001b[38;5;241m*\u001b[39mtool_args, \u001b[38;5;241m*\u001b[39m\u001b[38;5;241m*\u001b[39mtool_kwargs)\n\u001b[1;32m    414\u001b[0m     )\n\u001b[1;32m    415\u001b[0m \u001b[38;5;28;01mexcept\u001b[39;00m ValidationError \u001b[38;5;28;01mas\u001b[39;00m e:\n\u001b[1;32m    416\u001b[0m     \u001b[38;5;28;01mif\u001b[39;00m \u001b[38;5;129;01mnot\u001b[39;00m \u001b[38;5;28mself\u001b[39m\u001b[38;5;241m.\u001b[39mhandle_validation_error:\n",
      "File \u001b[0;32m~/Desktop/aws bedrock/venv/lib/python3.10/site-packages/langchain_core/tools.py:633\u001b[0m, in \u001b[0;36mTool._run\u001b[0;34m(self, run_manager, *args, **kwargs)\u001b[0m\n\u001b[1;32m    624\u001b[0m \u001b[38;5;28;01mif\u001b[39;00m \u001b[38;5;28mself\u001b[39m\u001b[38;5;241m.\u001b[39mfunc:\n\u001b[1;32m    625\u001b[0m     new_argument_supported \u001b[38;5;241m=\u001b[39m signature(\u001b[38;5;28mself\u001b[39m\u001b[38;5;241m.\u001b[39mfunc)\u001b[38;5;241m.\u001b[39mparameters\u001b[38;5;241m.\u001b[39mget(\u001b[38;5;124m\"\u001b[39m\u001b[38;5;124mcallbacks\u001b[39m\u001b[38;5;124m\"\u001b[39m)\n\u001b[1;32m    626\u001b[0m     \u001b[38;5;28;01mreturn\u001b[39;00m (\n\u001b[1;32m    627\u001b[0m         \u001b[38;5;28mself\u001b[39m\u001b[38;5;241m.\u001b[39mfunc(\n\u001b[1;32m    628\u001b[0m             \u001b[38;5;241m*\u001b[39margs,\n\u001b[1;32m    629\u001b[0m             callbacks\u001b[38;5;241m=\u001b[39mrun_manager\u001b[38;5;241m.\u001b[39mget_child() \u001b[38;5;28;01mif\u001b[39;00m run_manager \u001b[38;5;28;01melse\u001b[39;00m \u001b[38;5;28;01mNone\u001b[39;00m,\n\u001b[1;32m    630\u001b[0m             \u001b[38;5;241m*\u001b[39m\u001b[38;5;241m*\u001b[39mkwargs,\n\u001b[1;32m    631\u001b[0m         )\n\u001b[1;32m    632\u001b[0m         \u001b[38;5;28;01mif\u001b[39;00m new_argument_supported\n\u001b[0;32m--> 633\u001b[0m         \u001b[38;5;28;01melse\u001b[39;00m \u001b[38;5;28;43mself\u001b[39;49m\u001b[38;5;241;43m.\u001b[39;49m\u001b[43mfunc\u001b[49m\u001b[43m(\u001b[49m\u001b[38;5;241;43m*\u001b[39;49m\u001b[43margs\u001b[49m\u001b[43m,\u001b[49m\u001b[43m \u001b[49m\u001b[38;5;241;43m*\u001b[39;49m\u001b[38;5;241;43m*\u001b[39;49m\u001b[43mkwargs\u001b[49m\u001b[43m)\u001b[49m\n\u001b[1;32m    634\u001b[0m     )\n\u001b[1;32m    635\u001b[0m \u001b[38;5;28;01mraise\u001b[39;00m \u001b[38;5;167;01mNotImplementedError\u001b[39;00m(\u001b[38;5;124m\"\u001b[39m\u001b[38;5;124mTool does not support sync\u001b[39m\u001b[38;5;124m\"\u001b[39m)\n",
      "Cell \u001b[0;32mIn[40], line 6\u001b[0m, in \u001b[0;36msearch_docs\u001b[0;34m(query)\u001b[0m\n\u001b[1;32m      4\u001b[0m vectorstore \u001b[38;5;241m=\u001b[39m configure_retriever()\n\u001b[1;32m      5\u001b[0m \u001b[38;5;28mprint\u001b[39m(\u001b[38;5;124mf\u001b[39m\u001b[38;5;124m\"\u001b[39m\u001b[38;5;124mquery: \u001b[39m\u001b[38;5;132;01m{\u001b[39;00mquery\u001b[38;5;132;01m}\u001b[39;00m\u001b[38;5;124m\"\u001b[39m)\n\u001b[0;32m----> 6\u001b[0m \u001b[38;5;28;01mif\u001b[39;00m \u001b[43mquery\u001b[49m\u001b[43m[\u001b[49m\u001b[38;5;124;43m\"\u001b[39;49m\u001b[38;5;124;43mvalue\u001b[39;49m\u001b[38;5;124;43m\"\u001b[39;49m\u001b[43m]\u001b[49m:\n\u001b[1;32m      7\u001b[0m     results \u001b[38;5;241m=\u001b[39m vectorstore\u001b[38;5;241m.\u001b[39msimilarity_search(query[\u001b[38;5;124m\"\u001b[39m\u001b[38;5;124mvalue\u001b[39m\u001b[38;5;124m\"\u001b[39m])\n\u001b[1;32m      8\u001b[0m \u001b[38;5;28;01melse\u001b[39;00m:\n",
      "\u001b[0;31mTypeError\u001b[0m: string indices must be integers"
     ]
    }
   ],
   "source": [
    "response = agent.invoke(\n",
    "                {\"input\": \"Hello\"}, {\"callbacks\": [st_callback]}\n",
    "            )\n",
    "            "
   ]
  },
  {
   "cell_type": "code",
   "execution_count": 46,
   "metadata": {},
   "outputs": [
    {
     "data": {
      "text/plain": [
       "[Document(page_content='The Barclays Bank UK Board approves the Barclays Bank UK Group funding plan, internal stress tests, regulatory stress test results, and the \\nBarclays Bank UK contribution to the Barclays Group recovery plan. The Barclays Bank UK PLC ALCO is responsible for monitoring and \\nmanaging liquidity risk in line with the Barclays Bank UK Group’s funding management objectives, funding plan and risk framework. The \\nBarclays UK Risk Committee monitors and reviews the liquidity risk profile and control environment, providing second line oversight of the \\nmanagement of liquidity risk. The Barclays Bank UK PLC Board Risk Committee reviews the risk profile, and reviews liquidity risk appetite at \\nleast annually and the impact of stress scenarios on the Barclays Bank UK Group funding plan/forecast in order to agree the Barclays Bank \\nUK Group’s projected funding abilities.\\nCapital risk management (audited)\\nOverview\\nCapital risk is managed through ongoing monitoring and management of the capital and leverage position, regular stress testing and a \\nrobust capital governance framework. The objectives of the framework are to maintain adequate capital for the Barclays Bank UK Group to \\nwithstand the impact of the risks that may arise under normal and stressed conditions, and maintain adequate capital to cover current and \\nforecast business needs and associated risks to provide a viable and sustainable business offering. The Barclays Bank UK Group  aims to \\nprudently manage its overall leverage position (including risk of excessive leverage) by utilising plausible stress scenarios, reviewing and \\ndeploying management actions in response to deteriorating economic and commercial positions.  In order to manage contingent leverage \\nrisk, the Barclays Bank UK Group considers the context from which the business consumption arises, the impact of client utilisation on \\nleverage and the available actions to manage. \\nOrganisation, roles and responsibilities\\nTreasury has the primary responsibility for managing and monitoring capital adequacy. The Barclays Bank UK Group Treasury and Capital \\nRisk function provides oversight of capital risk. Production of the Barclays Bank UK PLC Internal Capital Adequacy Assessment Process is \\nthe responsibility of Barclays Bank UK Group Treasury.\\nCapital risk management is underpinned by a control framework and policies. Capital plans reflect the capital management strategy and \\nare implemented to deliver on the Barclays Bank UK Group’s objectives, which are aligned to those of Barclays Group. The Barclays Bank UK \\nGroup-specific capital plans are developed in conformance with the Barclays Group control framework and policies for capital risk.\\nThe Barclays Bank UK PLC Board approves the Barclays Bank UK Group capital plan, internal stress tests and results of regulatory stress \\ntests. The Barclays Bank UK PLC Board also approves the recovery options documented in the Barclays Group recovery plan pertaining to \\nthe Barclays Bank UK Group. The Barclays Bank UK PLC ALCO is responsible for monitoring and managing capital risk in line with the \\nBarclays Bank UK Group’s capital management objectives, capital plan and risk frameworks. The Barclays UK Risk Committee monitors and \\nreviews the capital risk profile and control environment, providing second line oversight of the management of capital risk. The Barclays \\nBank UK PLC Board Risk Committee reviews the risk profile, and sets risk appetite at a minimum annually and the impact of stress scenarios \\non the Barclays Bank UK Group capital plan/forecast in order to agree Barclays Bank UK Group’s projected capital resources.\\nManagement assures compliance with minimum regulatory capital requirements  by reporting to the Barclays Bank UK PLC ALCO with \\noversight by the Barclays Group Treasury Committee, as required. In 2023, Barclays complied with all regulatory minimum capital \\nrequirements . Contingent leverage risk is managed by; i) setting comprehensive leverage (and RWA) targets for each business as part of \\nthe Treasury capital management process, taking into account adherence to early warning indicators and maintain a healthy leverage ratio, \\nand; ii) Monitoring execution of actions taken to course-correct as necessary.\\nBarclays Bank UK PLC is a participating employer in the UK Retirement Fund (UKRF), whose assets and liabilities are currently held on the \\nBarclays Bank PLC balance sheet. This participation is expected to cease in 2025. The nature of pension risk for Barclays Bank UK PLC is \\ncontingent, specifically on a Barclays Bank PLC default. Refer to note 28 Staff Costs for further detail.\\nInterest rate risk in the banking book management (IRRBB)\\nOverview\\nInterest rate risk in the banking book is driven by customer deposit taking and lending activities, investments in the liquid asset portfolio \\nand funding activities. As per the Barclays Bank UK Group’s policy to remain within the defined risk appetite, hedging strategies are \\nexecuted to mitigate the various IRRBB risks that result from these activities. However, the Barclays Bank UK Group remains susceptible to \\ninterest rate risk and other non-traded market risks from the following key sources:\\n▪Interest rate and repricing risk : the risk that net interest income could be adversely impacted by a change in interest rates, differences in \\nthe timing of interest rate changes between assets and liabilities, and other constraints on interest rate changes as per product terms and \\nconditions.\\n▪Customer behavioural risk : the risk that net interest income could be adversely impacted by the discretion that customers and \\ncounterparties may have in respect of being able to vary from their contractual obligations with the Barclays Bank UK Group. This risk is \\noften referred to by industry regulators as ‘embedded option risk’.\\n▪Investment risks in the liquid asset portfolio : the risk that the fair value of assets held in the liquid asset portfolio and associated risk \\nmanagement portfolios could be adversely impacted by market volatility, creating volatility in capital directly.\\nOrganisation, roles and responsibilities\\nThe Barclays Bank UK Group ALCO, together with the Barclays Group Treasury Committee, are responsible for monitoring and managing \\nIRRBB risk in line with the Barclays Bank UK Group’s management objectives and risk frameworks. The Barclays UK Risk Committee and \\nTreasury and Capital Risk Committee monitor and review the IRRBB risk profile and control environment, providing second line oversight of \\nthe management of IRRBB. The Barclays Bank UK Group Board Risk Committee reviews the interest rate risk profile, including setting of risk \\nappetite at a minimum annually and the impact of stress scenarios on the interest rate risk of the Barclays Bank UK Group’s banking books.Risk review\\nPrincipal risk management\\nhome.barclays/annualreport 66 Barclays Bank UK PLC Annual Report', metadata={'source': 'reports/Barclays-Bank-UK-Annual-Report-2023-Results-committee.pdf', 'page': 66}),\n",
       " Document(page_content='The Strategic Report was approved by the Board of Directors on 19\\xa0February 2024  and signed on their behalf by the Chair.\\nOverview\\nBarclays Bank UK PLC (the Company) is a wholly-owned subsidiary of Barclays PLC . The consolidation of Barclays Bank UK PLC and its \\nsubsidiaries is referred to as the Barclays Bank UK Group. The term Barclays refers to Barclays PLC, or depending on context the Barclays \\nGroup, and Barclays Group refers to Barclays PLC, together with its subsidiaries. \\nBarclays Bank UK PLC is the ring-fenced bank within the Barclays Group.  The Barclays Bank UK Group contains the majority of the Barclays \\nGroup’s Barclays UK division, including the Personal Banking, Business Banking and Barclaycard Consumer UK businesses other than the \\nBarclays Partner Finance business.\\nOur structure\\nBarclays Bank UK PLC\\nPersonal Banking Business Banking Barclaycard Consumer UK\\nBarclays is one of the most recognisable brands in the UK. We serve customers across a wide range of retail banking needs, from credit \\ncard users, to start-up businesses, to homebuyers getting on the property ladder for the first time.\\nPersonal Banking\\nOffers retail solutions to help customers with their day-to-day banking needs.\\nBusiness Banking\\nServes business clients, from high growth start-ups to small and medium-sized businesses, with specialist advice. \\nBarclaycard Consumer UK\\nA leading credit card provider, offering flexible borrowing and payment solutions, while delivering a leading customer experience. \\nBarclays Bank UK PLC is supported by the Barclays Group service company, Barclays Execution Services Limited (BX), which provides \\ntechnology, operations and functional services to businesses across the Barclays Group.\\nThe world in which we operate\\nBarclays  Bank UK PLC is driven by a common Purpose: working together for a better financial future.  To do so we must\\xa0be strong as an \\ninstitution, prepared for the future, and able to navigate different market conditions and evolving trends.\\nWe continually review our operating environment for emerging trends, and adapt to address them. As part of the Barclays Group in  2021 \\nwe called out  three long-term trends and continue to make good progress preparing for these, as you will find detailed throughout the \\nreport:\\n• The impact of technology on consumer products and services\\n• The role of capital markets as the principal drivers of global growth\\n• The transition of the global economy towards a low-carbon economy\\nMost recently, we have adjusted our strategy and operating model to take account of a number of major trends, as well\\xa0as changes in the \\nenvironment we operate in, and evolving demands from our customers, clients, regulators and shareholders. These include shifts in risk \\nand capital requirements, increasing external appetite to invest in technological advancements, and investor expectations.\\nFocus areas\\n• Offering banking services that meet the needs of today’s and tomorrow’s customers and clients, making money work for them. \\n• Pursuing digital innovation and helping colleagues focus on value-adding customer interactions. \\n• Making our customers’ communities better tomorrow than they are today, and seeking out opportunities for an inclusive and \\nsustainable future.Strategic Report\\nPerformance review\\nhome.barclays/annualreport 2 Barclays Bank UK PLC Annual Report', metadata={'source': 'reports/Barclays-Bank-UK-Annual-Report-2023-Results-committee.pdf', 'page': 2}),\n",
       " Document(page_content='Joint Venture % Note\\nUnited Kingdom\\nAll Saints Triangle, Caledonian Road, London, N1 9UT\\nVaultex UK Limited 50.00 A\\nJoint management factors\\nThe Joint Venture board comprises two Barclays representative directors, two Joint Venture partner directors and three non Joint Venture \\npartner directors. The Board of Directors are responsible for setting the company strategy and budgets. For IFRS purposes, Vaultex is \\naccounted for as a Joint Operation in the Barclays Bank UK Group financial statements.\\nThe last financial year of the above Joint Venture ended on 6 October 2023 and the average number of monthly employees reported in the \\naccounts was 1,216.Notes to the financial statements\\nOther disclosure matters\\nhome.barclays/annualreport 233 Barclays Bank UK PLC Annual Report', metadata={'source': 'reports/Barclays-Bank-UK-Annual-Report-2023-Results-committee.pdf', 'page': 233}),\n",
       " Document(page_content=\"Reporting phishing  \\nCSO performs a number of key activities related to identifying, investigating, responding to and containing phishi ng/malicious email \\nincidents. CSO has embedded an operational process that provides education and awareness content via email to colleagues who click a \\nmalicious link or attachment in a phishing email, with escalating training exercises and management interventions for repeated instances. \\nTo report suspected phishing to Barclays' JOC for further investigation, colleagues have a tool integrated into their email account, and \\ncolleagues receive feedback on whether the reported email was suspect or genuine. CSO also runs monthly phishing simulations to \\nunderstand colleagues' susceptibility to real attacks, using the analysis to refine education and training.\\nTraining\\nBarclays has adopted a 65-day window for mandatory training completion to allow colleagues sufficient time to complete training. The \\nconsequence of non-completion is a breach which can lead to disciplinary action and impact compensation.\\nThe 65-day window covers many different colleague situations, including new joiners, returners from sick leave or parental leave and \\ninternal movers. Some of these situations are required by law to have a reasonable adjustment time to enable the successful completion of \\ntraining. This process is managed by Barclays HR and Compliance.Governance\\nOther Governance\\nhome.barclays/annualreport 39 Barclays Bank UK PLC Annual Report\", metadata={'source': 'reports/Barclays-Bank-UK-Annual-Report-2023-Results-committee.pdf', 'page': 39})]"
      ]
     },
     "execution_count": 46,
     "metadata": {},
     "output_type": "execute_result"
    }
   ],
   "source": [
    "vectorstore.similarity_search(\"Hello\")"
   ]
  },
  {
   "cell_type": "code",
   "execution_count": null,
   "metadata": {},
   "outputs": [],
   "source": []
  },
  {
   "cell_type": "code",
   "execution_count": null,
   "metadata": {},
   "outputs": [],
   "source": []
  },
  {
   "cell_type": "code",
   "execution_count": null,
   "metadata": {},
   "outputs": [],
   "source": []
  },
  {
   "cell_type": "code",
   "execution_count": 26,
   "metadata": {},
   "outputs": [],
   "source": [
    "faiss_index = FAISS.load_local(\"faiss_index_pdfs\", bedrock_embeddings, allow_dangerous_deserialization=True)\n",
    "llm=get_llama2_llm()"
   ]
  },
  {
   "cell_type": "code",
   "execution_count": 32,
   "metadata": {},
   "outputs": [],
   "source": [
    "prompt_template = \"\"\"\n",
    "\n",
    "Human: Use the following pieces of context to provide a \n",
    "concise answer to the question at the end but usse atleast summarize with \n",
    "100 words with detailed explantions. If you don't know the answer, \n",
    "just say that you don't know, don't try to make up an answer.\n",
    "<context>\n",
    "{context}\n",
    "</context\n",
    "\n",
    "Question: {question}\n",
    "\n",
    "Assistant:\"\"\""
   ]
  },
  {
   "cell_type": "code",
   "execution_count": 33,
   "metadata": {},
   "outputs": [
    {
     "data": {
      "text/plain": [
       "PromptTemplate(input_variables=['context', 'question'], template=\"\\n\\nHuman: Use the following pieces of context to provide a \\nconcise answer to the question at the end but usse atleast summarize with \\n100 words with detailed explantions. If you don't know the answer, \\njust say that you don't know, don't try to make up an answer.\\n<context>\\n{context}\\n</context\\n\\nQuestion: {question}\\n\\nAssistant:\")"
      ]
     },
     "execution_count": 33,
     "metadata": {},
     "output_type": "execute_result"
    }
   ],
   "source": [
    "PROMPT = PromptTemplate(\n",
    "    template=prompt_template, input_variables=[\"context\", \"question\"]\n",
    ")\n",
    "PROMPT"
   ]
  },
  {
   "cell_type": "code",
   "execution_count": 36,
   "metadata": {},
   "outputs": [],
   "source": [
    "\n",
    "qa = RetrievalQA.from_chain_type(\n",
    "llm=llm,\n",
    "chain_type=\"stuff\",\n",
    "retriever=faiss_index.as_retriever(\n",
    "    search_type=\"similarity\", search_kwargs={\"k\": 3}\n",
    "),\n",
    "return_source_documents=False,\n",
    "chain_type_kwargs={\"prompt\": PROMPT}\n",
    ")\n",
    "answer=qa({\"query\":\"Hello\"})"
   ]
  },
  {
   "cell_type": "code",
   "execution_count": 37,
   "metadata": {},
   "outputs": [
    {
     "data": {
      "text/plain": [
       "{'query': 'Hello',\n",
       " 'result': \" Hi there! I'm here to help you with any questions you have. What's your question?\"}"
      ]
     },
     "execution_count": 37,
     "metadata": {},
     "output_type": "execute_result"
    }
   ],
   "source": [
    "answer"
   ]
  },
  {
   "cell_type": "code",
   "execution_count": null,
   "metadata": {},
   "outputs": [],
   "source": []
  }
 ],
 "metadata": {
  "kernelspec": {
   "display_name": "Python 3",
   "language": "python",
   "name": "python3"
  },
  "language_info": {
   "codemirror_mode": {
    "name": "ipython",
    "version": 3
   },
   "file_extension": ".py",
   "mimetype": "text/x-python",
   "name": "python",
   "nbconvert_exporter": "python",
   "pygments_lexer": "ipython3",
   "version": "3.10.0"
  }
 },
 "nbformat": 4,
 "nbformat_minor": 2
}

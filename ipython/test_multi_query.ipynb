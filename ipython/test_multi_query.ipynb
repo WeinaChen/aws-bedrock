{
 "cells": [
  {
   "cell_type": "code",
   "execution_count": 3,
   "metadata": {},
   "outputs": [],
   "source": [
    "import os\n",
    "import boto3\n",
    "from dotenv import load_dotenv\n",
    "\n",
    "load_dotenv()\n",
    "\n",
    "## We will be using Titan Embeddings Model To generate Embedding\n",
    "\n",
    "from langchain_community.embeddings import BedrockEmbeddings\n",
    "from langchain.llms.bedrock import Bedrock\n",
    "from langchain_community.chat_models.bedrock import BedrockChat\n",
    "\n",
    "## Data Ingestion\n",
    "\n",
    "import numpy as np\n",
    "from langchain.text_splitter import RecursiveCharacterTextSplitter\n",
    "from langchain_community.document_loaders import PyPDFDirectoryLoader\n",
    "\n",
    "# Vector Embedding And Vector Store\n",
    "# from langchain_community.vectorstores import FAISS\n",
    "from langchain.vectorstores import FAISS\n",
    "\n",
    "## LLm Models\n",
    "from langchain.prompts import PromptTemplate\n",
    "from langchain.chains import RetrievalQA\n",
    "\n",
    "from pypdf import PdfReader\n",
    "from langchain.schema import Document\n"
   ]
  },
  {
   "cell_type": "code",
   "execution_count": 44,
   "metadata": {},
   "outputs": [],
   "source": [
    "\n",
    "## Bedrock Clients\n",
    "bedrock=boto3.client(service_name=\"bedrock-runtime\")\n",
    "bedrock_embeddings=BedrockEmbeddings(model_id=\"amazon.titan-embed-text-v1\",client=bedrock)\n",
    "\n",
    "\n",
    "#Extract PDF Data\n",
    "def extract_pdf_docs(filename):\n",
    "    reader = PdfReader(filename)\n",
    "    docs = []\n",
    "    for i in range(0,len(reader.pages)):\n",
    "        page = reader.pages[i]\n",
    "        docs.append(Document(page_content=page.extract_text()))\n",
    "    return docs\n"
   ]
  },
  {
   "cell_type": "code",
   "execution_count": 12,
   "metadata": {},
   "outputs": [
    {
     "data": {
      "text/plain": [
       "'/Users/narenjhabakh/Desktop/aws bedrock/'"
      ]
     },
     "execution_count": 12,
     "metadata": {},
     "output_type": "execute_result"
    }
   ],
   "source": [
    "src_dir = os.getcwd().replace('ipython','') \n",
    "src_dir"
   ]
  },
  {
   "cell_type": "code",
   "execution_count": 45,
   "metadata": {},
   "outputs": [
    {
     "data": {
      "text/plain": [
       "[Document(page_content=' Bank Internal IT Policy  \\n1. Introduction  This policy outlines the framework for managing ICT and security risks in \\ncompliance with the EBA Guidelines on ICT and security risk management (EBA/GL/2019/04). \\nIt aims to ensure the confidentiality, integrity, and availability of the bank’s ICT systems  and \\ndata.  \\n2. Scope  This policy applies to all ICT systems, services, processes, and staff within the bank, \\nincluding third -party providers and contractors.  \\n3. Governance and Strategy  \\n• Management Body Responsibilities:  The management body is accountable for  the ICT \\nstrategy, ensuring its alignment with the business strategy. It should establish an internal \\ncontrol framework for ICT and security risks, set clear roles and responsibilities, and \\nensure adequate resources and training.  \\n• ICT Strategy:  The ICT stra tegy should define:  \\no The evolution of ICT to support the business strategy.  \\no Key dependencies on third parties.  \\no Information security objectives focusing on systems, services, and infrastructure.  \\n• Action Plans:  Establish action plans to achieve ICT strategy ob jectives, review them \\nperiodically, and communicate them to relevant staff.  \\n4. Risk Management Framework  \\n• Risk Identification and Assessment:  Identify and classify business functions, processes, \\nand information assets. Conduct risk assessments annually and update them upon \\nsignificant changes.  \\no Mapping:  Maintain updated mappings of business functions, processes, and \\ninformation assets.  \\no Classification:  Classify assets based on confidentiality, integrity, and availability.  \\n• Risk Mitigation:  Define and implement measures to mitigate ICT and security risks. \\nContinuously monitor and improve the framework based on lessons learned.  \\no Documentation:  Document the risk management framework and review it \\nannually.  \\no Reporting:  Report risk assessment results and updates to the  management body \\nregularly.  \\n5. Information Security  \\n• Information Security Policy:  Develop a policy defining high -level principles to protect \\ndata confidentiality, integrity, and availability. This policy should include:  \\no Roles and responsibilities of information security management.  \\no Requirements for staff and contractors regarding information security.  \\no Protection measures for critical assets, resources, and sensitive data.  \\n• Logical Security:  Implement procedures for identity and acce ss management, including:  '),\n",
       " Document(page_content=' o Need -to-know, least privilege, and segregation of duties.  \\no User accountability and activity logging.  \\n• Physical Security:  Define measures to protect premises, data centers, and sensitive areas \\nfrom unauthorized access and environment al hazards.  \\no Access Control: Restrict physical access to authorized individuals and review \\naccess rights annually.  \\no Environmental Protection: Implement measures to protect against environmental \\nhazards.  \\n• Security Monitoring:  Establish procedures to detect and  respond to security incidents, \\nincluding continuous monitoring of internal and external factors.  \\no Detection and Reporting: Implement capabilities for detecting and reporting \\nintrusions and breaches.  \\no Threat monitoring and review conducted semi -annually.  \\n• Information Security Reviews:  Conduct regular security reviews, assessments, and \\ntesting to identify vulnerabilities.  \\no Testing framework primarily focuses on network security, with less emphasis on \\napplication security.  \\n6. ICT Operations Management  \\n• ICT Operati ons: Document and implement processes for operating, monitoring, and \\ncontrolling ICT systems. Maintain an up -to-date ICT asset inventory.  \\no Asset Inventory: Detail configuration and interdependencies of ICT assets.  \\no Lifecycle Management: Monitor and manage th e lifecycle of ICT assets, ensuring \\nthey meet business and risk management requirements.  \\no Backup and Restoration: Define and implement backup and restoration \\nprocedures, ensuring secure storage and testing annually.  \\n• Incident and Problem Management:  Establis h processes to monitor and log ICT \\nincidents and problems.  \\no Incident Response: Implement procedures to identify, track, and mitigate \\nincidents.  \\no Problem Management: Identify root causes of incidents and update security \\nmeasures accordingly.  \\n7. Business Continuity Management  \\n• Business Impact Analysis (BIA):  Conduct BIAs to assess potential impacts of severe \\nbusiness disruptions.  \\no Criticality Assessment: Consider the criticality of business functions, processes, \\nand assets.  \\no Redundancy: Design ICT sy stems with redundancy for critical components.  \\n• Continuity Planning:  Develop and document business continuity plans (BCPs) based on \\nBIAs.  \\no Recovery Objectives: Define recovery time and point objectives (RTOs and \\nRPOs).  \\no Scenario Planning: Consider a range of scenarios, including cyber -attacks.  '),\n",
       " Document(page_content=' • Response and Recovery Plans:  Develop response and recovery plans to ensure \\navailability and continuity of critical systems and services.  \\no Short -Term and Long -Term Recovery: Address both short -term and long -term \\nrecovery o ptions.  \\no Third -Party Continuity:  Implement measures to mitigate failures of key third -\\nparty providers, focusing primarily on critical vendors.  \\n• Testing and Maintenance:  Test BCPs annually and update them based on test results, \\nthreat intelligence, and lesson s learned.  \\no Scenario Testing: Include severe but plausible scenarios in tests.  \\no Documentation: Document test results and address deficiencies.  \\n8. Compliance and Reporting  \\n• Audit and Reporting:  Perform periodic audits of ICT governance, systems, and \\nprocesses.  \\no Independent Audits: Ensure audits are conducted by independent auditors with \\nrelevant expertise.  \\no Audit Plan:  Approve and update the audit plan annually, focusing primarily on \\nfinancial and operational aspects.  \\no Follow -Up: Establish a follow -up process for critical audit findings.  \\n• Regulatory Compliance:  Ensure compliance with relevant EU and national regulations.  \\no Notifications: Submit compliance notifications as required and report changes in \\ncompliance status.  \\n9. Training and Awareness  \\n• Training Program:  Implement a training program for all staff and contractors to ensure \\nawareness of ICT and security risks and responsibilities.  \\no Frequency: Provide training annually.  \\no Content:  Cover security policies, procedures, and general information about \\ninform ation security risks.  \\n ')]"
      ]
     },
     "execution_count": 45,
     "metadata": {},
     "output_type": "execute_result"
    }
   ],
   "source": [
    "test_docs = extract_pdf_docs(src_dir + 'B.pdf')\n",
    "test_docs"
   ]
  },
  {
   "cell_type": "code",
   "execution_count": 16,
   "metadata": {},
   "outputs": [],
   "source": [
    "path_index = src_dir + 'faiss_index_guidelines'\n",
    "vectorstore = FAISS.load_local(path_index, bedrock_embeddings, allow_dangerous_deserialization=True)"
   ]
  },
  {
   "cell_type": "code",
   "execution_count": 22,
   "metadata": {},
   "outputs": [],
   "source": [
    "retriever = vectorstore.as_retriever(search_kwargs={\"k\": 3})"
   ]
  },
  {
   "cell_type": "code",
   "execution_count": 25,
   "metadata": {},
   "outputs": [
    {
     "data": {
      "text/plain": [
       "[Document(page_content='FINAL REPORT  ON GUIDELINES ON ICT AND SECURITY RISK MA NAGEMENT   \\n \\n4 \\n \\nThese guidelines provide detail s on how financial institutions should comply  in order  to address ICT \\nand security risk s, with the following  provisions in the Capital Requirements Directive (CRD ) and \\nPSD2: \\n(i) Article  74 of Directive  2013/36/EU (CRD) , which strengthens the governance requirements for \\ninstitutions , including the requirements to have robust governance arrangements with a clear \\norganisational structure with well -defined, transparent and consistent lines of responsibility and  \\neffective processes to identify, manage, monitor and report the risk they are or might be exposed \\nto;  \\n(ii) Article  95 of Directive  2015/2366/EU (PSD2) , which contains explicit provisions for the \\nmanagement of operation and secu rity risks that requir e PSPs to have appropriate mitigation \\nmeasures and control mechanisms to manage the operational and security risks and includes a \\nmandate for the EBA to develop guidelines on this topic.  \\nThese guidelines specify the above -mentioned requirements as follows:  \\nSection  3.1 sets out the proportionate application of these guidelines , recognising the potential \\nvariation in size , complexity , inter nal organisation, nature, scope  and riskiness of the servic es and \\nproducts between financial institutions . \\nSection  3.2 of the guidelines focuses on the management and mitigation of ICT and security risk s \\nthrough establishing sound internal governance and an internal control framework that sets clear \\nresponsibiliti es for financial institutions ’ staff , including for the management bodies. It requires the \\nestablishment of the financial institutions’ ICT strategy, which should be aligned with their overall \\nbusiness strategy. The guidelines also remind financial institutions  to ensure the effectiveness of \\nthe risk -mitigating measures, as defined by their risk management framework, when outsourcing \\nor using third party providers. This should be set out in contracts and service  level agreements. \\nNevertheless, financ ial institutions  should monitor and seek assurance of the level of compliance.  \\nSection  3.3 requires financial institution s to manage and mitigate  ICT and security risks through an \\nindependent and objective control function, appropriately segregated from IC T operations \\nprocesses and not responsible for any internal audit, and  an independent internal audit function.  It \\nrequires financial institutions  to maintain up dated  mapping  of their business functions, supporting \\nprocesses and information assets  and to classify them in terms of criticality, based on the \\nconfidentiality, integrity and availability of data. Based on this, financial institutions should assess \\nthe operational risks related to ICT and the security risk s that impact them  and should determine \\nwhat measures are required to mitigate the identified risks.  \\nSection  3.4 sets out requirements for information security to the extent that the information is held \\non ICT systems. This section defines requirements to implement effective information security \\nmeasures, including having an information security policy in place ; establishing, implementing and \\ntesting information security measures; and establishing a training programme for all staff  and \\ncontractors . \\nSection  3.5 specif ies high -level principles on how ICT operations should be managed, including \\nrequirements to improve , when possible , the efficiency of ICT operations ; implement logging and \\nmonitoring procedures for critical ICT operations ; maintain an up', metadata={'source': 'guidelines/Final draft Guidelines on ICT and security risk management.pdf', 'page': 3}),\n",
       " Document(page_content='FINAL REPORT  ON GUIDELINES ON ICT AND SECURITY RISK MA NAGEMENT   \\n \\n3 \\n \\n1. Executive summary  \\nThe c omplexity of information and communication technology ( ICT) and security risks is increasing \\nand the frequency of ICT and security -related incidents (including cyber incidents) is rising , together \\nwith their potential significant adverse impact  on financial institutions ’ operational functioning. \\nMoreover, due to the interconnectedness of financial institutions , ICT and security -relate d \\nincidents risk causing potential systemic impact s. The EBA has responded to this by detailing how \\nsupervisors should cover ICT and security risk s within supervision (EBA/GL/2017/05), by detailing \\nhow financial institutions should manage outsourcing (EBA/ GL/2019/02) and by describing the \\nexpectation s for ICT and security risk management for the financial institutions in these guidelines . \\nThese guidelines set out how financial institutions  should manage the ICT and security risk s that \\nthey are exposed to. In addition, this guidance aims to provide the financial institutions to which \\nthe guidelines apply  with a better understanding of supervisory expectations for the management \\nof ICT and security risk s. \\nThese guidelines integrate  and are built on the requirements set out in the ‘Guidelines on security \\nmeasures for operational and security risks of payment services ’ (hereafter ‘Guidelines on security \\nmeasures ’), which were published in December 2017 (EBA /GL/2017/17) and which have appl ied \\nsince January 2018 in fulfilment of the mandate in Article  95(3) of Directive  2015/2366/EU (PSD2) . \\nThose guidelines were addressed to payment service providers (PSPs ), and only applied to their \\npayment services ; however , they were  in fact relevant to a broader set of institutions. For that \\nreason, these guidelines have been formulated to be addressed to a broader range of financial \\ninstitutions  under the EBA ’s remit  (namely to credit institutions wh ich already fell within  the scope \\nof the guidelines  on security measures for their payment services , but for wh ich these guidelines \\nwill now apply for all activities) and to investment firms.  These guidelines continue to apply to PSPs \\nfor the payment services they provide ; they extend to other activities o f credit institutions and also \\napply to investment firms for all activities.  Collectively, the guidelines apply to financial institutions \\nas set out in paragraph  9 under the addressees section.  \\nThe term ‘ICT and security risk s’ addresses  the operational an d security risks mandate of Article  95 \\nof the r evised Payments Services Directive (PSD2 ). This term recognises that the operational risks \\nfor payment services refer predominantly to ICT and security risk s because of the electronic nature \\nof payment services  (over ICT systems).  For this reason, these guidelines refer to ‘ICT and security \\nrisk’ instead of ‘operational and security risk’ to avoid confusion with wider operational risk issues , \\nsuch as  conduct risk, legal risk and reputational risk. Furthe rmore, security risks may stem from \\ninadequate or failed internal processes or exter nal events , but ultimately it is their  impact on \\nsystems and data that is relevant. The definition of ‘ICT and security risk ’ is based on the definition \\nin the EBA Guidelines on the revised common procedures and methodologies for the supervisory \\nreview and evaluation process and supervisory stress testing (EBA /GL/2018/03) ; thus , it \\nencompasses data integrity risk but includes additional details to clarify that it covers the impact \\nderiving from security risks.', metadata={'source': 'guidelines/Final draft Guidelines on ICT and security risk management.pdf', 'page': 2}),\n",
       " Document(page_content='FINAL REPORT ON GUIDELINES ON ICT AND SECURITY RISK MA NAGEMENT   \\n \\n 16 \\nindependence and objectivity of this control function b y appropriately segregating it from ICT \\noperations processes. This control function should be directly accountable to the management \\nbody and responsible for monitoring and controlling adherence to the ICT and security risk \\nmanagement framework. It should ensure that ICT and security risks are identified, measured, \\nassessed, managed, monitored and reported. Financial institutions should ensure that this \\ncontrol function is not responsible for any internal audit.  \\nThe i nternal audit function should , following a risk -based approach, have the capacity to \\nindependently review and provide objective assurance of the compliance of all ICT and security -\\nrelated activities and units of a financial institution  with the financial institution ’s policies and \\nprocedures and with external requirements, adhering to the requirements of Section  22 of the \\nEBA Guidelines on internal governance (EBA/GL/2017/11) . \\n12. Financial institutions  should define and assign key roles and responsibilities, and relevant \\nreporting lines , for the ICT and security risk management framework to be effective. This \\nframework should be fully integrated into , and aligned with,  financial  institutions ’ overall risk \\nmanagement processes.  \\n13. The ICT and security risk  management framework should  include  processes in place to : \\na) determine the risk appetite for ICT and security risk s, in accordance with the risk appetite \\nof the financial  institution ; \\nb) identify and assess the ICT and security risk s to which a financial institution  is exposed ; \\nc) define mitigation  measures, including controls,  to mitigate  ICT and security risk s; \\nd) monitor the  effectiveness of these measures as well as  the number of reported  incidents, \\nincluding for PSPs the incidents reported in accordance with Article  96 of PSD2 affecting \\nthe ICT -related activities , and tak e action to correct the  measures  where necessary;  \\ne) report to the management body on the ICT and security risk s and controls ; \\nf) identify and assess whether there are any ICT and security risks resulting from any major \\nchange in ICT s ystem or ICT services, processes or procedure s, and/or after any significant \\noperational or security incident.  \\n \\n14. Financial institutions should ensure that the ICT and security risk  management framework is \\ndocumented, and continuously improved , based on ‘lessons learned ’ during its implementation \\nand monitoring. The ICT and security risk  management framework should be approved and \\nreviewed, at least once a year, by the management body . \\n3.3.2.  Identification  of functions, processes and assets  \\n15. Financial institutions  should identify, establish  and maintain up dated  mapping  of their business \\nfunctions, roles and supporting  processes to  identify  the importance of each  and their \\ninterdependencies related to ICT and security risk s. \\n16. In addition, financial institutions  shoul d identify, establish and maintain update d mapping of \\nthe information assets supporting their business  functions and supporting  processes, such as \\nICT systems, staff , contractors, third parties and dependencies on other internal and external \\nsystems and pr ocesses, to be able to , at least , manage the  information  assets that support their \\ncritical business functions and processes.', metadata={'source': 'guidelines/Final draft Guidelines on ICT and security risk management.pdf', 'page': 15})]"
      ]
     },
     "execution_count": 25,
     "metadata": {},
     "output_type": "execute_result"
    }
   ],
   "source": [
    "docs = retriever.get_relevant_documents(test_docs[0].page_content)\n",
    "docs"
   ]
  },
  {
   "cell_type": "code",
   "execution_count": 26,
   "metadata": {},
   "outputs": [
    {
     "data": {
      "text/plain": [
       "[Document(page_content='FINAL REPORT  ON GUIDELINES ON ICT AND SECURITY RISK MA NAGEMENT   \\n \\n4 \\n \\nThese guidelines provide detail s on how financial institutions should comply  in order  to address ICT \\nand security risk s, with the following  provisions in the Capital Requirements Directive (CRD ) and \\nPSD2: \\n(i) Article  74 of Directive  2013/36/EU (CRD) , which strengthens the governance requirements for \\ninstitutions , including the requirements to have robust governance arrangements with a clear \\norganisational structure with well -defined, transparent and consistent lines of responsibility and  \\neffective processes to identify, manage, monitor and report the risk they are or might be exposed \\nto;  \\n(ii) Article  95 of Directive  2015/2366/EU (PSD2) , which contains explicit provisions for the \\nmanagement of operation and secu rity risks that requir e PSPs to have appropriate mitigation \\nmeasures and control mechanisms to manage the operational and security risks and includes a \\nmandate for the EBA to develop guidelines on this topic.  \\nThese guidelines specify the above -mentioned requirements as follows:  \\nSection  3.1 sets out the proportionate application of these guidelines , recognising the potential \\nvariation in size , complexity , inter nal organisation, nature, scope  and riskiness of the servic es and \\nproducts between financial institutions . \\nSection  3.2 of the guidelines focuses on the management and mitigation of ICT and security risk s \\nthrough establishing sound internal governance and an internal control framework that sets clear \\nresponsibiliti es for financial institutions ’ staff , including for the management bodies. It requires the \\nestablishment of the financial institutions’ ICT strategy, which should be aligned with their overall \\nbusiness strategy. The guidelines also remind financial institutions  to ensure the effectiveness of \\nthe risk -mitigating measures, as defined by their risk management framework, when outsourcing \\nor using third party providers. This should be set out in contracts and service  level agreements. \\nNevertheless, financ ial institutions  should monitor and seek assurance of the level of compliance.  \\nSection  3.3 requires financial institution s to manage and mitigate  ICT and security risks through an \\nindependent and objective control function, appropriately segregated from IC T operations \\nprocesses and not responsible for any internal audit, and  an independent internal audit function.  It \\nrequires financial institutions  to maintain up dated  mapping  of their business functions, supporting \\nprocesses and information assets  and to classify them in terms of criticality, based on the \\nconfidentiality, integrity and availability of data. Based on this, financial institutions should assess \\nthe operational risks related to ICT and the security risk s that impact them  and should determine \\nwhat measures are required to mitigate the identified risks.  \\nSection  3.4 sets out requirements for information security to the extent that the information is held \\non ICT systems. This section defines requirements to implement effective information security \\nmeasures, including having an information security policy in place ; establishing, implementing and \\ntesting information security measures; and establishing a training programme for all staff  and \\ncontractors . \\nSection  3.5 specif ies high -level principles on how ICT operations should be managed, including \\nrequirements to improve , when possible , the efficiency of ICT operations ; implement logging and \\nmonitoring procedures for critical ICT operations ; maintain an up', metadata={'source': 'guidelines/Final draft Guidelines on ICT and security risk management.pdf', 'page': 3}),\n",
       " Document(page_content='FINAL REPORT ON GUIDELINES ON ICT AND SECURITY RISK MA NAGEMENT   \\n \\n 16 \\nindependence and objectivity of this control function b y appropriately segregating it from ICT \\noperations processes. This control function should be directly accountable to the management \\nbody and responsible for monitoring and controlling adherence to the ICT and security risk \\nmanagement framework. It should ensure that ICT and security risks are identified, measured, \\nassessed, managed, monitored and reported. Financial institutions should ensure that this \\ncontrol function is not responsible for any internal audit.  \\nThe i nternal audit function should , following a risk -based approach, have the capacity to \\nindependently review and provide objective assurance of the compliance of all ICT and security -\\nrelated activities and units of a financial institution  with the financial institution ’s policies and \\nprocedures and with external requirements, adhering to the requirements of Section  22 of the \\nEBA Guidelines on internal governance (EBA/GL/2017/11) . \\n12. Financial institutions  should define and assign key roles and responsibilities, and relevant \\nreporting lines , for the ICT and security risk management framework to be effective. This \\nframework should be fully integrated into , and aligned with,  financial  institutions ’ overall risk \\nmanagement processes.  \\n13. The ICT and security risk  management framework should  include  processes in place to : \\na) determine the risk appetite for ICT and security risk s, in accordance with the risk appetite \\nof the financial  institution ; \\nb) identify and assess the ICT and security risk s to which a financial institution  is exposed ; \\nc) define mitigation  measures, including controls,  to mitigate  ICT and security risk s; \\nd) monitor the  effectiveness of these measures as well as  the number of reported  incidents, \\nincluding for PSPs the incidents reported in accordance with Article  96 of PSD2 affecting \\nthe ICT -related activities , and tak e action to correct the  measures  where necessary;  \\ne) report to the management body on the ICT and security risk s and controls ; \\nf) identify and assess whether there are any ICT and security risks resulting from any major \\nchange in ICT s ystem or ICT services, processes or procedure s, and/or after any significant \\noperational or security incident.  \\n \\n14. Financial institutions should ensure that the ICT and security risk  management framework is \\ndocumented, and continuously improved , based on ‘lessons learned ’ during its implementation \\nand monitoring. The ICT and security risk  management framework should be approved and \\nreviewed, at least once a year, by the management body . \\n3.3.2.  Identification  of functions, processes and assets  \\n15. Financial institutions  should identify, establish  and maintain up dated  mapping  of their business \\nfunctions, roles and supporting  processes to  identify  the importance of each  and their \\ninterdependencies related to ICT and security risk s. \\n16. In addition, financial institutions  shoul d identify, establish and maintain update d mapping of \\nthe information assets supporting their business  functions and supporting  processes, such as \\nICT systems, staff , contractors, third parties and dependencies on other internal and external \\nsystems and pr ocesses, to be able to , at least , manage the  information  assets that support their \\ncritical business functions and processes.', metadata={'source': 'guidelines/Final draft Guidelines on ICT and security risk management.pdf', 'page': 15}),\n",
       " Document(page_content='FINAL REPORT ON GUIDELINES ON ICT AND SECURITY RISK MA NAGEMENT   \\n \\n 13 \\nImplementation  \\nDate of applicat ion \\n11. These guidelines apply from 30 June 2020 . \\nRepeal  \\n12. The Guidelines on security measures for operational and security risks (EBA /GL/2017/17) \\nissued in 2017 will be repealed by these guidelines at the date that these guidelines become \\napplicable.  \\n                                                                                                          \\n4 Definition from G7 fundamental elements for third party cyber risk management in the financial sector . \\n5 Definition from Guidelines on ICT Risk Assessment under the Supervisory Review and Evaluation process (SREP) \\n(EBA/GL/ 2017/05 ). \\n6 ibid. (c) For PSPs referred to in points  (c), (e) and (f) of Article  1(1) of \\nDirective (EU)  2015/2366, this term has the meaning conferred \\non it by the applicable EU or national law.  \\nRisk appetite  The aggregate level and types of risk that the PSPs and \\ninstitutions are willing to assume within their risk capacity, in line \\nwith their business model, to achieve their strategic objectives.  \\nAudit function  (a) For credit institutions and investment firms, the audit function \\nis as referred to in Section  22 of the EBA guidelines on internal \\ngovernance (EBA /GL/2017 /11). \\n(b) For PSPs other than credit institutions, the audit function must \\nbe independent within or from the PSP and may be an internal \\nand/ or an external audit function.  \\nICT projects  Any p roject, or part thereof, where ICT systems and services are \\nchanged, replaced , dismissed or implemented. ICT projects can \\nbe part of wider ICT or business transformation programmes.  \\nThird party  An organisation that has entered into business relationships or \\ncontracts with an entity to provide a product or service4. \\nInformation asset  A collection of information, either tangible or intangible, that is \\nworth protecting.  \\nICT asset  An asset of either software or hardware that is found in the \\nbusiness environment.  \\nICT systems5 ICT set -up as part of a mechanism or an interconnecting network \\nthat support s the operations of a financial institution.  \\nICT service s6 Services provided by ICT systems to one or more internal or \\nexternal users. Examples include data entry, data storage, data \\nprocessing and reporting services, but also monitoring, and \\nbusiness and decision support services .', metadata={'source': 'guidelines/Final draft Guidelines on ICT and security risk management.pdf', 'page': 12})]"
      ]
     },
     "execution_count": 26,
     "metadata": {},
     "output_type": "execute_result"
    }
   ],
   "source": [
    "docs = retriever.get_relevant_documents(test_docs[1].page_content)\n",
    "docs"
   ]
  },
  {
   "cell_type": "code",
   "execution_count": 50,
   "metadata": {},
   "outputs": [],
   "source": [
    "prompt_template_compliance_chunks = \"\"\"\n",
    "Imagine you are a compliance officer for a bank checking if policies and guidelines are being met.\n",
    "Check the sections of the following document on whether the policies and guidelines are being met.\n",
    "<question>\n",
    "{question}\n",
    "</question\n",
    "\n",
    "The following are the policies and guidelines to be checked against:\n",
    "<context>\n",
    "{context}\n",
    "</context\n",
    "\n",
    "Provide a high level response of the question with a single word - Yes, No or Partially Compliant.\n",
    "Provide a detailed summary under the high level response for the non compliant or partially compliant \n",
    "sections of the context with quoted reference from the context above and suggested change. \n",
    "Please refer only to the document. \n",
    "Please be formal in your response. \n",
    "Please avoid any biases.\n",
    "Assistant:\"\"\""
   ]
  },
  {
   "cell_type": "code",
   "execution_count": 51,
   "metadata": {},
   "outputs": [],
   "source": [
    "PROMPT1 = PromptTemplate(\n",
    "    template=prompt_template_compliance_chunks, input_variables=[\"context\", \"question\"]\n",
    ")"
   ]
  },
  {
   "cell_type": "code",
   "execution_count": 37,
   "metadata": {},
   "outputs": [],
   "source": [
    "def get_response_llm(llm,vectorstore_faiss,query, PROMPT):\n",
    "    qa = RetrievalQA.from_chain_type(\n",
    "    llm=llm,\n",
    "    chain_type=\"stuff\",\n",
    "    retriever=vectorstore_faiss.as_retriever(\n",
    "        search_type=\"similarity\", search_kwargs={\"k\": 1}\n",
    "    ),\n",
    "    return_source_documents=True,\n",
    "    chain_type_kwargs={\"prompt\": PROMPT}\n",
    ")\n",
    "    answer=qa({\"query\":query})\n",
    "    return answer['result']"
   ]
  },
  {
   "cell_type": "code",
   "execution_count": 38,
   "metadata": {},
   "outputs": [],
   "source": [
    "def get_claude_llm():\n",
    "    ##create the Anthropic Model\n",
    "    llm=BedrockChat(model_id=\"anthropic.claude-3-sonnet-20240229-v1:0\",client=bedrock,\n",
    "                model_kwargs={'max_tokens':1000})\n",
    "    \n",
    "    return llm"
   ]
  },
  {
   "cell_type": "code",
   "execution_count": 42,
   "metadata": {},
   "outputs": [
    {
     "name": "stdout",
     "output_type": "stream",
     "text": [
      "1\n",
      "2\n",
      "3\n"
     ]
    }
   ],
   "source": [
    "responses = {}\n",
    "for chunk, doc in enumerate(test_docs):\n",
    "    print(chunk+1)\n",
    "    responses[f'Chunk{chunk+1}'] = get_response_llm(get_claude_llm(),vectorstore,doc.page_content, PROMPT1)"
   ]
  },
  {
   "cell_type": "code",
   "execution_count": 43,
   "metadata": {},
   "outputs": [
    {
     "data": {
      "text/plain": [
       "{'Chunk1': 'Partially Compliant\\n\\nDetailed summary:\\n\\nThe provided context partially covers the policies outlined in the question. The following sections are not fully compliant or missing:\\n\\n1. Section 3 - Governance and Strategy:\\nThe context does not explicitly mention the requirements stated in the question regarding the management body\\'s accountability for the ICT strategy, ensuring its alignment with the business strategy, establishing an internal control framework, setting clear roles and responsibilities, and ensuring adequate resources and training.\\n\\nSuggested change: Include details on the management body\\'s responsibilities as per the question.\\n\\n2. Section 4 - Risk Management Framework:\\nThe context covers risk identification, assessment, and mitigation. However, it does not mention the specific requirements stated in the question, such as maintaining updated mappings of business functions, processes, and information assets, classifying assets based on confidentiality, integrity, and availability, and documenting and reviewing the risk management framework annually.\\n\\nSuggested change: Incorporate the specific requirements mentioned in the question regarding asset mapping, classification, and documentation/review of the risk management framework.\\n\\n3. Section 5 - Information Security:\\nThe context covers information security measures, including an information security policy, logical security, and staff training. However, it does not explicitly mention the requirements stated in the question regarding the information security policy\\'s content, such as roles and responsibilities, requirements for staff and contractors, and protection measures for critical assets, resources, and sensitive data.\\n\\nQuoted reference: \"Section 3.4 sets out requirements for information security to the extent that the information is held on ICT systems. This section defines requirements to implement effective information security measures, including having an information security policy in place; establishing, implementing and testing information security measures; and establishing a training programme for all staff and contractors.\"\\n\\nSuggested change: Include the specific requirements for the information security policy\\'s content as per the question.\\n\\nPlease note that this assessment is based solely on the provided context and question, and any additional information or clarification may lead to a different evaluation.',\n",
       " 'Chunk2': 'Partially Compliant\\n\\nThe provided document does not fully address all the policies and guidelines mentioned in the question. Here\\'s a detailed summary of the non-compliant or partially compliant sections:\\n\\n1. Access Control and User Accountability:\\nThe document does not explicitly mention the policies related to \"need-to-know, least privilege, and segregation of duties\" or \"user accountability and activity logging.\" It lacks specific guidelines on access control and user accountability measures.\\n\\nSuggested change: Include guidelines on implementing the principles of need-to-know, least privilege, and segregation of duties for access control. Additionally, mandate procedures for user accountability and activity logging to track user actions and ensure traceability.\\n\\n2. Physical Security:\\nThe document does not provide any guidelines or requirements related to physical security measures, such as access control to premises, data centers, and sensitive areas, or environmental protection against hazards.\\n\\nSuggested change: Incorporate guidelines on physical security controls, including access restrictions to authorized individuals, periodic access rights reviews, and measures to protect against environmental hazards.\\n\\n3. Security Monitoring:\\nThe document partially covers security monitoring by mentioning the need for financial institutions to \"maintain updated mapping of their business functions, supporting processes and information assets and to classify them in terms of criticality, based on the confidentiality, integrity and availability of data\" (Section 3.3). However, it does not explicitly mention continuous monitoring of internal and external factors, detection and reporting of intrusions and breaches, or threat monitoring and review.\\n\\nSuggested change: Expand the guidelines to include specific requirements for continuous security monitoring, detection and reporting of security incidents and breaches, and periodic threat monitoring and review processes.\\n\\n4. Information Security Reviews:\\nThe document does not provide any guidance on conducting regular security reviews, assessments, and testing to identify vulnerabilities. It also does not mention the testing framework or its focus areas.\\n\\nSuggested change: Incorporate guidelines on conducting regular security reviews, assessments, and testing, including the scope and focus areas of the testing framework (e.g., network security, application security).\\n\\nThe document aligns with the guidelines mentioned in the question for the following sections:\\n- ICT Operations Management\\n- Business Continuity Management\\n\\nPlease note that this assessment is based solely on the provided context and may not reflect the complete set of policies and guidelines implemented by the financial institution.',\n",
       " 'Chunk3': 'Partially Compliant\\n\\nDetailed Summary:\\n\\n1. Response and Recovery Plans:\\n   - No specific mention of developing response and recovery plans for ensuring availability and continuity of critical systems and services.\\n   - Suggested change: Include a requirement to develop response and recovery plans that address short-term and long-term recovery options and measures to mitigate failures of critical third-party providers.\\n\\n2. Testing and Maintenance:\\n   - No specific mention of testing BCPs annually and updating them based on test results, threat intelligence, and lessons learned.\\n   - Suggested change: Include a requirement to test BCPs annually, including severe but plausible scenarios, document test results, and address deficiencies.\\n\\n3. Audit and Reporting:\\n   - The context partially covers this section. It states in Section 3.3: \"It requires financial institutions to maintain updated mapping of their business functions, supporting processes and information assets and to classify them in terms of criticality, based on the confidentiality, integrity and availability of data.\"\\n   - It also mentions in Section 3.3: \"Based on this, financial institutions should assess the operational risks related to ICT and the security risks that impact them and should determine what measures are required to mitigate the identified risks.\"\\n   - However, there is no specific mention of periodic audits by independent auditors, approving and updating an audit plan annually, or establishing a follow-up process for critical audit findings.\\n   - Suggested change: Include explicit requirements for periodic independent audits, approving and updating an audit plan annually (focusing primarily on financial and operational aspects), and establishing a follow-up process for critical audit findings.\\n\\n4. Regulatory Compliance:\\n   - The context partially covers this section. It mentions in the introduction: \"These guidelines provide details on how financial institutions should comply in order to address ICT and security risks, with the following provisions in the Capital Requirements Directive (CRD) and PSD2.\"\\n   - However, there is no specific mention of submitting compliance notifications as required or reporting changes in compliance status.\\n   - Suggested change: Include a requirement to submit compliance notifications as required and report changes in compliance status.\\n\\n5. Training and Awareness:\\n   - The context partially covers this section. It states in Section 3.4: \"This section defines requirements to implement effective information security measures, including... establishing a training programme for all staff and contractors.\"\\n   - However, there is no specific mention of providing training annually or covering security policies, procedures, and general information about information security risks.\\n   - Suggested change: Include a requirement to provide training annually, covering security policies, procedures, and general information about information security risks.\\n\\nPlease note that the above assessment is based solely on the provided context, and any additional information or clarification may lead to a different evaluation.'}"
      ]
     },
     "execution_count": 43,
     "metadata": {},
     "output_type": "execute_result"
    }
   ],
   "source": [
    "responses"
   ]
  },
  {
   "cell_type": "code",
   "execution_count": 46,
   "metadata": {},
   "outputs": [],
   "source": [
    "def extract_pdf(filename):\n",
    "    '''\n",
    "    Extract all text of the PDF Data into one string\n",
    "    args : \n",
    "        filname - name of the .pdf file\n",
    "    returns:\n",
    "        all_text - string output of all the text\n",
    "    '''\n",
    "    reader = PdfReader(filename)\n",
    "    all_text = \" \"\n",
    "    for i in range(0,len(reader.pages)):\n",
    "        page = reader.pages[i]\n",
    "        all_text = all_text + page.extract_text()\n",
    "    return all_text"
   ]
  },
  {
   "cell_type": "code",
   "execution_count": 49,
   "metadata": {},
   "outputs": [
    {
     "name": "stdout",
     "output_type": "stream",
     "text": [
      "  Bank Internal IT Policy  \n",
      "1. Introduction  This policy outlines the framework for managing ICT and security risks in \n",
      "compliance with the EBA Guidelines on ICT and security risk management (EBA/GL/2019/04). \n",
      "It aims to ensure the confidentiality, integrity, and availability of the bank’s ICT systems  and \n",
      "data.  \n",
      "2. Scope  This policy applies to all ICT systems, services, processes, and staff within the bank, \n",
      "including third -party providers and contractors.  \n",
      "3. Governance and Strategy  \n",
      "• Management Body Responsibilities:  The management body is accountable for  the ICT \n",
      "strategy, ensuring its alignment with the business strategy. It should establish an internal \n",
      "control framework for ICT and security risks, set clear roles and responsibilities, and \n",
      "ensure adequate resources and training.  \n",
      "• ICT Strategy:  The ICT stra tegy should define:  \n",
      "o The evolution of ICT to support the business strategy.  \n",
      "o Key dependencies on third parties.  \n",
      "o Information security objectives focusing on systems, services, and infrastructure.  \n",
      "• Action Plans:  Establish action plans to achieve ICT strategy ob jectives, review them \n",
      "periodically, and communicate them to relevant staff.  \n",
      "4. Risk Management Framework  \n",
      "• Risk Identification and Assessment:  Identify and classify business functions, processes, \n",
      "and information assets. Conduct risk assessments annually and update them upon \n",
      "significant changes.  \n",
      "o Mapping:  Maintain updated mappings of business functions, processes, and \n",
      "information assets.  \n",
      "o Classification:  Classify assets based on confidentiality, integrity, and availability.  \n",
      "• Risk Mitigation:  Define and implement measures to mitigate ICT and security risks. \n",
      "Continuously monitor and improve the framework based on lessons learned.  \n",
      "o Documentation:  Document the risk management framework and review it \n",
      "annually.  \n",
      "o Reporting:  Report risk assessment results and updates to the  management body \n",
      "regularly.  \n",
      "5. Information Security  \n",
      "• Information Security Policy:  Develop a policy defining high -level principles to protect \n",
      "data confidentiality, integrity, and availability. This policy should include:  \n",
      "o Roles and responsibilities of information security management.  \n",
      "o Requirements for staff and contractors regarding information security.  \n",
      "o Protection measures for critical assets, resources, and sensitive data.  \n",
      "• Logical Security:  Implement procedures for identity and acce ss management, including:   o Need -to-know, least privilege, and segregation of duties.  \n",
      "o User accountability and activity logging.  \n",
      "• Physical Security:  Define measures to protect premises, data centers, and sensitive areas \n",
      "from unauthorized access and environment al hazards.  \n",
      "o Access Control: Restrict physical access to authorized individuals and review \n",
      "access rights annually.  \n",
      "o Environmental Protection: Implement measures to protect against environmental \n",
      "hazards.  \n",
      "• Security Monitoring:  Establish procedures to detect and  respond to security incidents, \n",
      "including continuous monitoring of internal and external factors.  \n",
      "o Detection and Reporting: Implement capabilities for detecting and reporting \n",
      "intrusions and breaches.  \n",
      "o Threat monitoring and review conducted semi -annually.  \n",
      "• Information Security Reviews:  Conduct regular security reviews, assessments, and \n",
      "testing to identify vulnerabilities.  \n",
      "o Testing framework primarily focuses on network security, with less emphasis on \n",
      "application security.  \n",
      "6. ICT Operations Management  \n",
      "• ICT Operati ons: Document and implement processes for operating, monitoring, and \n",
      "controlling ICT systems. Maintain an up -to-date ICT asset inventory.  \n",
      "o Asset Inventory: Detail configuration and interdependencies of ICT assets.  \n",
      "o Lifecycle Management: Monitor and manage th e lifecycle of ICT assets, ensuring \n",
      "they meet business and risk management requirements.  \n",
      "o Backup and Restoration: Define and implement backup and restoration \n",
      "procedures, ensuring secure storage and testing annually.  \n",
      "• Incident and Problem Management:  Establis h processes to monitor and log ICT \n",
      "incidents and problems.  \n",
      "o Incident Response: Implement procedures to identify, track, and mitigate \n",
      "incidents.  \n",
      "o Problem Management: Identify root causes of incidents and update security \n",
      "measures accordingly.  \n",
      "7. Business Continuity Management  \n",
      "• Business Impact Analysis (BIA):  Conduct BIAs to assess potential impacts of severe \n",
      "business disruptions.  \n",
      "o Criticality Assessment: Consider the criticality of business functions, processes, \n",
      "and assets.  \n",
      "o Redundancy: Design ICT sy stems with redundancy for critical components.  \n",
      "• Continuity Planning:  Develop and document business continuity plans (BCPs) based on \n",
      "BIAs.  \n",
      "o Recovery Objectives: Define recovery time and point objectives (RTOs and \n",
      "RPOs).  \n",
      "o Scenario Planning: Consider a range of scenarios, including cyber -attacks.   • Response and Recovery Plans:  Develop response and recovery plans to ensure \n",
      "availability and continuity of critical systems and services.  \n",
      "o Short -Term and Long -Term Recovery: Address both short -term and long -term \n",
      "recovery o ptions.  \n",
      "o Third -Party Continuity:  Implement measures to mitigate failures of key third -\n",
      "party providers, focusing primarily on critical vendors.  \n",
      "• Testing and Maintenance:  Test BCPs annually and update them based on test results, \n",
      "threat intelligence, and lesson s learned.  \n",
      "o Scenario Testing: Include severe but plausible scenarios in tests.  \n",
      "o Documentation: Document test results and address deficiencies.  \n",
      "8. Compliance and Reporting  \n",
      "• Audit and Reporting:  Perform periodic audits of ICT governance, systems, and \n",
      "processes.  \n",
      "o Independent Audits: Ensure audits are conducted by independent auditors with \n",
      "relevant expertise.  \n",
      "o Audit Plan:  Approve and update the audit plan annually, focusing primarily on \n",
      "financial and operational aspects.  \n",
      "o Follow -Up: Establish a follow -up process for critical audit findings.  \n",
      "• Regulatory Compliance:  Ensure compliance with relevant EU and national regulations.  \n",
      "o Notifications: Submit compliance notifications as required and report changes in \n",
      "compliance status.  \n",
      "9. Training and Awareness  \n",
      "• Training Program:  Implement a training program for all staff and contractors to ensure \n",
      "awareness of ICT and security risks and responsibilities.  \n",
      "o Frequency: Provide training annually.  \n",
      "o Content:  Cover security policies, procedures, and general information about \n",
      "inform ation security risks.  \n",
      " \n"
     ]
    }
   ],
   "source": [
    "test_doc_txt = extract_pdf(src_dir + 'B.pdf')\n",
    "print(test_doc_txt)"
   ]
  },
  {
   "cell_type": "code",
   "execution_count": null,
   "metadata": {},
   "outputs": [],
   "source": []
  },
  {
   "cell_type": "code",
   "execution_count": 52,
   "metadata": {},
   "outputs": [],
   "source": [
    "prompt_template_compliance_all = \"\"\"\n",
    "Imagine you are a compliance officer for a bank checking if policies and guidelines are being met.\n",
    "Check the sections of the following question on whether the policies and guidelines are being met.\n",
    "<question>\n",
    "{question}\n",
    "</question\n",
    "\n",
    "The following are the policies and guidelines to be checked against:\n",
    "<context>\n",
    "{context}\n",
    "</context\n",
    "\n",
    "Provide a high level response of the question with a single word - Yes, No or Partially Compliant for each section of the question.\n",
    "Provide a detailed summary under the high level response for the non compliant or partially compliant \n",
    "sections of the context with quoted reference from the context above and suggested change. \n",
    "Please refer only to the document. \n",
    "Please be formal in your response. \n",
    "Please avoid any biases.\n",
    "Assistant:\"\"\""
   ]
  },
  {
   "cell_type": "code",
   "execution_count": 54,
   "metadata": {},
   "outputs": [],
   "source": [
    "PROMPT2 = PromptTemplate(\n",
    "    template=prompt_template_compliance_all, input_variables=[\"context\", \"question\"]\n",
    ")"
   ]
  },
  {
   "cell_type": "code",
   "execution_count": 55,
   "metadata": {},
   "outputs": [],
   "source": [
    "response_all = get_response_llm(get_claude_llm(),vectorstore,test_doc_txt, PROMPT2)"
   ]
  },
  {
   "cell_type": "code",
   "execution_count": 56,
   "metadata": {},
   "outputs": [
    {
     "name": "stdout",
     "output_type": "stream",
     "text": [
      "I will review each section of the provided question against the guidelines mentioned in the context and provide a high-level response (Yes, No, or Partially Compliant) along with a detailed summary for non-compliant or partially compliant sections.\n",
      "\n",
      "<question>\n",
      "  Bank Internal IT Policy   \n",
      "1. Introduction  \n",
      "</question>\n",
      "High-level response: Yes\n",
      "\n",
      "<question>\n",
      "2. Scope  \n",
      "</question>\n",
      "High-level response: Yes  \n",
      "\n",
      "<question>\n",
      "3. Governance and Strategy\n",
      "</question>\n",
      "High-level response: Partially Compliant\n",
      "\n",
      "Detailed summary:\n",
      "The context states under Section 3.2: \"It requires the establishment of the financial institutions' ICT strategy, which should be aligned with their overall business strategy.\" However, the question does not explicitly mention aligning the ICT strategy with the overall business strategy.\n",
      "\n",
      "Suggested change: Mention the need to align the ICT strategy with the business strategy in Section 3 of the question.\n",
      "\n",
      "<question>\n",
      "4. Risk Management Framework\n",
      "</question>\n",
      "High-level response: Partially Compliant  \n",
      "\n",
      "Detailed summary:\n",
      "The context states under Section 3.3: \"It requires financial institutions to maintain updated mapping of their business functions, supporting processes and information assets and to classify them in terms of criticality, based on the confidentiality, integrity and availability of data.\"\n",
      "\n",
      "However, the question does not mention classifying assets based on confidentiality, integrity, and availability.\n",
      "\n",
      "Suggested change: Include a requirement to classify assets based on confidentiality, integrity, and availability in Section 4 of the question.\n",
      "\n",
      "<question>\n",
      "5. Information Security\n",
      "</question>\n",
      "High-level response: Partially Compliant\n",
      "\n",
      "Detailed summary:\n",
      "The context states under Section 3.4: \"This section defines requirements to implement effective information security measures, including having an information security policy in place; establishing, implementing and testing information security measures; and establishing a training programme for all staff and contractors.\"\n",
      "\n",
      "The question mentions developing an information security policy, implementing logical and physical security measures, security monitoring, and information security reviews. However, it does not explicitly mention testing information security measures and establishing a training program for staff and contractors.\n",
      "\n",
      "Suggested change: Include requirements for testing information security measures and establishing a training program for staff and contractors in Section 5 of the question.\n",
      "\n",
      "<question>\n",
      "6. ICT Operations Management\n",
      "</question>\n",
      "High-level response: Yes\n",
      "\n",
      "<question>  \n",
      "7. Business Continuity Management\n",
      "</question>\n",
      "High-level response: Yes\n",
      "\n",
      "<question>\n",
      "8. Compliance and Reporting\n",
      "</question>\n",
      "High-level response: Partially Compliant\n",
      "\n",
      "Detailed summary:\n",
      "The context states under Section 3.3: \"It requires financial institutions to maintain updated mapping of their business functions, supporting processes and information assets and to classify them in terms of criticality, based on the confidentiality, integrity and availability of data.\"\n",
      "\n",
      "The question mentions conducting periodic audits and ensuring regulatory compliance but does not mention maintaining updated mappings of business functions, processes, and assets, and classifying them based on criticality.\n",
      "\n",
      "Suggested change: Include a requirement to maintain updated mappings of business functions, processes, and assets, and classify them based on criticality in Section 8 of the question.\n",
      "\n",
      "<question>\n",
      "9. Training and Awareness\n",
      "</question>\n",
      "High-level response: Yes\n",
      "\n",
      "Please note that I have provided my analysis based solely on the information provided in the question and the context. If there are any additional details or clarifications needed, please let me know.\n"
     ]
    }
   ],
   "source": [
    "print(response_all)"
   ]
  },
  {
   "cell_type": "code",
   "execution_count": null,
   "metadata": {},
   "outputs": [],
   "source": []
  }
 ],
 "metadata": {
  "kernelspec": {
   "display_name": "Python 3",
   "language": "python",
   "name": "python3"
  },
  "language_info": {
   "codemirror_mode": {
    "name": "ipython",
    "version": 3
   },
   "file_extension": ".py",
   "mimetype": "text/x-python",
   "name": "python",
   "nbconvert_exporter": "python",
   "pygments_lexer": "ipython3",
   "version": "3.10.0"
  }
 },
 "nbformat": 4,
 "nbformat_minor": 2
}

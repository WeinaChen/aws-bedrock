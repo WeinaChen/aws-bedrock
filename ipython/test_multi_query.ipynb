{
 "cells": [
  {
   "cell_type": "code",
   "execution_count": 3,
   "metadata": {},
   "outputs": [],
   "source": [
    "import os\n",
    "import boto3\n",
    "from dotenv import load_dotenv\n",
    "\n",
    "load_dotenv()\n",
    "\n",
    "## We will be using Titan Embeddings Model To generate Embedding\n",
    "\n",
    "from langchain_community.embeddings import BedrockEmbeddings\n",
    "from langchain.llms.bedrock import Bedrock\n",
    "from langchain_community.chat_models.bedrock import BedrockChat\n",
    "\n",
    "## Data Ingestion\n",
    "\n",
    "import numpy as np\n",
    "from langchain.text_splitter import RecursiveCharacterTextSplitter\n",
    "from langchain_community.document_loaders import PyPDFDirectoryLoader\n",
    "\n",
    "# Vector Embedding And Vector Store\n",
    "# from langchain_community.vectorstores import FAISS\n",
    "from langchain.vectorstores import FAISS\n",
    "\n",
    "## LLm Models\n",
    "from langchain.prompts import PromptTemplate\n",
    "from langchain.chains import RetrievalQA\n",
    "\n",
    "from pypdf import PdfReader\n",
    "from langchain.schema import Document\n"
   ]
  },
  {
   "cell_type": "code",
   "execution_count": 44,
   "metadata": {},
   "outputs": [],
   "source": [
    "\n",
    "## Bedrock Clients\n",
    "bedrock=boto3.client(service_name=\"bedrock-runtime\")\n",
    "bedrock_embeddings=BedrockEmbeddings(model_id=\"amazon.titan-embed-text-v1\",client=bedrock)\n",
    "\n",
    "\n",
    "#Extract PDF Data\n",
    "def extract_pdf_docs(filename):\n",
    "    reader = PdfReader(filename)\n",
    "    docs = []\n",
    "    for i in range(0,len(reader.pages)):\n",
    "        page = reader.pages[i]\n",
    "        docs.append(Document(page_content=page.extract_text()))\n",
    "    return docs\n"
   ]
  },
  {
   "cell_type": "code",
   "execution_count": 12,
   "metadata": {},
   "outputs": [
    {
     "data": {
      "text/plain": [
       "'/Users/narenjhabakh/Desktop/aws bedrock/'"
      ]
     },
     "execution_count": 12,
     "metadata": {},
     "output_type": "execute_result"
    }
   ],
   "source": [
    "src_dir = os.getcwd().replace('ipython','') \n",
    "src_dir"
   ]
  },
  {
   "cell_type": "code",
   "execution_count": 45,
   "metadata": {},
   "outputs": [
    {
     "data": {
      "text/plain": [
       "[Document(page_content=' Bank Internal IT Policy  \\n1. Introduction  This policy outlines the framework for managing ICT and security risks in \\ncompliance with the EBA Guidelines on ICT and security risk management (EBA/GL/2019/04). \\nIt aims to ensure the confidentiality, integrity, and availability of the bank’s ICT systems  and \\ndata.  \\n2. Scope  This policy applies to all ICT systems, services, processes, and staff within the bank, \\nincluding third -party providers and contractors.  \\n3. Governance and Strategy  \\n• Management Body Responsibilities:  The management body is accountable for  the ICT \\nstrategy, ensuring its alignment with the business strategy. It should establish an internal \\ncontrol framework for ICT and security risks, set clear roles and responsibilities, and \\nensure adequate resources and training.  \\n• ICT Strategy:  The ICT stra tegy should define:  \\no The evolution of ICT to support the business strategy.  \\no Key dependencies on third parties.  \\no Information security objectives focusing on systems, services, and infrastructure.  \\n• Action Plans:  Establish action plans to achieve ICT strategy ob jectives, review them \\nperiodically, and communicate them to relevant staff.  \\n4. Risk Management Framework  \\n• Risk Identification and Assessment:  Identify and classify business functions, processes, \\nand information assets. Conduct risk assessments annually and update them upon \\nsignificant changes.  \\no Mapping:  Maintain updated mappings of business functions, processes, and \\ninformation assets.  \\no Classification:  Classify assets based on confidentiality, integrity, and availability.  \\n• Risk Mitigation:  Define and implement measures to mitigate ICT and security risks. \\nContinuously monitor and improve the framework based on lessons learned.  \\no Documentation:  Document the risk management framework and review it \\nannually.  \\no Reporting:  Report risk assessment results and updates to the  management body \\nregularly.  \\n5. Information Security  \\n• Information Security Policy:  Develop a policy defining high -level principles to protect \\ndata confidentiality, integrity, and availability. This policy should include:  \\no Roles and responsibilities of information security management.  \\no Requirements for staff and contractors regarding information security.  \\no Protection measures for critical assets, resources, and sensitive data.  \\n• Logical Security:  Implement procedures for identity and acce ss management, including:  '),\n",
       " Document(page_content=' o Need -to-know, least privilege, and segregation of duties.  \\no User accountability and activity logging.  \\n• Physical Security:  Define measures to protect premises, data centers, and sensitive areas \\nfrom unauthorized access and environment al hazards.  \\no Access Control: Restrict physical access to authorized individuals and review \\naccess rights annually.  \\no Environmental Protection: Implement measures to protect against environmental \\nhazards.  \\n• Security Monitoring:  Establish procedures to detect and  respond to security incidents, \\nincluding continuous monitoring of internal and external factors.  \\no Detection and Reporting: Implement capabilities for detecting and reporting \\nintrusions and breaches.  \\no Threat monitoring and review conducted semi -annually.  \\n• Information Security Reviews:  Conduct regular security reviews, assessments, and \\ntesting to identify vulnerabilities.  \\no Testing framework primarily focuses on network security, with less emphasis on \\napplication security.  \\n6. ICT Operations Management  \\n• ICT Operati ons: Document and implement processes for operating, monitoring, and \\ncontrolling ICT systems. Maintain an up -to-date ICT asset inventory.  \\no Asset Inventory: Detail configuration and interdependencies of ICT assets.  \\no Lifecycle Management: Monitor and manage th e lifecycle of ICT assets, ensuring \\nthey meet business and risk management requirements.  \\no Backup and Restoration: Define and implement backup and restoration \\nprocedures, ensuring secure storage and testing annually.  \\n• Incident and Problem Management:  Establis h processes to monitor and log ICT \\nincidents and problems.  \\no Incident Response: Implement procedures to identify, track, and mitigate \\nincidents.  \\no Problem Management: Identify root causes of incidents and update security \\nmeasures accordingly.  \\n7. Business Continuity Management  \\n• Business Impact Analysis (BIA):  Conduct BIAs to assess potential impacts of severe \\nbusiness disruptions.  \\no Criticality Assessment: Consider the criticality of business functions, processes, \\nand assets.  \\no Redundancy: Design ICT sy stems with redundancy for critical components.  \\n• Continuity Planning:  Develop and document business continuity plans (BCPs) based on \\nBIAs.  \\no Recovery Objectives: Define recovery time and point objectives (RTOs and \\nRPOs).  \\no Scenario Planning: Consider a range of scenarios, including cyber -attacks.  '),\n",
       " Document(page_content=' • Response and Recovery Plans:  Develop response and recovery plans to ensure \\navailability and continuity of critical systems and services.  \\no Short -Term and Long -Term Recovery: Address both short -term and long -term \\nrecovery o ptions.  \\no Third -Party Continuity:  Implement measures to mitigate failures of key third -\\nparty providers, focusing primarily on critical vendors.  \\n• Testing and Maintenance:  Test BCPs annually and update them based on test results, \\nthreat intelligence, and lesson s learned.  \\no Scenario Testing: Include severe but plausible scenarios in tests.  \\no Documentation: Document test results and address deficiencies.  \\n8. Compliance and Reporting  \\n• Audit and Reporting:  Perform periodic audits of ICT governance, systems, and \\nprocesses.  \\no Independent Audits: Ensure audits are conducted by independent auditors with \\nrelevant expertise.  \\no Audit Plan:  Approve and update the audit plan annually, focusing primarily on \\nfinancial and operational aspects.  \\no Follow -Up: Establish a follow -up process for critical audit findings.  \\n• Regulatory Compliance:  Ensure compliance with relevant EU and national regulations.  \\no Notifications: Submit compliance notifications as required and report changes in \\ncompliance status.  \\n9. Training and Awareness  \\n• Training Program:  Implement a training program for all staff and contractors to ensure \\nawareness of ICT and security risks and responsibilities.  \\no Frequency: Provide training annually.  \\no Content:  Cover security policies, procedures, and general information about \\ninform ation security risks.  \\n ')]"
      ]
     },
     "execution_count": 45,
     "metadata": {},
     "output_type": "execute_result"
    }
   ],
   "source": [
    "test_docs = extract_pdf_docs(src_dir + 'B.pdf')\n",
    "test_docs"
   ]
  },
  {
   "cell_type": "code",
   "execution_count": 16,
   "metadata": {},
   "outputs": [],
   "source": [
    "path_index = src_dir + 'faiss_index_guidelines'\n",
    "vectorstore = FAISS.load_local(path_index, bedrock_embeddings, allow_dangerous_deserialization=True)"
   ]
  },
  {
   "cell_type": "code",
   "execution_count": 22,
   "metadata": {},
   "outputs": [],
   "source": [
    "retriever = vectorstore.as_retriever(search_kwargs={\"k\": 3})"
   ]
  },
  {
   "cell_type": "code",
   "execution_count": 25,
   "metadata": {},
   "outputs": [
    {
     "data": {
      "text/plain": [
       "[Document(page_content='FINAL REPORT  ON GUIDELINES ON ICT AND SECURITY RISK MA NAGEMENT   \\n \\n4 \\n \\nThese guidelines provide detail s on how financial institutions should comply  in order  to address ICT \\nand security risk s, with the following  provisions in the Capital Requirements Directive (CRD ) and \\nPSD2: \\n(i) Article  74 of Directive  2013/36/EU (CRD) , which strengthens the governance requirements for \\ninstitutions , including the requirements to have robust governance arrangements with a clear \\norganisational structure with well -defined, transparent and consistent lines of responsibility and  \\neffective processes to identify, manage, monitor and report the risk they are or might be exposed \\nto;  \\n(ii) Article  95 of Directive  2015/2366/EU (PSD2) , which contains explicit provisions for the \\nmanagement of operation and secu rity risks that requir e PSPs to have appropriate mitigation \\nmeasures and control mechanisms to manage the operational and security risks and includes a \\nmandate for the EBA to develop guidelines on this topic.  \\nThese guidelines specify the above -mentioned requirements as follows:  \\nSection  3.1 sets out the proportionate application of these guidelines , recognising the potential \\nvariation in size , complexity , inter nal organisation, nature, scope  and riskiness of the servic es and \\nproducts between financial institutions . \\nSection  3.2 of the guidelines focuses on the management and mitigation of ICT and security risk s \\nthrough establishing sound internal governance and an internal control framework that sets clear \\nresponsibiliti es for financial institutions ’ staff , including for the management bodies. It requires the \\nestablishment of the financial institutions’ ICT strategy, which should be aligned with their overall \\nbusiness strategy. The guidelines also remind financial institutions  to ensure the effectiveness of \\nthe risk -mitigating measures, as defined by their risk management framework, when outsourcing \\nor using third party providers. This should be set out in contracts and service  level agreements. \\nNevertheless, financ ial institutions  should monitor and seek assurance of the level of compliance.  \\nSection  3.3 requires financial institution s to manage and mitigate  ICT and security risks through an \\nindependent and objective control function, appropriately segregated from IC T operations \\nprocesses and not responsible for any internal audit, and  an independent internal audit function.  It \\nrequires financial institutions  to maintain up dated  mapping  of their business functions, supporting \\nprocesses and information assets  and to classify them in terms of criticality, based on the \\nconfidentiality, integrity and availability of data. Based on this, financial institutions should assess \\nthe operational risks related to ICT and the security risk s that impact them  and should determine \\nwhat measures are required to mitigate the identified risks.  \\nSection  3.4 sets out requirements for information security to the extent that the information is held \\non ICT systems. This section defines requirements to implement effective information security \\nmeasures, including having an information security policy in place ; establishing, implementing and \\ntesting information security measures; and establishing a training programme for all staff  and \\ncontractors . \\nSection  3.5 specif ies high -level principles on how ICT operations should be managed, including \\nrequirements to improve , when possible , the efficiency of ICT operations ; implement logging and \\nmonitoring procedures for critical ICT operations ; maintain an up', metadata={'source': 'guidelines/Final draft Guidelines on ICT and security risk management.pdf', 'page': 3}),\n",
       " Document(page_content='FINAL REPORT  ON GUIDELINES ON ICT AND SECURITY RISK MA NAGEMENT   \\n \\n3 \\n \\n1. Executive summary  \\nThe c omplexity of information and communication technology ( ICT) and security risks is increasing \\nand the frequency of ICT and security -related incidents (including cyber incidents) is rising , together \\nwith their potential significant adverse impact  on financial institutions ’ operational functioning. \\nMoreover, due to the interconnectedness of financial institutions , ICT and security -relate d \\nincidents risk causing potential systemic impact s. The EBA has responded to this by detailing how \\nsupervisors should cover ICT and security risk s within supervision (EBA/GL/2017/05), by detailing \\nhow financial institutions should manage outsourcing (EBA/ GL/2019/02) and by describing the \\nexpectation s for ICT and security risk management for the financial institutions in these guidelines . \\nThese guidelines set out how financial institutions  should manage the ICT and security risk s that \\nthey are exposed to. In addition, this guidance aims to provide the financial institutions to which \\nthe guidelines apply  with a better understanding of supervisory expectations for the management \\nof ICT and security risk s. \\nThese guidelines integrate  and are built on the requirements set out in the ‘Guidelines on security \\nmeasures for operational and security risks of payment services ’ (hereafter ‘Guidelines on security \\nmeasures ’), which were published in December 2017 (EBA /GL/2017/17) and which have appl ied \\nsince January 2018 in fulfilment of the mandate in Article  95(3) of Directive  2015/2366/EU (PSD2) . \\nThose guidelines were addressed to payment service providers (PSPs ), and only applied to their \\npayment services ; however , they were  in fact relevant to a broader set of institutions. For that \\nreason, these guidelines have been formulated to be addressed to a broader range of financial \\ninstitutions  under the EBA ’s remit  (namely to credit institutions wh ich already fell within  the scope \\nof the guidelines  on security measures for their payment services , but for wh ich these guidelines \\nwill now apply for all activities) and to investment firms.  These guidelines continue to apply to PSPs \\nfor the payment services they provide ; they extend to other activities o f credit institutions and also \\napply to investment firms for all activities.  Collectively, the guidelines apply to financial institutions \\nas set out in paragraph  9 under the addressees section.  \\nThe term ‘ICT and security risk s’ addresses  the operational an d security risks mandate of Article  95 \\nof the r evised Payments Services Directive (PSD2 ). This term recognises that the operational risks \\nfor payment services refer predominantly to ICT and security risk s because of the electronic nature \\nof payment services  (over ICT systems).  For this reason, these guidelines refer to ‘ICT and security \\nrisk’ instead of ‘operational and security risk’ to avoid confusion with wider operational risk issues , \\nsuch as  conduct risk, legal risk and reputational risk. Furthe rmore, security risks may stem from \\ninadequate or failed internal processes or exter nal events , but ultimately it is their  impact on \\nsystems and data that is relevant. The definition of ‘ICT and security risk ’ is based on the definition \\nin the EBA Guidelines on the revised common procedures and methodologies for the supervisory \\nreview and evaluation process and supervisory stress testing (EBA /GL/2018/03) ; thus , it \\nencompasses data integrity risk but includes additional details to clarify that it covers the impact \\nderiving from security risks.', metadata={'source': 'guidelines/Final draft Guidelines on ICT and security risk management.pdf', 'page': 2}),\n",
       " Document(page_content='FINAL REPORT ON GUIDELINES ON ICT AND SECURITY RISK MA NAGEMENT   \\n \\n 16 \\nindependence and objectivity of this control function b y appropriately segregating it from ICT \\noperations processes. This control function should be directly accountable to the management \\nbody and responsible for monitoring and controlling adherence to the ICT and security risk \\nmanagement framework. It should ensure that ICT and security risks are identified, measured, \\nassessed, managed, monitored and reported. Financial institutions should ensure that this \\ncontrol function is not responsible for any internal audit.  \\nThe i nternal audit function should , following a risk -based approach, have the capacity to \\nindependently review and provide objective assurance of the compliance of all ICT and security -\\nrelated activities and units of a financial institution  with the financial institution ’s policies and \\nprocedures and with external requirements, adhering to the requirements of Section  22 of the \\nEBA Guidelines on internal governance (EBA/GL/2017/11) . \\n12. Financial institutions  should define and assign key roles and responsibilities, and relevant \\nreporting lines , for the ICT and security risk management framework to be effective. This \\nframework should be fully integrated into , and aligned with,  financial  institutions ’ overall risk \\nmanagement processes.  \\n13. The ICT and security risk  management framework should  include  processes in place to : \\na) determine the risk appetite for ICT and security risk s, in accordance with the risk appetite \\nof the financial  institution ; \\nb) identify and assess the ICT and security risk s to which a financial institution  is exposed ; \\nc) define mitigation  measures, including controls,  to mitigate  ICT and security risk s; \\nd) monitor the  effectiveness of these measures as well as  the number of reported  incidents, \\nincluding for PSPs the incidents reported in accordance with Article  96 of PSD2 affecting \\nthe ICT -related activities , and tak e action to correct the  measures  where necessary;  \\ne) report to the management body on the ICT and security risk s and controls ; \\nf) identify and assess whether there are any ICT and security risks resulting from any major \\nchange in ICT s ystem or ICT services, processes or procedure s, and/or after any significant \\noperational or security incident.  \\n \\n14. Financial institutions should ensure that the ICT and security risk  management framework is \\ndocumented, and continuously improved , based on ‘lessons learned ’ during its implementation \\nand monitoring. The ICT and security risk  management framework should be approved and \\nreviewed, at least once a year, by the management body . \\n3.3.2.  Identification  of functions, processes and assets  \\n15. Financial institutions  should identify, establish  and maintain up dated  mapping  of their business \\nfunctions, roles and supporting  processes to  identify  the importance of each  and their \\ninterdependencies related to ICT and security risk s. \\n16. In addition, financial institutions  shoul d identify, establish and maintain update d mapping of \\nthe information assets supporting their business  functions and supporting  processes, such as \\nICT systems, staff , contractors, third parties and dependencies on other internal and external \\nsystems and pr ocesses, to be able to , at least , manage the  information  assets that support their \\ncritical business functions and processes.', metadata={'source': 'guidelines/Final draft Guidelines on ICT and security risk management.pdf', 'page': 15})]"
      ]
     },
     "execution_count": 25,
     "metadata": {},
     "output_type": "execute_result"
    }
   ],
   "source": [
    "docs = retriever.get_relevant_documents(test_docs[0].page_content)\n",
    "docs"
   ]
  },
  {
   "cell_type": "code",
   "execution_count": 26,
   "metadata": {},
   "outputs": [
    {
     "data": {
      "text/plain": [
       "[Document(page_content='FINAL REPORT  ON GUIDELINES ON ICT AND SECURITY RISK MA NAGEMENT   \\n \\n4 \\n \\nThese guidelines provide detail s on how financial institutions should comply  in order  to address ICT \\nand security risk s, with the following  provisions in the Capital Requirements Directive (CRD ) and \\nPSD2: \\n(i) Article  74 of Directive  2013/36/EU (CRD) , which strengthens the governance requirements for \\ninstitutions , including the requirements to have robust governance arrangements with a clear \\norganisational structure with well -defined, transparent and consistent lines of responsibility and  \\neffective processes to identify, manage, monitor and report the risk they are or might be exposed \\nto;  \\n(ii) Article  95 of Directive  2015/2366/EU (PSD2) , which contains explicit provisions for the \\nmanagement of operation and secu rity risks that requir e PSPs to have appropriate mitigation \\nmeasures and control mechanisms to manage the operational and security risks and includes a \\nmandate for the EBA to develop guidelines on this topic.  \\nThese guidelines specify the above -mentioned requirements as follows:  \\nSection  3.1 sets out the proportionate application of these guidelines , recognising the potential \\nvariation in size , complexity , inter nal organisation, nature, scope  and riskiness of the servic es and \\nproducts between financial institutions . \\nSection  3.2 of the guidelines focuses on the management and mitigation of ICT and security risk s \\nthrough establishing sound internal governance and an internal control framework that sets clear \\nresponsibiliti es for financial institutions ’ staff , including for the management bodies. It requires the \\nestablishment of the financial institutions’ ICT strategy, which should be aligned with their overall \\nbusiness strategy. The guidelines also remind financial institutions  to ensure the effectiveness of \\nthe risk -mitigating measures, as defined by their risk management framework, when outsourcing \\nor using third party providers. This should be set out in contracts and service  level agreements. \\nNevertheless, financ ial institutions  should monitor and seek assurance of the level of compliance.  \\nSection  3.3 requires financial institution s to manage and mitigate  ICT and security risks through an \\nindependent and objective control function, appropriately segregated from IC T operations \\nprocesses and not responsible for any internal audit, and  an independent internal audit function.  It \\nrequires financial institutions  to maintain up dated  mapping  of their business functions, supporting \\nprocesses and information assets  and to classify them in terms of criticality, based on the \\nconfidentiality, integrity and availability of data. Based on this, financial institutions should assess \\nthe operational risks related to ICT and the security risk s that impact them  and should determine \\nwhat measures are required to mitigate the identified risks.  \\nSection  3.4 sets out requirements for information security to the extent that the information is held \\non ICT systems. This section defines requirements to implement effective information security \\nmeasures, including having an information security policy in place ; establishing, implementing and \\ntesting information security measures; and establishing a training programme for all staff  and \\ncontractors . \\nSection  3.5 specif ies high -level principles on how ICT operations should be managed, including \\nrequirements to improve , when possible , the efficiency of ICT operations ; implement logging and \\nmonitoring procedures for critical ICT operations ; maintain an up', metadata={'source': 'guidelines/Final draft Guidelines on ICT and security risk management.pdf', 'page': 3}),\n",
       " Document(page_content='FINAL REPORT ON GUIDELINES ON ICT AND SECURITY RISK MA NAGEMENT   \\n \\n 16 \\nindependence and objectivity of this control function b y appropriately segregating it from ICT \\noperations processes. This control function should be directly accountable to the management \\nbody and responsible for monitoring and controlling adherence to the ICT and security risk \\nmanagement framework. It should ensure that ICT and security risks are identified, measured, \\nassessed, managed, monitored and reported. Financial institutions should ensure that this \\ncontrol function is not responsible for any internal audit.  \\nThe i nternal audit function should , following a risk -based approach, have the capacity to \\nindependently review and provide objective assurance of the compliance of all ICT and security -\\nrelated activities and units of a financial institution  with the financial institution ’s policies and \\nprocedures and with external requirements, adhering to the requirements of Section  22 of the \\nEBA Guidelines on internal governance (EBA/GL/2017/11) . \\n12. Financial institutions  should define and assign key roles and responsibilities, and relevant \\nreporting lines , for the ICT and security risk management framework to be effective. This \\nframework should be fully integrated into , and aligned with,  financial  institutions ’ overall risk \\nmanagement processes.  \\n13. The ICT and security risk  management framework should  include  processes in place to : \\na) determine the risk appetite for ICT and security risk s, in accordance with the risk appetite \\nof the financial  institution ; \\nb) identify and assess the ICT and security risk s to which a financial institution  is exposed ; \\nc) define mitigation  measures, including controls,  to mitigate  ICT and security risk s; \\nd) monitor the  effectiveness of these measures as well as  the number of reported  incidents, \\nincluding for PSPs the incidents reported in accordance with Article  96 of PSD2 affecting \\nthe ICT -related activities , and tak e action to correct the  measures  where necessary;  \\ne) report to the management body on the ICT and security risk s and controls ; \\nf) identify and assess whether there are any ICT and security risks resulting from any major \\nchange in ICT s ystem or ICT services, processes or procedure s, and/or after any significant \\noperational or security incident.  \\n \\n14. Financial institutions should ensure that the ICT and security risk  management framework is \\ndocumented, and continuously improved , based on ‘lessons learned ’ during its implementation \\nand monitoring. The ICT and security risk  management framework should be approved and \\nreviewed, at least once a year, by the management body . \\n3.3.2.  Identification  of functions, processes and assets  \\n15. Financial institutions  should identify, establish  and maintain up dated  mapping  of their business \\nfunctions, roles and supporting  processes to  identify  the importance of each  and their \\ninterdependencies related to ICT and security risk s. \\n16. In addition, financial institutions  shoul d identify, establish and maintain update d mapping of \\nthe information assets supporting their business  functions and supporting  processes, such as \\nICT systems, staff , contractors, third parties and dependencies on other internal and external \\nsystems and pr ocesses, to be able to , at least , manage the  information  assets that support their \\ncritical business functions and processes.', metadata={'source': 'guidelines/Final draft Guidelines on ICT and security risk management.pdf', 'page': 15}),\n",
       " Document(page_content='FINAL REPORT ON GUIDELINES ON ICT AND SECURITY RISK MA NAGEMENT   \\n \\n 13 \\nImplementation  \\nDate of applicat ion \\n11. These guidelines apply from 30 June 2020 . \\nRepeal  \\n12. The Guidelines on security measures for operational and security risks (EBA /GL/2017/17) \\nissued in 2017 will be repealed by these guidelines at the date that these guidelines become \\napplicable.  \\n                                                                                                          \\n4 Definition from G7 fundamental elements for third party cyber risk management in the financial sector . \\n5 Definition from Guidelines on ICT Risk Assessment under the Supervisory Review and Evaluation process (SREP) \\n(EBA/GL/ 2017/05 ). \\n6 ibid. (c) For PSPs referred to in points  (c), (e) and (f) of Article  1(1) of \\nDirective (EU)  2015/2366, this term has the meaning conferred \\non it by the applicable EU or national law.  \\nRisk appetite  The aggregate level and types of risk that the PSPs and \\ninstitutions are willing to assume within their risk capacity, in line \\nwith their business model, to achieve their strategic objectives.  \\nAudit function  (a) For credit institutions and investment firms, the audit function \\nis as referred to in Section  22 of the EBA guidelines on internal \\ngovernance (EBA /GL/2017 /11). \\n(b) For PSPs other than credit institutions, the audit function must \\nbe independent within or from the PSP and may be an internal \\nand/ or an external audit function.  \\nICT projects  Any p roject, or part thereof, where ICT systems and services are \\nchanged, replaced , dismissed or implemented. ICT projects can \\nbe part of wider ICT or business transformation programmes.  \\nThird party  An organisation that has entered into business relationships or \\ncontracts with an entity to provide a product or service4. \\nInformation asset  A collection of information, either tangible or intangible, that is \\nworth protecting.  \\nICT asset  An asset of either software or hardware that is found in the \\nbusiness environment.  \\nICT systems5 ICT set -up as part of a mechanism or an interconnecting network \\nthat support s the operations of a financial institution.  \\nICT service s6 Services provided by ICT systems to one or more internal or \\nexternal users. Examples include data entry, data storage, data \\nprocessing and reporting services, but also monitoring, and \\nbusiness and decision support services .', metadata={'source': 'guidelines/Final draft Guidelines on ICT and security risk management.pdf', 'page': 12})]"
      ]
     },
     "execution_count": 26,
     "metadata": {},
     "output_type": "execute_result"
    }
   ],
   "source": [
    "docs = retriever.get_relevant_documents(test_docs[1].page_content)\n",
    "docs"
   ]
  },
  {
   "cell_type": "code",
   "execution_count": 50,
   "metadata": {},
   "outputs": [],
   "source": [
    "prompt_template_compliance_chunks = \"\"\"\n",
    "Imagine you are a compliance officer for a bank checking if policies and guidelines are being met.\n",
    "Check the sections of the following document on whether the policies and guidelines are being met.\n",
    "<question>\n",
    "{question}\n",
    "</question\n",
    "\n",
    "The following are the policies and guidelines to be checked against:\n",
    "<context>\n",
    "{context}\n",
    "</context\n",
    "\n",
    "Provide a high level response of the question with a single word - Yes, No or Partially Compliant.\n",
    "Provide a detailed summary under the high level response for the non compliant or partially compliant \n",
    "sections of the context with quoted reference from the context above and suggested change. \n",
    "Please refer only to the document. \n",
    "Please be formal in your response. \n",
    "Please avoid any biases.\n",
    "Assistant:\"\"\""
   ]
  },
  {
   "cell_type": "code",
   "execution_count": 51,
   "metadata": {},
   "outputs": [],
   "source": [
    "PROMPT1 = PromptTemplate(\n",
    "    template=prompt_template_compliance_chunks, input_variables=[\"context\", \"question\"]\n",
    ")"
   ]
  },
  {
   "cell_type": "code",
   "execution_count": 37,
   "metadata": {},
   "outputs": [],
   "source": [
    "def get_response_llm(llm,vectorstore_faiss,query, PROMPT):\n",
    "    qa = RetrievalQA.from_chain_type(\n",
    "    llm=llm,\n",
    "    chain_type=\"stuff\",\n",
    "    retriever=vectorstore_faiss.as_retriever(\n",
    "        search_type=\"similarity\", search_kwargs={\"k\": 1}\n",
    "    ),\n",
    "    return_source_documents=True,\n",
    "    chain_type_kwargs={\"prompt\": PROMPT}\n",
    ")\n",
    "    answer=qa({\"query\":query})\n",
    "    return answer['result']"
   ]
  },
  {
   "cell_type": "code",
   "execution_count": 38,
   "metadata": {},
   "outputs": [],
   "source": [
    "def get_claude_llm():\n",
    "    ##create the Anthropic Model\n",
    "    llm=BedrockChat(model_id=\"anthropic.claude-3-sonnet-20240229-v1:0\",client=bedrock,\n",
    "                model_kwargs={'max_tokens':1000})\n",
    "    \n",
    "    return llm"
   ]
  },
  {
   "cell_type": "code",
   "execution_count": 42,
   "metadata": {},
   "outputs": [
    {
     "name": "stdout",
     "output_type": "stream",
     "text": [
      "1\n",
      "2\n",
      "3\n"
     ]
    }
   ],
   "source": [
    "responses = {}\n",
    "for chunk, doc in enumerate(test_docs):\n",
    "    print(chunk+1)\n",
    "    responses[f'Chunk{chunk+1}'] = get_response_llm(get_claude_llm(),vectorstore,doc.page_content, PROMPT1)"
   ]
  },
  {
   "cell_type": "code",
   "execution_count": 43,
   "metadata": {},
   "outputs": [
    {
     "data": {
      "text/plain": [
       "{'Chunk1': 'Partially Compliant\\n\\nDetailed summary:\\n\\nThe provided context partially covers the policies outlined in the question. The following sections are not fully compliant or missing:\\n\\n1. Section 3 - Governance and Strategy:\\nThe context does not explicitly mention the requirements stated in the question regarding the management body\\'s accountability for the ICT strategy, ensuring its alignment with the business strategy, establishing an internal control framework, setting clear roles and responsibilities, and ensuring adequate resources and training.\\n\\nSuggested change: Include details on the management body\\'s responsibilities as per the question.\\n\\n2. Section 4 - Risk Management Framework:\\nThe context covers risk identification, assessment, and mitigation. However, it does not mention the specific requirements stated in the question, such as maintaining updated mappings of business functions, processes, and information assets, classifying assets based on confidentiality, integrity, and availability, and documenting and reviewing the risk management framework annually.\\n\\nSuggested change: Incorporate the specific requirements mentioned in the question regarding asset mapping, classification, and documentation/review of the risk management framework.\\n\\n3. Section 5 - Information Security:\\nThe context covers information security measures, including an information security policy, logical security, and staff training. However, it does not explicitly mention the requirements stated in the question regarding the information security policy\\'s content, such as roles and responsibilities, requirements for staff and contractors, and protection measures for critical assets, resources, and sensitive data.\\n\\nQuoted reference: \"Section 3.4 sets out requirements for information security to the extent that the information is held on ICT systems. This section defines requirements to implement effective information security measures, including having an information security policy in place; establishing, implementing and testing information security measures; and establishing a training programme for all staff and contractors.\"\\n\\nSuggested change: Include the specific requirements for the information security policy\\'s content as per the question.\\n\\nPlease note that this assessment is based solely on the provided context and question, and any additional information or clarification may lead to a different evaluation.',\n",
       " 'Chunk2': 'Partially Compliant\\n\\nThe provided document does not fully address all the policies and guidelines mentioned in the question. Here\\'s a detailed summary of the non-compliant or partially compliant sections:\\n\\n1. Access Control and User Accountability:\\nThe document does not explicitly mention the policies related to \"need-to-know, least privilege, and segregation of duties\" or \"user accountability and activity logging.\" It lacks specific guidelines on access control and user accountability measures.\\n\\nSuggested change: Include guidelines on implementing the principles of need-to-know, least privilege, and segregation of duties for access control. Additionally, mandate procedures for user accountability and activity logging to track user actions and ensure traceability.\\n\\n2. Physical Security:\\nThe document does not provide any guidelines or requirements related to physical security measures, such as access control to premises, data centers, and sensitive areas, or environmental protection against hazards.\\n\\nSuggested change: Incorporate guidelines on physical security controls, including access restrictions to authorized individuals, periodic access rights reviews, and measures to protect against environmental hazards.\\n\\n3. Security Monitoring:\\nThe document partially covers security monitoring by mentioning the need for financial institutions to \"maintain updated mapping of their business functions, supporting processes and information assets and to classify them in terms of criticality, based on the confidentiality, integrity and availability of data\" (Section 3.3). However, it does not explicitly mention continuous monitoring of internal and external factors, detection and reporting of intrusions and breaches, or threat monitoring and review.\\n\\nSuggested change: Expand the guidelines to include specific requirements for continuous security monitoring, detection and reporting of security incidents and breaches, and periodic threat monitoring and review processes.\\n\\n4. Information Security Reviews:\\nThe document does not provide any guidance on conducting regular security reviews, assessments, and testing to identify vulnerabilities. It also does not mention the testing framework or its focus areas.\\n\\nSuggested change: Incorporate guidelines on conducting regular security reviews, assessments, and testing, including the scope and focus areas of the testing framework (e.g., network security, application security).\\n\\nThe document aligns with the guidelines mentioned in the question for the following sections:\\n- ICT Operations Management\\n- Business Continuity Management\\n\\nPlease note that this assessment is based solely on the provided context and may not reflect the complete set of policies and guidelines implemented by the financial institution.',\n",
       " 'Chunk3': 'Partially Compliant\\n\\nDetailed Summary:\\n\\n1. Response and Recovery Plans:\\n   - No specific mention of developing response and recovery plans for ensuring availability and continuity of critical systems and services.\\n   - Suggested change: Include a requirement to develop response and recovery plans that address short-term and long-term recovery options and measures to mitigate failures of critical third-party providers.\\n\\n2. Testing and Maintenance:\\n   - No specific mention of testing BCPs annually and updating them based on test results, threat intelligence, and lessons learned.\\n   - Suggested change: Include a requirement to test BCPs annually, including severe but plausible scenarios, document test results, and address deficiencies.\\n\\n3. Audit and Reporting:\\n   - The context partially covers this section. It states in Section 3.3: \"It requires financial institutions to maintain updated mapping of their business functions, supporting processes and information assets and to classify them in terms of criticality, based on the confidentiality, integrity and availability of data.\"\\n   - It also mentions in Section 3.3: \"Based on this, financial institutions should assess the operational risks related to ICT and the security risks that impact them and should determine what measures are required to mitigate the identified risks.\"\\n   - However, there is no specific mention of periodic audits by independent auditors, approving and updating an audit plan annually, or establishing a follow-up process for critical audit findings.\\n   - Suggested change: Include explicit requirements for periodic independent audits, approving and updating an audit plan annually (focusing primarily on financial and operational aspects), and establishing a follow-up process for critical audit findings.\\n\\n4. Regulatory Compliance:\\n   - The context partially covers this section. It mentions in the introduction: \"These guidelines provide details on how financial institutions should comply in order to address ICT and security risks, with the following provisions in the Capital Requirements Directive (CRD) and PSD2.\"\\n   - However, there is no specific mention of submitting compliance notifications as required or reporting changes in compliance status.\\n   - Suggested change: Include a requirement to submit compliance notifications as required and report changes in compliance status.\\n\\n5. Training and Awareness:\\n   - The context partially covers this section. It states in Section 3.4: \"This section defines requirements to implement effective information security measures, including... establishing a training programme for all staff and contractors.\"\\n   - However, there is no specific mention of providing training annually or covering security policies, procedures, and general information about information security risks.\\n   - Suggested change: Include a requirement to provide training annually, covering security policies, procedures, and general information about information security risks.\\n\\nPlease note that the above assessment is based solely on the provided context, and any additional information or clarification may lead to a different evaluation.'}"
      ]
     },
     "execution_count": 43,
     "metadata": {},
     "output_type": "execute_result"
    }
   ],
   "source": [
    "responses"
   ]
  },
  {
   "cell_type": "code",
   "execution_count": 46,
   "metadata": {},
   "outputs": [],
   "source": [
    "def extract_pdf(filename):\n",
    "    '''\n",
    "    Extract all text of the PDF Data into one string\n",
    "    args : \n",
    "        filname - name of the .pdf file\n",
    "    returns:\n",
    "        all_text - string output of all the text\n",
    "    '''\n",
    "    reader = PdfReader(filename)\n",
    "    all_text = \" \"\n",
    "    for i in range(0,len(reader.pages)):\n",
    "        page = reader.pages[i]\n",
    "        all_text = all_text + page.extract_text()\n",
    "    return all_text"
   ]
  },
  {
   "cell_type": "code",
   "execution_count": 49,
   "metadata": {},
   "outputs": [
    {
     "name": "stdout",
     "output_type": "stream",
     "text": [
      "  Bank Internal IT Policy  \n",
      "1. Introduction  This policy outlines the framework for managing ICT and security risks in \n",
      "compliance with the EBA Guidelines on ICT and security risk management (EBA/GL/2019/04). \n",
      "It aims to ensure the confidentiality, integrity, and availability of the bank’s ICT systems  and \n",
      "data.  \n",
      "2. Scope  This policy applies to all ICT systems, services, processes, and staff within the bank, \n",
      "including third -party providers and contractors.  \n",
      "3. Governance and Strategy  \n",
      "• Management Body Responsibilities:  The management body is accountable for  the ICT \n",
      "strategy, ensuring its alignment with the business strategy. It should establish an internal \n",
      "control framework for ICT and security risks, set clear roles and responsibilities, and \n",
      "ensure adequate resources and training.  \n",
      "• ICT Strategy:  The ICT stra tegy should define:  \n",
      "o The evolution of ICT to support the business strategy.  \n",
      "o Key dependencies on third parties.  \n",
      "o Information security objectives focusing on systems, services, and infrastructure.  \n",
      "• Action Plans:  Establish action plans to achieve ICT strategy ob jectives, review them \n",
      "periodically, and communicate them to relevant staff.  \n",
      "4. Risk Management Framework  \n",
      "• Risk Identification and Assessment:  Identify and classify business functions, processes, \n",
      "and information assets. Conduct risk assessments annually and update them upon \n",
      "significant changes.  \n",
      "o Mapping:  Maintain updated mappings of business functions, processes, and \n",
      "information assets.  \n",
      "o Classification:  Classify assets based on confidentiality, integrity, and availability.  \n",
      "• Risk Mitigation:  Define and implement measures to mitigate ICT and security risks. \n",
      "Continuously monitor and improve the framework based on lessons learned.  \n",
      "o Documentation:  Document the risk management framework and review it \n",
      "annually.  \n",
      "o Reporting:  Report risk assessment results and updates to the  management body \n",
      "regularly.  \n",
      "5. Information Security  \n",
      "• Information Security Policy:  Develop a policy defining high -level principles to protect \n",
      "data confidentiality, integrity, and availability. This policy should include:  \n",
      "o Roles and responsibilities of information security management.  \n",
      "o Requirements for staff and contractors regarding information security.  \n",
      "o Protection measures for critical assets, resources, and sensitive data.  \n",
      "• Logical Security:  Implement procedures for identity and acce ss management, including:   o Need -to-know, least privilege, and segregation of duties.  \n",
      "o User accountability and activity logging.  \n",
      "• Physical Security:  Define measures to protect premises, data centers, and sensitive areas \n",
      "from unauthorized access and environment al hazards.  \n",
      "o Access Control: Restrict physical access to authorized individuals and review \n",
      "access rights annually.  \n",
      "o Environmental Protection: Implement measures to protect against environmental \n",
      "hazards.  \n",
      "• Security Monitoring:  Establish procedures to detect and  respond to security incidents, \n",
      "including continuous monitoring of internal and external factors.  \n",
      "o Detection and Reporting: Implement capabilities for detecting and reporting \n",
      "intrusions and breaches.  \n",
      "o Threat monitoring and review conducted semi -annually.  \n",
      "• Information Security Reviews:  Conduct regular security reviews, assessments, and \n",
      "testing to identify vulnerabilities.  \n",
      "o Testing framework primarily focuses on network security, with less emphasis on \n",
      "application security.  \n",
      "6. ICT Operations Management  \n",
      "• ICT Operati ons: Document and implement processes for operating, monitoring, and \n",
      "controlling ICT systems. Maintain an up -to-date ICT asset inventory.  \n",
      "o Asset Inventory: Detail configuration and interdependencies of ICT assets.  \n",
      "o Lifecycle Management: Monitor and manage th e lifecycle of ICT assets, ensuring \n",
      "they meet business and risk management requirements.  \n",
      "o Backup and Restoration: Define and implement backup and restoration \n",
      "procedures, ensuring secure storage and testing annually.  \n",
      "• Incident and Problem Management:  Establis h processes to monitor and log ICT \n",
      "incidents and problems.  \n",
      "o Incident Response: Implement procedures to identify, track, and mitigate \n",
      "incidents.  \n",
      "o Problem Management: Identify root causes of incidents and update security \n",
      "measures accordingly.  \n",
      "7. Business Continuity Management  \n",
      "• Business Impact Analysis (BIA):  Conduct BIAs to assess potential impacts of severe \n",
      "business disruptions.  \n",
      "o Criticality Assessment: Consider the criticality of business functions, processes, \n",
      "and assets.  \n",
      "o Redundancy: Design ICT sy stems with redundancy for critical components.  \n",
      "• Continuity Planning:  Develop and document business continuity plans (BCPs) based on \n",
      "BIAs.  \n",
      "o Recovery Objectives: Define recovery time and point objectives (RTOs and \n",
      "RPOs).  \n",
      "o Scenario Planning: Consider a range of scenarios, including cyber -attacks.   • Response and Recovery Plans:  Develop response and recovery plans to ensure \n",
      "availability and continuity of critical systems and services.  \n",
      "o Short -Term and Long -Term Recovery: Address both short -term and long -term \n",
      "recovery o ptions.  \n",
      "o Third -Party Continuity:  Implement measures to mitigate failures of key third -\n",
      "party providers, focusing primarily on critical vendors.  \n",
      "• Testing and Maintenance:  Test BCPs annually and update them based on test results, \n",
      "threat intelligence, and lesson s learned.  \n",
      "o Scenario Testing: Include severe but plausible scenarios in tests.  \n",
      "o Documentation: Document test results and address deficiencies.  \n",
      "8. Compliance and Reporting  \n",
      "• Audit and Reporting:  Perform periodic audits of ICT governance, systems, and \n",
      "processes.  \n",
      "o Independent Audits: Ensure audits are conducted by independent auditors with \n",
      "relevant expertise.  \n",
      "o Audit Plan:  Approve and update the audit plan annually, focusing primarily on \n",
      "financial and operational aspects.  \n",
      "o Follow -Up: Establish a follow -up process for critical audit findings.  \n",
      "• Regulatory Compliance:  Ensure compliance with relevant EU and national regulations.  \n",
      "o Notifications: Submit compliance notifications as required and report changes in \n",
      "compliance status.  \n",
      "9. Training and Awareness  \n",
      "• Training Program:  Implement a training program for all staff and contractors to ensure \n",
      "awareness of ICT and security risks and responsibilities.  \n",
      "o Frequency: Provide training annually.  \n",
      "o Content:  Cover security policies, procedures, and general information about \n",
      "inform ation security risks.  \n",
      " \n"
     ]
    }
   ],
   "source": [
    "test_doc_txt = extract_pdf(src_dir + 'B.pdf')\n",
    "print(test_doc_txt)"
   ]
  },
  {
   "cell_type": "code",
   "execution_count": 102,
   "metadata": {},
   "outputs": [],
   "source": [
    "prompt_template_compliance_all = \"\"\"\n",
    "Imagine you are a compliance officer for a bank checking if policies and guidelines are being met.\n",
    "Check the sections of the following question on whether the policies and guidelines are being met.\n",
    "<question>\n",
    "{question}\n",
    "</question\n",
    "\n",
    "These are the sections of the above document to be checked with the below policies and guidelines.\n",
    "<sections>\n",
    "{section}\n",
    "</sections\n",
    "\n",
    "The following are the policies and guidelines to be checked against:\n",
    "<context>\n",
    "{context}\n",
    "</context\n",
    "\n",
    "Provide a high level response table of the question with a single word - Yes, No or Partially Compliant for each section of the question as a table.\n",
    "The first column of the table is the section, second column is the check for compliance with a Yes, No or Partially Compliant.\n",
    "Provide a detailed summary under the high level response table for the non compliant or partially compliant \n",
    "sections of the context with quoted reference from the context above and suggested change. \n",
    "Please refer only to the document. \n",
    "Please be formal in your response. \n",
    "Please avoid any biases.\n",
    "Assistant:\"\"\""
   ]
  },
  {
   "cell_type": "code",
   "execution_count": 103,
   "metadata": {},
   "outputs": [],
   "source": [
    "sections_txt = '''\n",
    "1. Introduction\n",
    "2. Scope\n",
    "3. Governance and Strategy\n",
    "4. Risk Management Framework\n",
    "5. Information Security\n",
    "6. ICT Operations Management\n",
    "7. Business Continuity Management\n",
    "8. Compliance and Reporting\n",
    "9. Training and Awareness\n",
    "'''"
   ]
  },
  {
   "cell_type": "code",
   "execution_count": 104,
   "metadata": {},
   "outputs": [],
   "source": [
    "PROMPT2 = PromptTemplate(\n",
    "    template=prompt_template_compliance_all.replace('{section}',sections_txt), input_variables=[\"context\", \"question\"]\n",
    ")"
   ]
  },
  {
   "cell_type": "code",
   "execution_count": 105,
   "metadata": {},
   "outputs": [],
   "source": [
    "def get_response_llm(llm,vectorstore_faiss,query, PROMPT):\n",
    "    qa = RetrievalQA.from_chain_type(\n",
    "    llm=llm,\n",
    "    chain_type=\"stuff\",\n",
    "    retriever=vectorstore_faiss.as_retriever(\n",
    "        search_type=\"similarity\", search_kwargs={\"k\": 3}\n",
    "    ),\n",
    "    return_source_documents=True,\n",
    "    chain_type_kwargs={\"prompt\": PROMPT}\n",
    ")\n",
    "    answer=qa({\"query\":query})\n",
    "    return answer['result']\n"
   ]
  },
  {
   "cell_type": "code",
   "execution_count": 106,
   "metadata": {},
   "outputs": [],
   "source": [
    "response_all = get_response_llm(get_claude_llm(),vectorstore,test_doc_txt, PROMPT2)"
   ]
  },
  {
   "cell_type": "code",
   "execution_count": 107,
   "metadata": {},
   "outputs": [
    {
     "name": "stdout",
     "output_type": "stream",
     "text": [
      "Here is the high-level response table for the compliance check of the provided document with the EBA Guidelines on ICT and Security Risk Management:\n",
      "\n",
      "| Section | Compliance |\n",
      "|----------|------------|\n",
      "| 1. Introduction | Yes |\n",
      "| 2. Scope | Yes |\n",
      "| 3. Governance and Strategy | Partially Compliant |\n",
      "| 4. Risk Management Framework | Partially Compliant |\n",
      "| 5. Information Security | Partially Compliant |\n",
      "| 6. ICT Operations Management | Partially Compliant |\n",
      "| 7. Business Continuity Management | Partially Compliant |\n",
      "| 8. Compliance and Reporting | Partially Compliant |\n",
      "| 9. Training and Awareness | Partially Compliant |\n",
      "\n",
      "Detailed summary for non-compliant or partially compliant sections:\n",
      "\n",
      "3. Governance and Strategy:\n",
      "Partially Compliant - The document does not explicitly mention the requirement to \"establish processes to monitor and measure the effectiveness of the implementation of the ICT strategy\" as stated in the guidelines (Section 3.2.2, Point 6).\n",
      "\n",
      "Suggested change: Include a section or statement in the document that outlines the processes to monitor and measure the effectiveness of the ICT strategy implementation.\n",
      "\n",
      "4. Risk Management Framework:\n",
      "Partially Compliant - The document does not mention the requirement to \"identify and assess whether there are any ICT and security risks resulting from any major change in ICT system or ICT services, processes or procedures, and/or after any significant operational or security incident\" as stated in the guidelines (Section 3.3.1, Point 13f).\n",
      "\n",
      "Suggested change: Include a section or statement in the document that outlines the process to identify and assess ICT and security risks resulting from major changes or significant incidents.\n",
      "\n",
      "5. Information Security:\n",
      "Partially Compliant - The guidelines state that the information security policy should include \"requirements for staff and contractors regarding information security\" (Section 3.4, Point 4a). The document mentions this point in a broad sense but does not provide specific details.\n",
      "\n",
      "Suggested change: Expand the \"Information Security Policy\" section to include more explicit requirements for staff and contractors regarding information security.\n",
      "\n",
      "6. ICT Operations Management:\n",
      "Partially Compliant - The guidelines require financial institutions to \"implement logging and monitoring procedures for critical ICT operations\" (Section 3.5, Point 3b). The document does not explicitly mention logging and monitoring procedures for critical ICT operations.\n",
      "\n",
      "Suggested change: Include a section or statement in the document that outlines the logging and monitoring procedures for critical ICT operations.\n",
      "\n",
      "7. Business Continuity Management:\n",
      "Partially Compliant - The document does not explicitly mention the requirement to \"include severe but plausible scenarios in tests\" as stated in the guidelines (Section 3.7.4, Point 5).\n",
      "\n",
      "Suggested change: Include a statement in the \"Testing and Maintenance\" section that specifies the inclusion of severe but plausible scenarios in the BCPs testing.\n",
      "\n",
      "8. Compliance and Reporting:\n",
      "Partially Compliant - The guidelines state that the audit plan should \"focus primarily on financial and operational aspects\" (Section 3.8.1, Point 4). The document mentions an audit plan but does not specify the focus areas.\n",
      "\n",
      "Suggested change: Include a statement in the \"Audit and Reporting\" section that specifies the audit plan's primary focus on financial and operational aspects.\n",
      "\n",
      "9. Training and Awareness:\n",
      "Partially Compliant - The guidelines require the training content to \"cover security policies, procedures, and general information about information security risks\" (Section 3.9, Point 3). The document mentions general training content but does not explicitly cover these specific areas.\n",
      "\n",
      "Suggested change: Expand the \"Training Program\" section to explicitly include coverage of security policies, procedures, and general information about information security risks in the training content.\n",
      "\n",
      "Please note that this assessment is based solely on the provided document and the EBA Guidelines on ICT and Security Risk Management. It is recommended to review the complete guidelines and seek expert advice for a comprehensive compliance evaluation.\n"
     ]
    }
   ],
   "source": [
    "print(response_all)"
   ]
  },
  {
   "cell_type": "code",
   "execution_count": 113,
   "metadata": {},
   "outputs": [
    {
     "data": {
      "text/plain": [
       "VectorStoreRetriever(tags=['FAISS', 'BedrockEmbeddings'], vectorstore=<langchain_community.vectorstores.faiss.FAISS object at 0x120259cc0>, search_kwargs={'k': 3})"
      ]
     },
     "execution_count": 113,
     "metadata": {},
     "output_type": "execute_result"
    }
   ],
   "source": [
    "vectorstore.as_retriever(search_kwargs={\"k\": 3})"
   ]
  },
  {
   "cell_type": "code",
   "execution_count": 109,
   "metadata": {},
   "outputs": [],
   "source": [
    "from langchain_core.output_parsers import StrOutputParser\n",
    "from langchain_core.runnables import RunnablePassthrough"
   ]
  },
  {
   "cell_type": "code",
   "execution_count": 110,
   "metadata": {},
   "outputs": [],
   "source": [
    "rag_chain = (\n",
    "    {\"context\": vectorstore.as_retriever(search_kwargs={\"k\": 3}), \"question\": RunnablePassthrough()}\n",
    "    | PROMPT2\n",
    "    | get_claude_llm()\n",
    "    | StrOutputParser()\n",
    ")\n",
    "\n"
   ]
  },
  {
   "cell_type": "code",
   "execution_count": 112,
   "metadata": {},
   "outputs": [
    {
     "name": "stdout",
     "output_type": "stream",
     "text": [
      "Here is the high-level response table with compliance checks for each section:\n",
      "\n",
      "| Section | Compliance |\n",
      "|-|-|\n",
      "| 1. Introduction | Yes |\n",
      "| 2. Scope | Yes |\n",
      "| 3. Governance and Strategy | Partially Compliant |\n",
      "| 4. Risk Management Framework | Partially Compliant |\n",
      "| 5. Information Security | Partially Compliant | \n",
      "| 6. ICT Operations Management | Partially Compliant |\n",
      "| 7. Business Continuity Management | Partially Compliant |\n",
      "| 8. Compliance and Reporting | Partially Compliant |\n",
      "| 9. Training and Awareness | Yes |\n",
      "\n",
      "Detailed summary of non-compliant or partially compliant sections:\n",
      "\n",
      "Section 3. Governance and Strategy\n",
      "The guidelines require establishing an ICT strategy aligned with the business strategy, defining action plans to achieve the strategy, and reviewing the action plans periodically. The question section does not explicitly mention reviewing the action plans periodically.\n",
      "\n",
      "Suggested change: Include a statement about periodically reviewing the action plans to ensure their relevance and appropriateness, as per the guidelines (Section 3.2.2, paragraph 6).\n",
      "\n",
      "Section 4. Risk Management Framework\n",
      "The guidelines require maintaining updated mappings of information assets supporting business functions and processes (Section 3.3.2, paragraph 16). The question section does not mention this requirement.\n",
      "\n",
      "Suggested change: Add a statement about maintaining updated mappings of information assets supporting business functions and processes.\n",
      "\n",
      "Section 5. Information Security\n",
      "The guidelines specify requirements for logical security, such as identity and access management, user accountability, and activity logging (Section 3.4, paragraph 27). The question section does not provide details on these requirements.\n",
      "\n",
      "Suggested change: Include specific requirements for logical security, such as identity and access management, user accountability, and activity logging, as per the guidelines.\n",
      "\n",
      "The guidelines also require establishing and implementing information security measures and testing them (Section 3.4, paragraphs 28-29). The question section only mentions conducting regular security reviews, assessments, and testing, with a focus on network security and less emphasis on application security.\n",
      "\n",
      "Suggested change: Specify the requirement to establish, implement, and test information security measures, as per the guidelines, and ensure adequate emphasis on application security testing.\n",
      "\n",
      "Section 6. ICT Operations Management\n",
      "The guidelines require implementing logging and monitoring procedures for critical ICT operations (Section 3.5, paragraph 34). The question section does not mention this requirement.\n",
      "\n",
      "Suggested change: Include a statement about implementing logging and monitoring procedures for critical ICT operations, as per the guidelines.\n",
      "\n",
      "Section 7. Business Continuity Management\n",
      "The guidelines require considering a range of scenarios, including cyber-attacks, in continuity planning (Section 3.7.1, paragraph 41). The question section does not explicitly mention considering cyber-attack scenarios.\n",
      "\n",
      "Suggested change: Add a statement about considering cyber-attack scenarios in continuity planning, as per the guidelines.\n",
      "\n",
      "Section 8. Compliance and Reporting\n",
      "The guidelines require ensuring audits are conducted by independent auditors with relevant expertise (Section 3.8, paragraph 46). The question section does not mention this requirement.\n",
      "\n",
      "Suggested change: Include a statement about ensuring audits are conducted by independent auditors with relevant expertise in ICT and security risk management, as per the guidelines.\n",
      "\n",
      "The guidelines also require approving and updating the audit plan annually, with a focus on financial, operational, and security aspects (Section 3.8, paragraph 46). The question section mentions updating the audit plan annually but focuses primarily on financial and operational aspects.\n",
      "\n",
      "Suggested change: Specify that the audit plan should cover financial, operational, and security aspects, as per the guidelines.\n",
      "\n",
      "I have provided an objective assessment based on the guidelines and the question sections, without any biases. Please let me know if you need any clarification or have additional requirements.\n"
     ]
    }
   ],
   "source": [
    "print(rag_chain.invoke(test_doc_txt))"
   ]
  },
  {
   "cell_type": "code",
   "execution_count": null,
   "metadata": {},
   "outputs": [],
   "source": []
  },
  {
   "cell_type": "code",
   "execution_count": 122,
   "metadata": {},
   "outputs": [],
   "source": [
    "retriever = vectorstore.as_retriever(search_kwargs={\"k\": 5})"
   ]
  },
  {
   "cell_type": "code",
   "execution_count": 125,
   "metadata": {},
   "outputs": [
    {
     "data": {
      "text/plain": [
       "[[Document(page_content='FINAL REPORT  ON GUIDELINES ON ICT AND SECURITY RISK MA NAGEMENT   \\n \\n4 \\n \\nThese guidelines provide detail s on how financial institutions should comply  in order  to address ICT \\nand security risk s, with the following  provisions in the Capital Requirements Directive (CRD ) and \\nPSD2: \\n(i) Article  74 of Directive  2013/36/EU (CRD) , which strengthens the governance requirements for \\ninstitutions , including the requirements to have robust governance arrangements with a clear \\norganisational structure with well -defined, transparent and consistent lines of responsibility and  \\neffective processes to identify, manage, monitor and report the risk they are or might be exposed \\nto;  \\n(ii) Article  95 of Directive  2015/2366/EU (PSD2) , which contains explicit provisions for the \\nmanagement of operation and secu rity risks that requir e PSPs to have appropriate mitigation \\nmeasures and control mechanisms to manage the operational and security risks and includes a \\nmandate for the EBA to develop guidelines on this topic.  \\nThese guidelines specify the above -mentioned requirements as follows:  \\nSection  3.1 sets out the proportionate application of these guidelines , recognising the potential \\nvariation in size , complexity , inter nal organisation, nature, scope  and riskiness of the servic es and \\nproducts between financial institutions . \\nSection  3.2 of the guidelines focuses on the management and mitigation of ICT and security risk s \\nthrough establishing sound internal governance and an internal control framework that sets clear \\nresponsibiliti es for financial institutions ’ staff , including for the management bodies. It requires the \\nestablishment of the financial institutions’ ICT strategy, which should be aligned with their overall \\nbusiness strategy. The guidelines also remind financial institutions  to ensure the effectiveness of \\nthe risk -mitigating measures, as defined by their risk management framework, when outsourcing \\nor using third party providers. This should be set out in contracts and service  level agreements. \\nNevertheless, financ ial institutions  should monitor and seek assurance of the level of compliance.  \\nSection  3.3 requires financial institution s to manage and mitigate  ICT and security risks through an \\nindependent and objective control function, appropriately segregated from IC T operations \\nprocesses and not responsible for any internal audit, and  an independent internal audit function.  It \\nrequires financial institutions  to maintain up dated  mapping  of their business functions, supporting \\nprocesses and information assets  and to classify them in terms of criticality, based on the \\nconfidentiality, integrity and availability of data. Based on this, financial institutions should assess \\nthe operational risks related to ICT and the security risk s that impact them  and should determine \\nwhat measures are required to mitigate the identified risks.  \\nSection  3.4 sets out requirements for information security to the extent that the information is held \\non ICT systems. This section defines requirements to implement effective information security \\nmeasures, including having an information security policy in place ; establishing, implementing and \\ntesting information security measures; and establishing a training programme for all staff  and \\ncontractors . \\nSection  3.5 specif ies high -level principles on how ICT operations should be managed, including \\nrequirements to improve , when possible , the efficiency of ICT operations ; implement logging and \\nmonitoring procedures for critical ICT operations ; maintain an up', metadata={'source': 'guidelines/Final draft Guidelines on ICT and security risk management.pdf', 'page': 3}),\n",
       "  Document(page_content='FINAL REPORT  ON GUIDELINES ON ICT AND SECURITY RISK MA NAGEMENT   \\n \\n3 \\n \\n1. Executive summary  \\nThe c omplexity of information and communication technology ( ICT) and security risks is increasing \\nand the frequency of ICT and security -related incidents (including cyber incidents) is rising , together \\nwith their potential significant adverse impact  on financial institutions ’ operational functioning. \\nMoreover, due to the interconnectedness of financial institutions , ICT and security -relate d \\nincidents risk causing potential systemic impact s. The EBA has responded to this by detailing how \\nsupervisors should cover ICT and security risk s within supervision (EBA/GL/2017/05), by detailing \\nhow financial institutions should manage outsourcing (EBA/ GL/2019/02) and by describing the \\nexpectation s for ICT and security risk management for the financial institutions in these guidelines . \\nThese guidelines set out how financial institutions  should manage the ICT and security risk s that \\nthey are exposed to. In addition, this guidance aims to provide the financial institutions to which \\nthe guidelines apply  with a better understanding of supervisory expectations for the management \\nof ICT and security risk s. \\nThese guidelines integrate  and are built on the requirements set out in the ‘Guidelines on security \\nmeasures for operational and security risks of payment services ’ (hereafter ‘Guidelines on security \\nmeasures ’), which were published in December 2017 (EBA /GL/2017/17) and which have appl ied \\nsince January 2018 in fulfilment of the mandate in Article  95(3) of Directive  2015/2366/EU (PSD2) . \\nThose guidelines were addressed to payment service providers (PSPs ), and only applied to their \\npayment services ; however , they were  in fact relevant to a broader set of institutions. For that \\nreason, these guidelines have been formulated to be addressed to a broader range of financial \\ninstitutions  under the EBA ’s remit  (namely to credit institutions wh ich already fell within  the scope \\nof the guidelines  on security measures for their payment services , but for wh ich these guidelines \\nwill now apply for all activities) and to investment firms.  These guidelines continue to apply to PSPs \\nfor the payment services they provide ; they extend to other activities o f credit institutions and also \\napply to investment firms for all activities.  Collectively, the guidelines apply to financial institutions \\nas set out in paragraph  9 under the addressees section.  \\nThe term ‘ICT and security risk s’ addresses  the operational an d security risks mandate of Article  95 \\nof the r evised Payments Services Directive (PSD2 ). This term recognises that the operational risks \\nfor payment services refer predominantly to ICT and security risk s because of the electronic nature \\nof payment services  (over ICT systems).  For this reason, these guidelines refer to ‘ICT and security \\nrisk’ instead of ‘operational and security risk’ to avoid confusion with wider operational risk issues , \\nsuch as  conduct risk, legal risk and reputational risk. Furthe rmore, security risks may stem from \\ninadequate or failed internal processes or exter nal events , but ultimately it is their  impact on \\nsystems and data that is relevant. The definition of ‘ICT and security risk ’ is based on the definition \\nin the EBA Guidelines on the revised common procedures and methodologies for the supervisory \\nreview and evaluation process and supervisory stress testing (EBA /GL/2018/03) ; thus , it \\nencompasses data integrity risk but includes additional details to clarify that it covers the impact \\nderiving from security risks.', metadata={'source': 'guidelines/Final draft Guidelines on ICT and security risk management.pdf', 'page': 2}),\n",
       "  Document(page_content='FINAL REPORT ON GUIDELINES ON ICT AND SECURITY RISK MA NAGEMENT   \\n \\n 16 \\nindependence and objectivity of this control function b y appropriately segregating it from ICT \\noperations processes. This control function should be directly accountable to the management \\nbody and responsible for monitoring and controlling adherence to the ICT and security risk \\nmanagement framework. It should ensure that ICT and security risks are identified, measured, \\nassessed, managed, monitored and reported. Financial institutions should ensure that this \\ncontrol function is not responsible for any internal audit.  \\nThe i nternal audit function should , following a risk -based approach, have the capacity to \\nindependently review and provide objective assurance of the compliance of all ICT and security -\\nrelated activities and units of a financial institution  with the financial institution ’s policies and \\nprocedures and with external requirements, adhering to the requirements of Section  22 of the \\nEBA Guidelines on internal governance (EBA/GL/2017/11) . \\n12. Financial institutions  should define and assign key roles and responsibilities, and relevant \\nreporting lines , for the ICT and security risk management framework to be effective. This \\nframework should be fully integrated into , and aligned with,  financial  institutions ’ overall risk \\nmanagement processes.  \\n13. The ICT and security risk  management framework should  include  processes in place to : \\na) determine the risk appetite for ICT and security risk s, in accordance with the risk appetite \\nof the financial  institution ; \\nb) identify and assess the ICT and security risk s to which a financial institution  is exposed ; \\nc) define mitigation  measures, including controls,  to mitigate  ICT and security risk s; \\nd) monitor the  effectiveness of these measures as well as  the number of reported  incidents, \\nincluding for PSPs the incidents reported in accordance with Article  96 of PSD2 affecting \\nthe ICT -related activities , and tak e action to correct the  measures  where necessary;  \\ne) report to the management body on the ICT and security risk s and controls ; \\nf) identify and assess whether there are any ICT and security risks resulting from any major \\nchange in ICT s ystem or ICT services, processes or procedure s, and/or after any significant \\noperational or security incident.  \\n \\n14. Financial institutions should ensure that the ICT and security risk  management framework is \\ndocumented, and continuously improved , based on ‘lessons learned ’ during its implementation \\nand monitoring. The ICT and security risk  management framework should be approved and \\nreviewed, at least once a year, by the management body . \\n3.3.2.  Identification  of functions, processes and assets  \\n15. Financial institutions  should identify, establish  and maintain up dated  mapping  of their business \\nfunctions, roles and supporting  processes to  identify  the importance of each  and their \\ninterdependencies related to ICT and security risk s. \\n16. In addition, financial institutions  shoul d identify, establish and maintain update d mapping of \\nthe information assets supporting their business  functions and supporting  processes, such as \\nICT systems, staff , contractors, third parties and dependencies on other internal and external \\nsystems and pr ocesses, to be able to , at least , manage the  information  assets that support their \\ncritical business functions and processes.', metadata={'source': 'guidelines/Final draft Guidelines on ICT and security risk management.pdf', 'page': 15}),\n",
       "  Document(page_content='FINAL REPORT ON GUIDELINES ON ICT AND SECURITY RISK MA NAGEMENT   \\n \\n 15 \\nc) clear information security  objectives , focusing on ICT systems and ICT service s, staff \\nand processes.  \\n \\n6. Financial institutions  should establish set s of action plans  that contain measures to be taken to \\nachieve the objective of the ICT strategy . These should be communicated to all relevant staff \\n(including contractors and third party providers where applicable and relevant). The action \\nplans should be periodically reviewed to ensure their relevance and appropriateness.  Financial  \\ninstitutions  should also establish  process es to monitor and measure the effectiv eness of  the \\nimplementation of the ir ICT strategy . \\n3.2.3.  Use of third party providers  \\n7. Without prejudice to the  EBA Guidelines on outsourcing arrangements  (EBA /GL/2019/ 02) and \\nArticle  19 of PSD2 , financial  institutions  should ensure the effectiveness of the risk -mitigating \\nmeasures as defined by their risk management framework , including the measures set out in \\nthese guidelines , when operational functions of payment services and/or ICT services and ICT \\nsystems  of any activity  are outsourced , including to group  entities, or when using third parties . \\n8. To ensure continuity of ICT services and ICT systems , financial institutions should ensure that \\ncontracts  and service level agreements (both for norma l circumstances as well as in the event \\nof service disruption — see also Section  3.7.2) with  provider s (outsourcing provider s, group  \\nentit ies, or third part y provider s) include the following:  \\na) appropriate and proportionate information security -related objectives and measures \\nincluding requirements such as minimum cybersecur ity requirements ; specifications of \\nthe financial institution ’s data life cycle ; any requirements regarding data encryption , \\nnetwork security and security monitoring processes , and  the location of data centres ;  \\nb) operational and security incident handling p rocedures including  escalation and \\nreporting.  \\n9. Financial institutions should monitor and seek assurance on the level of compliance of these \\nproviders with  the security objectives, measures and performance targets  of the financial \\ninstitution . \\n3.3. ICT and security risk  management framework  \\n3.3.1.  Organisation and objectives  \\n10. Financial institutions  should identify and manage their ICT and security risk s. The ICT function(s) \\nin charge of ICT systems, processes and security operations should have appropriate processes \\nand controls in place to ensure that all risks are identified, analysed, measured, monitored, \\nmanaged, reported and kept within the limits of the financial institution ’s risk appetite and that \\nthe projects and systems they deliver and the activities they perform are in compliance with \\nexternal and internal requirements.  \\n11. Financial institutions should assign the responsibility for managing and ove rseeing ICT and \\nsecurity risks to a control function, adhering to the requirements of Section  19 of the EBA \\nGuidelines on internal governance (EBA/GL/2017/11) . Financial institutions should ensure the', metadata={'source': 'guidelines/Final draft Guidelines on ICT and security risk management.pdf', 'page': 14}),\n",
       "  Document(page_content='FINAL REPORT ON GUIDELINES ON ICT AND SECURITY RISK MA NAGEMENT   \\n \\n 31 \\nIn view of the growing importance and increasing complexity of ICT and security risk s for financial \\ninstitutions , and based on th e mandates set out for the EBA, the EBA has published:  \\na) Guidelines on ICT risk asses sment under the supervisory review and evaluation process  (SREP ), \\naddressed to competent authorities (EBA/GL/2017/05);  \\nb) Guidelines on security measures for operational  and security risks of payment services, \\naddressed to PSPs (EBA /GL/2017/17).  \\nThe guidelines above in point  (b) set out very important requirements for PSPs for the provision of \\ntheir payment services , but, for credit institutions that are PSPs the existing guidelines do not \\naddress ICT and security risk s from their other activities.  Furthermore , the guidelines in point  (b) \\ndo not apply to investment firms. The new Guidelines on ICT and security risk management  aim to \\naddress the European Commission request7 for guidelines for all institutions regarding their ICT \\nsecurity and governance. The aim is to ensure sound ICT and security management in the EU \\nfinancial sector and to ensure a level playing field for all institutions.  The new guidelines integrate \\nthe existing text of the ‘Guidelines on security measures ’ and broaden the scope of addressees, \\nnamely covering all activities for credit institutions and investment firms. Furthermore, the new \\nguidelines build on  the existing requirements in the ‘Guidelines on security measures ’ but are more \\nexplicit, clarifying in more detail how institutions can ensure adequate management of their ICT \\nand security.  \\nB. Policy objectives  \\nThe main objective of the guidelines is to establish harmonised requirements for ICT and security \\nacross PSPs (for payment services) and institutions (for credit institutions and investment firms , this \\nextends to all activities). In return, this is expected to contribute to better management of ris ks \\narising to market integrity, consumers and the viability of institutions and PSPs from ICT.  \\nOperationally, the guidelines aim to integrate all provisions on ICT and security management in a \\nsingle legal text for all financial institutions and for a wide r range of activities.  \\nC. Baseline scenario  \\nThe status quo should constitute the baseline scenario. It entails maintaining the current regulatory \\nframework, which includes two pieces of legislation related to ICT and security risk  management:  \\ni. Guidelines on ICT risk assessment under the supervisory review and evaluation process \\n(SREP) (EBA/GL/2017/05): these guidelines are addressed to competent authorities and are \\nintended to promote common procedures and methodologies for the assessment of the  \\nICT risk under the supervisory review and evaluation process (SREP). The guidelines set out \\nthe requirements that competent authorities should apply in their assessment of ICT on \\n                                                                                                          \\n7 European Commission ’s FinTech action plan: for a more competitive and innovative European financial sector, \\n8 March 20 18, COM(2018)  109 final.', metadata={'source': 'guidelines/Final draft Guidelines on ICT and security risk management.pdf', 'page': 30})],\n",
       " [Document(page_content='FINAL REPORT  ON GUIDELINES ON ICT AND SECURITY RISK MA NAGEMENT   \\n \\n4 \\n \\nThese guidelines provide detail s on how financial institutions should comply  in order  to address ICT \\nand security risk s, with the following  provisions in the Capital Requirements Directive (CRD ) and \\nPSD2: \\n(i) Article  74 of Directive  2013/36/EU (CRD) , which strengthens the governance requirements for \\ninstitutions , including the requirements to have robust governance arrangements with a clear \\norganisational structure with well -defined, transparent and consistent lines of responsibility and  \\neffective processes to identify, manage, monitor and report the risk they are or might be exposed \\nto;  \\n(ii) Article  95 of Directive  2015/2366/EU (PSD2) , which contains explicit provisions for the \\nmanagement of operation and secu rity risks that requir e PSPs to have appropriate mitigation \\nmeasures and control mechanisms to manage the operational and security risks and includes a \\nmandate for the EBA to develop guidelines on this topic.  \\nThese guidelines specify the above -mentioned requirements as follows:  \\nSection  3.1 sets out the proportionate application of these guidelines , recognising the potential \\nvariation in size , complexity , inter nal organisation, nature, scope  and riskiness of the servic es and \\nproducts between financial institutions . \\nSection  3.2 of the guidelines focuses on the management and mitigation of ICT and security risk s \\nthrough establishing sound internal governance and an internal control framework that sets clear \\nresponsibiliti es for financial institutions ’ staff , including for the management bodies. It requires the \\nestablishment of the financial institutions’ ICT strategy, which should be aligned with their overall \\nbusiness strategy. The guidelines also remind financial institutions  to ensure the effectiveness of \\nthe risk -mitigating measures, as defined by their risk management framework, when outsourcing \\nor using third party providers. This should be set out in contracts and service  level agreements. \\nNevertheless, financ ial institutions  should monitor and seek assurance of the level of compliance.  \\nSection  3.3 requires financial institution s to manage and mitigate  ICT and security risks through an \\nindependent and objective control function, appropriately segregated from IC T operations \\nprocesses and not responsible for any internal audit, and  an independent internal audit function.  It \\nrequires financial institutions  to maintain up dated  mapping  of their business functions, supporting \\nprocesses and information assets  and to classify them in terms of criticality, based on the \\nconfidentiality, integrity and availability of data. Based on this, financial institutions should assess \\nthe operational risks related to ICT and the security risk s that impact them  and should determine \\nwhat measures are required to mitigate the identified risks.  \\nSection  3.4 sets out requirements for information security to the extent that the information is held \\non ICT systems. This section defines requirements to implement effective information security \\nmeasures, including having an information security policy in place ; establishing, implementing and \\ntesting information security measures; and establishing a training programme for all staff  and \\ncontractors . \\nSection  3.5 specif ies high -level principles on how ICT operations should be managed, including \\nrequirements to improve , when possible , the efficiency of ICT operations ; implement logging and \\nmonitoring procedures for critical ICT operations ; maintain an up', metadata={'source': 'guidelines/Final draft Guidelines on ICT and security risk management.pdf', 'page': 3}),\n",
       "  Document(page_content='FINAL REPORT ON GUIDELINES ON ICT AND SECURITY RISK MA NAGEMENT   \\n \\n 16 \\nindependence and objectivity of this control function b y appropriately segregating it from ICT \\noperations processes. This control function should be directly accountable to the management \\nbody and responsible for monitoring and controlling adherence to the ICT and security risk \\nmanagement framework. It should ensure that ICT and security risks are identified, measured, \\nassessed, managed, monitored and reported. Financial institutions should ensure that this \\ncontrol function is not responsible for any internal audit.  \\nThe i nternal audit function should , following a risk -based approach, have the capacity to \\nindependently review and provide objective assurance of the compliance of all ICT and security -\\nrelated activities and units of a financial institution  with the financial institution ’s policies and \\nprocedures and with external requirements, adhering to the requirements of Section  22 of the \\nEBA Guidelines on internal governance (EBA/GL/2017/11) . \\n12. Financial institutions  should define and assign key roles and responsibilities, and relevant \\nreporting lines , for the ICT and security risk management framework to be effective. This \\nframework should be fully integrated into , and aligned with,  financial  institutions ’ overall risk \\nmanagement processes.  \\n13. The ICT and security risk  management framework should  include  processes in place to : \\na) determine the risk appetite for ICT and security risk s, in accordance with the risk appetite \\nof the financial  institution ; \\nb) identify and assess the ICT and security risk s to which a financial institution  is exposed ; \\nc) define mitigation  measures, including controls,  to mitigate  ICT and security risk s; \\nd) monitor the  effectiveness of these measures as well as  the number of reported  incidents, \\nincluding for PSPs the incidents reported in accordance with Article  96 of PSD2 affecting \\nthe ICT -related activities , and tak e action to correct the  measures  where necessary;  \\ne) report to the management body on the ICT and security risk s and controls ; \\nf) identify and assess whether there are any ICT and security risks resulting from any major \\nchange in ICT s ystem or ICT services, processes or procedure s, and/or after any significant \\noperational or security incident.  \\n \\n14. Financial institutions should ensure that the ICT and security risk  management framework is \\ndocumented, and continuously improved , based on ‘lessons learned ’ during its implementation \\nand monitoring. The ICT and security risk  management framework should be approved and \\nreviewed, at least once a year, by the management body . \\n3.3.2.  Identification  of functions, processes and assets  \\n15. Financial institutions  should identify, establish  and maintain up dated  mapping  of their business \\nfunctions, roles and supporting  processes to  identify  the importance of each  and their \\ninterdependencies related to ICT and security risk s. \\n16. In addition, financial institutions  shoul d identify, establish and maintain update d mapping of \\nthe information assets supporting their business  functions and supporting  processes, such as \\nICT systems, staff , contractors, third parties and dependencies on other internal and external \\nsystems and pr ocesses, to be able to , at least , manage the  information  assets that support their \\ncritical business functions and processes.', metadata={'source': 'guidelines/Final draft Guidelines on ICT and security risk management.pdf', 'page': 15}),\n",
       "  Document(page_content='FINAL REPORT ON GUIDELINES ON ICT AND SECURITY RISK MA NAGEMENT   \\n \\n 13 \\nImplementation  \\nDate of applicat ion \\n11. These guidelines apply from 30 June 2020 . \\nRepeal  \\n12. The Guidelines on security measures for operational and security risks (EBA /GL/2017/17) \\nissued in 2017 will be repealed by these guidelines at the date that these guidelines become \\napplicable.  \\n                                                                                                          \\n4 Definition from G7 fundamental elements for third party cyber risk management in the financial sector . \\n5 Definition from Guidelines on ICT Risk Assessment under the Supervisory Review and Evaluation process (SREP) \\n(EBA/GL/ 2017/05 ). \\n6 ibid. (c) For PSPs referred to in points  (c), (e) and (f) of Article  1(1) of \\nDirective (EU)  2015/2366, this term has the meaning conferred \\non it by the applicable EU or national law.  \\nRisk appetite  The aggregate level and types of risk that the PSPs and \\ninstitutions are willing to assume within their risk capacity, in line \\nwith their business model, to achieve their strategic objectives.  \\nAudit function  (a) For credit institutions and investment firms, the audit function \\nis as referred to in Section  22 of the EBA guidelines on internal \\ngovernance (EBA /GL/2017 /11). \\n(b) For PSPs other than credit institutions, the audit function must \\nbe independent within or from the PSP and may be an internal \\nand/ or an external audit function.  \\nICT projects  Any p roject, or part thereof, where ICT systems and services are \\nchanged, replaced , dismissed or implemented. ICT projects can \\nbe part of wider ICT or business transformation programmes.  \\nThird party  An organisation that has entered into business relationships or \\ncontracts with an entity to provide a product or service4. \\nInformation asset  A collection of information, either tangible or intangible, that is \\nworth protecting.  \\nICT asset  An asset of either software or hardware that is found in the \\nbusiness environment.  \\nICT systems5 ICT set -up as part of a mechanism or an interconnecting network \\nthat support s the operations of a financial institution.  \\nICT service s6 Services provided by ICT systems to one or more internal or \\nexternal users. Examples include data entry, data storage, data \\nprocessing and reporting services, but also monitoring, and \\nbusiness and decision support services .', metadata={'source': 'guidelines/Final draft Guidelines on ICT and security risk management.pdf', 'page': 12}),\n",
       "  Document(page_content='FINAL REPORT ON GUIDELINES ON ICT AND SECURITY RISK MA NAGEMENT   \\n \\n 18 \\neffectiveness to  the management body. The audit ors should be independent within or from the \\nfinancial institution. The frequency and focus of such audits should be commensurate with the \\nrelevant ICT and security risk s. \\n26. A financial institution ’s management body  should approve the audit plan, including any ICT \\naudits and any material modifications thereto. The audit plan and its execution, including the \\naudit frequency, should reflect and be proportionate to the inherent ICT and security risk s in \\nthe financial institution  and should be updated regularly.  \\n27. A formal follow -up process including provisions for the timely verification and remediation of \\ncritical ICT audit  findings  should be established.  \\n3.4. Information security  \\n3.4.1.  Information security policy  \\n28. Financial institutions should develop and document an information security policy that should \\ndefine the high -level principles and rules to protect the confidentiality, integrity and availability \\nof financial institutions ’ and their customers ’ data and information. For PSPs this policy is \\nidentified in the security policy document to be adopted in accordance with Article  5(1)(j) of \\nDirective (EU)  2015/2366.  The information security policy should be in line with the financial \\ninstitution ’s information security objecti ves and based on the relevant results of the risk \\nassessment process.  The policy should be approved by the management body.  \\n29. The policy should include a description of the main roles and responsibilities of information \\nsecurity management , and it should set  out the requirements for staff  and contractors , \\nprocesses and technology in relation to information security, recognising that staff  and \\ncontractors  at all levels have responsibilities in ensuring financial institutions ’ information \\nsecurity. The policy should ensure the confidentiality, integrity and availability of a financial \\ninstitution ’s critical logical and physical assets, resources and sensitive data whether at rest, in \\ntransit or in use. The information security policy should  be communicated to all staff  and \\ncontractors of the financial institution.  \\n30. Based on the information security policy, financial institutions should establish and implement \\nsecurity measures to mitigate the ICT and security risk s that they are exposed to. T hese \\nmeasures should include:  \\na) organisation and governance  in accordance with paragraphs  10 and 11 ; \\nb) logical security (Section  3.4.2); \\nc) physical security (Section  3.4.3); \\nd) ICT operations security (Section  3.4.4); \\ne) security monitoring (Section  3.4.5); \\nf) informatio n security reviews, assessment and testing  (Section  3.4.6); \\ng) information security training and awareness (Section  3.4.7). \\n3.4.2.  Logical security', metadata={'source': 'guidelines/Final draft Guidelines on ICT and security risk management.pdf', 'page': 17}),\n",
       "  Document(page_content='FINAL REPORT ON GUIDELINES ON ICT AND SECURITY RISK MA NAGEMENT   \\n \\n 15 \\nc) clear information security  objectives , focusing on ICT systems and ICT service s, staff \\nand processes.  \\n \\n6. Financial institutions  should establish set s of action plans  that contain measures to be taken to \\nachieve the objective of the ICT strategy . These should be communicated to all relevant staff \\n(including contractors and third party providers where applicable and relevant). The action \\nplans should be periodically reviewed to ensure their relevance and appropriateness.  Financial  \\ninstitutions  should also establish  process es to monitor and measure the effectiv eness of  the \\nimplementation of the ir ICT strategy . \\n3.2.3.  Use of third party providers  \\n7. Without prejudice to the  EBA Guidelines on outsourcing arrangements  (EBA /GL/2019/ 02) and \\nArticle  19 of PSD2 , financial  institutions  should ensure the effectiveness of the risk -mitigating \\nmeasures as defined by their risk management framework , including the measures set out in \\nthese guidelines , when operational functions of payment services and/or ICT services and ICT \\nsystems  of any activity  are outsourced , including to group  entities, or when using third parties . \\n8. To ensure continuity of ICT services and ICT systems , financial institutions should ensure that \\ncontracts  and service level agreements (both for norma l circumstances as well as in the event \\nof service disruption — see also Section  3.7.2) with  provider s (outsourcing provider s, group  \\nentit ies, or third part y provider s) include the following:  \\na) appropriate and proportionate information security -related objectives and measures \\nincluding requirements such as minimum cybersecur ity requirements ; specifications of \\nthe financial institution ’s data life cycle ; any requirements regarding data encryption , \\nnetwork security and security monitoring processes , and  the location of data centres ;  \\nb) operational and security incident handling p rocedures including  escalation and \\nreporting.  \\n9. Financial institutions should monitor and seek assurance on the level of compliance of these \\nproviders with  the security objectives, measures and performance targets  of the financial \\ninstitution . \\n3.3. ICT and security risk  management framework  \\n3.3.1.  Organisation and objectives  \\n10. Financial institutions  should identify and manage their ICT and security risk s. The ICT function(s) \\nin charge of ICT systems, processes and security operations should have appropriate processes \\nand controls in place to ensure that all risks are identified, analysed, measured, monitored, \\nmanaged, reported and kept within the limits of the financial institution ’s risk appetite and that \\nthe projects and systems they deliver and the activities they perform are in compliance with \\nexternal and internal requirements.  \\n11. Financial institutions should assign the responsibility for managing and ove rseeing ICT and \\nsecurity risks to a control function, adhering to the requirements of Section  19 of the EBA \\nGuidelines on internal governance (EBA/GL/2017/11) . Financial institutions should ensure the', metadata={'source': 'guidelines/Final draft Guidelines on ICT and security risk management.pdf', 'page': 14})],\n",
       " [Document(page_content='FINAL REPORT  ON GUIDELINES ON ICT AND SECURITY RISK MA NAGEMENT   \\n \\n4 \\n \\nThese guidelines provide detail s on how financial institutions should comply  in order  to address ICT \\nand security risk s, with the following  provisions in the Capital Requirements Directive (CRD ) and \\nPSD2: \\n(i) Article  74 of Directive  2013/36/EU (CRD) , which strengthens the governance requirements for \\ninstitutions , including the requirements to have robust governance arrangements with a clear \\norganisational structure with well -defined, transparent and consistent lines of responsibility and  \\neffective processes to identify, manage, monitor and report the risk they are or might be exposed \\nto;  \\n(ii) Article  95 of Directive  2015/2366/EU (PSD2) , which contains explicit provisions for the \\nmanagement of operation and secu rity risks that requir e PSPs to have appropriate mitigation \\nmeasures and control mechanisms to manage the operational and security risks and includes a \\nmandate for the EBA to develop guidelines on this topic.  \\nThese guidelines specify the above -mentioned requirements as follows:  \\nSection  3.1 sets out the proportionate application of these guidelines , recognising the potential \\nvariation in size , complexity , inter nal organisation, nature, scope  and riskiness of the servic es and \\nproducts between financial institutions . \\nSection  3.2 of the guidelines focuses on the management and mitigation of ICT and security risk s \\nthrough establishing sound internal governance and an internal control framework that sets clear \\nresponsibiliti es for financial institutions ’ staff , including for the management bodies. It requires the \\nestablishment of the financial institutions’ ICT strategy, which should be aligned with their overall \\nbusiness strategy. The guidelines also remind financial institutions  to ensure the effectiveness of \\nthe risk -mitigating measures, as defined by their risk management framework, when outsourcing \\nor using third party providers. This should be set out in contracts and service  level agreements. \\nNevertheless, financ ial institutions  should monitor and seek assurance of the level of compliance.  \\nSection  3.3 requires financial institution s to manage and mitigate  ICT and security risks through an \\nindependent and objective control function, appropriately segregated from IC T operations \\nprocesses and not responsible for any internal audit, and  an independent internal audit function.  It \\nrequires financial institutions  to maintain up dated  mapping  of their business functions, supporting \\nprocesses and information assets  and to classify them in terms of criticality, based on the \\nconfidentiality, integrity and availability of data. Based on this, financial institutions should assess \\nthe operational risks related to ICT and the security risk s that impact them  and should determine \\nwhat measures are required to mitigate the identified risks.  \\nSection  3.4 sets out requirements for information security to the extent that the information is held \\non ICT systems. This section defines requirements to implement effective information security \\nmeasures, including having an information security policy in place ; establishing, implementing and \\ntesting information security measures; and establishing a training programme for all staff  and \\ncontractors . \\nSection  3.5 specif ies high -level principles on how ICT operations should be managed, including \\nrequirements to improve , when possible , the efficiency of ICT operations ; implement logging and \\nmonitoring procedures for critical ICT operations ; maintain an up', metadata={'source': 'guidelines/Final draft Guidelines on ICT and security risk management.pdf', 'page': 3}),\n",
       "  Document(page_content='FINAL REPORT ON GUIDELINES ON ICT AND SECURITY RISK MA NAGEMENT   \\n \\n 16 \\nindependence and objectivity of this control function b y appropriately segregating it from ICT \\noperations processes. This control function should be directly accountable to the management \\nbody and responsible for monitoring and controlling adherence to the ICT and security risk \\nmanagement framework. It should ensure that ICT and security risks are identified, measured, \\nassessed, managed, monitored and reported. Financial institutions should ensure that this \\ncontrol function is not responsible for any internal audit.  \\nThe i nternal audit function should , following a risk -based approach, have the capacity to \\nindependently review and provide objective assurance of the compliance of all ICT and security -\\nrelated activities and units of a financial institution  with the financial institution ’s policies and \\nprocedures and with external requirements, adhering to the requirements of Section  22 of the \\nEBA Guidelines on internal governance (EBA/GL/2017/11) . \\n12. Financial institutions  should define and assign key roles and responsibilities, and relevant \\nreporting lines , for the ICT and security risk management framework to be effective. This \\nframework should be fully integrated into , and aligned with,  financial  institutions ’ overall risk \\nmanagement processes.  \\n13. The ICT and security risk  management framework should  include  processes in place to : \\na) determine the risk appetite for ICT and security risk s, in accordance with the risk appetite \\nof the financial  institution ; \\nb) identify and assess the ICT and security risk s to which a financial institution  is exposed ; \\nc) define mitigation  measures, including controls,  to mitigate  ICT and security risk s; \\nd) monitor the  effectiveness of these measures as well as  the number of reported  incidents, \\nincluding for PSPs the incidents reported in accordance with Article  96 of PSD2 affecting \\nthe ICT -related activities , and tak e action to correct the  measures  where necessary;  \\ne) report to the management body on the ICT and security risk s and controls ; \\nf) identify and assess whether there are any ICT and security risks resulting from any major \\nchange in ICT s ystem or ICT services, processes or procedure s, and/or after any significant \\noperational or security incident.  \\n \\n14. Financial institutions should ensure that the ICT and security risk  management framework is \\ndocumented, and continuously improved , based on ‘lessons learned ’ during its implementation \\nand monitoring. The ICT and security risk  management framework should be approved and \\nreviewed, at least once a year, by the management body . \\n3.3.2.  Identification  of functions, processes and assets  \\n15. Financial institutions  should identify, establish  and maintain up dated  mapping  of their business \\nfunctions, roles and supporting  processes to  identify  the importance of each  and their \\ninterdependencies related to ICT and security risk s. \\n16. In addition, financial institutions  shoul d identify, establish and maintain update d mapping of \\nthe information assets supporting their business  functions and supporting  processes, such as \\nICT systems, staff , contractors, third parties and dependencies on other internal and external \\nsystems and pr ocesses, to be able to , at least , manage the  information  assets that support their \\ncritical business functions and processes.', metadata={'source': 'guidelines/Final draft Guidelines on ICT and security risk management.pdf', 'page': 15}),\n",
       "  Document(page_content='FINAL REPORT ON GUIDELINES ON ICT AND SECURITY RISK MA NAGEMENT   \\n \\n 15 \\nc) clear information security  objectives , focusing on ICT systems and ICT service s, staff \\nand processes.  \\n \\n6. Financial institutions  should establish set s of action plans  that contain measures to be taken to \\nachieve the objective of the ICT strategy . These should be communicated to all relevant staff \\n(including contractors and third party providers where applicable and relevant). The action \\nplans should be periodically reviewed to ensure their relevance and appropriateness.  Financial  \\ninstitutions  should also establish  process es to monitor and measure the effectiv eness of  the \\nimplementation of the ir ICT strategy . \\n3.2.3.  Use of third party providers  \\n7. Without prejudice to the  EBA Guidelines on outsourcing arrangements  (EBA /GL/2019/ 02) and \\nArticle  19 of PSD2 , financial  institutions  should ensure the effectiveness of the risk -mitigating \\nmeasures as defined by their risk management framework , including the measures set out in \\nthese guidelines , when operational functions of payment services and/or ICT services and ICT \\nsystems  of any activity  are outsourced , including to group  entities, or when using third parties . \\n8. To ensure continuity of ICT services and ICT systems , financial institutions should ensure that \\ncontracts  and service level agreements (both for norma l circumstances as well as in the event \\nof service disruption — see also Section  3.7.2) with  provider s (outsourcing provider s, group  \\nentit ies, or third part y provider s) include the following:  \\na) appropriate and proportionate information security -related objectives and measures \\nincluding requirements such as minimum cybersecur ity requirements ; specifications of \\nthe financial institution ’s data life cycle ; any requirements regarding data encryption , \\nnetwork security and security monitoring processes , and  the location of data centres ;  \\nb) operational and security incident handling p rocedures including  escalation and \\nreporting.  \\n9. Financial institutions should monitor and seek assurance on the level of compliance of these \\nproviders with  the security objectives, measures and performance targets  of the financial \\ninstitution . \\n3.3. ICT and security risk  management framework  \\n3.3.1.  Organisation and objectives  \\n10. Financial institutions  should identify and manage their ICT and security risk s. The ICT function(s) \\nin charge of ICT systems, processes and security operations should have appropriate processes \\nand controls in place to ensure that all risks are identified, analysed, measured, monitored, \\nmanaged, reported and kept within the limits of the financial institution ’s risk appetite and that \\nthe projects and systems they deliver and the activities they perform are in compliance with \\nexternal and internal requirements.  \\n11. Financial institutions should assign the responsibility for managing and ove rseeing ICT and \\nsecurity risks to a control function, adhering to the requirements of Section  19 of the EBA \\nGuidelines on internal governance (EBA/GL/2017/11) . Financial institutions should ensure the', metadata={'source': 'guidelines/Final draft Guidelines on ICT and security risk management.pdf', 'page': 14}),\n",
       "  Document(page_content='FINAL REPORT ON GUIDELINES ON ICT AND SECURITY RISK MA NAGEMENT   \\n \\n 18 \\neffectiveness to  the management body. The audit ors should be independent within or from the \\nfinancial institution. The frequency and focus of such audits should be commensurate with the \\nrelevant ICT and security risk s. \\n26. A financial institution ’s management body  should approve the audit plan, including any ICT \\naudits and any material modifications thereto. The audit plan and its execution, including the \\naudit frequency, should reflect and be proportionate to the inherent ICT and security risk s in \\nthe financial institution  and should be updated regularly.  \\n27. A formal follow -up process including provisions for the timely verification and remediation of \\ncritical ICT audit  findings  should be established.  \\n3.4. Information security  \\n3.4.1.  Information security policy  \\n28. Financial institutions should develop and document an information security policy that should \\ndefine the high -level principles and rules to protect the confidentiality, integrity and availability \\nof financial institutions ’ and their customers ’ data and information. For PSPs this policy is \\nidentified in the security policy document to be adopted in accordance with Article  5(1)(j) of \\nDirective (EU)  2015/2366.  The information security policy should be in line with the financial \\ninstitution ’s information security objecti ves and based on the relevant results of the risk \\nassessment process.  The policy should be approved by the management body.  \\n29. The policy should include a description of the main roles and responsibilities of information \\nsecurity management , and it should set  out the requirements for staff  and contractors , \\nprocesses and technology in relation to information security, recognising that staff  and \\ncontractors  at all levels have responsibilities in ensuring financial institutions ’ information \\nsecurity. The policy should ensure the confidentiality, integrity and availability of a financial \\ninstitution ’s critical logical and physical assets, resources and sensitive data whether at rest, in \\ntransit or in use. The information security policy should  be communicated to all staff  and \\ncontractors of the financial institution.  \\n30. Based on the information security policy, financial institutions should establish and implement \\nsecurity measures to mitigate the ICT and security risk s that they are exposed to. T hese \\nmeasures should include:  \\na) organisation and governance  in accordance with paragraphs  10 and 11 ; \\nb) logical security (Section  3.4.2); \\nc) physical security (Section  3.4.3); \\nd) ICT operations security (Section  3.4.4); \\ne) security monitoring (Section  3.4.5); \\nf) informatio n security reviews, assessment and testing  (Section  3.4.6); \\ng) information security training and awareness (Section  3.4.7). \\n3.4.2.  Logical security', metadata={'source': 'guidelines/Final draft Guidelines on ICT and security risk management.pdf', 'page': 17}),\n",
       "  Document(page_content='FINAL REPORT ON GUIDELINES ON ICT AND SECURITY RISK MA NAGEMENT   \\n \\n 60 \\nComments  Summary of responses received  The EBA ’s analysis  Amendments to \\nthe proposals  \\nof defence . The second line would have an internal control function, but \\nnot the responsibility for the daily risk management.  \\nAnother respondent commented that the internal control function \\nshould be in the information securit y and operational risk management \\ndepartments , as it is not clear how one single department can manage \\nICT risks alone.  \\nAnother respondent commented that  the internal control function \\nshould be allowed to be organisationally situated outside the I CT \\ndepart ment in order to ensure independenc e and to avoid conflicts of \\ninterests.  \\nAnother respondent suggested moving this paragraph to an annex as \\nan example of a potential model framework for certain institutions with \\nless mature risk management functions. Some rewording was \\nsuggested here for this purpose: ‘…acting as the first line of defence, \\nshould operate under the supervision  oversight  of an internal control \\nfunction acting as a second line of defence. This internal control \\nfunction should take  responsibility for the  independently challenge \\nthe first line of defence ’s management of ICT risks ’. \\nOne respondent commented that there may be room to add a fourth \\nlevel that is provided by a regular external audit — both passive (e.g. \\nSOC2) and active (e.g. red teaming).  The EBA considers that one single department does not \\nhave to manage ICT and security risks alone. Following \\nthe feedback received , the wording of these guidelines \\nhas been revised to clarify that the assignment of the \\nresponsibilities for managing and overseeing ICT and \\nsecurity risks should adhere to the requirements of \\nSection  19 of  the EBA/GL/2017/11 Guidelines on \\ninternal governance under Direct ive 2013/36/EU.  \\nThe EBA considers that the independenc e of the control \\nfunction as the second line of defence is ensured.  \\n \\nFollowing the feedback received , these guidelines have \\nbeen revised and the wording of paragraph s 10 and 11 \\naligned with the wording of the EBA/GL/2017/11 \\nGuidelines on internal governance under \\nDirective  2013/36/EU.  \\n \\n \\n \\nThe EBA does not recognise a fourth level of defence . The g uidelines \\nhave been \\namended . \\n \\n \\n \\nNo change . \\n \\n \\nThe g uidelines \\nhave been \\namended . \\n \\n \\n \\n \\nNo change . \\nParagraph  12 To ensure consistency when referring to the ICT organisation al \\nstructure, one respondent suggested that the wording in this paragraph \\nbe amended to align with Section  4.2.1 and Section  4.3.2 , to include any \\ninterdependencies to ICT risks within the organisation . The following \\nwording was suggested: ‘this framework should be fully integrated into, \\nand aligned with, financial institutions ’ overall risk management \\nprocesse s, including any interdependencies related to the ICT risk ’. A As the guidelines already mention ‘fully integrated ’, this \\nshould also include the interdepe ndencies between \\nareas of risk.  \\nThe ICT and security risk management framework \\nshould be fully integrated into the financial institutions ’ \\noverall risk management process es.  No change .', metadata={'source': 'guidelines/Final draft Guidelines on ICT and security risk management.pdf', 'page': 59})]]"
      ]
     },
     "execution_count": 125,
     "metadata": {},
     "output_type": "execute_result"
    }
   ],
   "source": [
    "docs = []\n",
    "for i in test_docs:\n",
    "    docs.append(retriever.get_relevant_documents(i.page_content))\n",
    "docs"
   ]
  },
  {
   "cell_type": "code",
   "execution_count": 120,
   "metadata": {},
   "outputs": [],
   "source": [
    "from langchain.load import dumps, loads\n",
    "\n",
    "def get_unique_union(documents: list[list]):\n",
    "    \"\"\" Unique union of retrieved docs \"\"\"\n",
    "    # Flatten list of lists, and convert each Document to string\n",
    "    flattened_docs = [dumps(doc) for sublist in documents for doc in sublist]\n",
    "    # Get unique documents\n",
    "    unique_docs = list(set(flattened_docs))\n",
    "    # Return\n",
    "    return [loads(doc) for doc in unique_docs]\n",
    "\n"
   ]
  },
  {
   "cell_type": "code",
   "execution_count": 127,
   "metadata": {},
   "outputs": [],
   "source": [
    "docs_unq = get_unique_union(docs)"
   ]
  },
  {
   "cell_type": "code",
   "execution_count": 132,
   "metadata": {},
   "outputs": [],
   "source": [
    "rag_chain2 = (\n",
    "    PROMPT2\n",
    "    | get_claude_llm()\n",
    "    | StrOutputParser()\n",
    ")"
   ]
  },
  {
   "cell_type": "code",
   "execution_count": 134,
   "metadata": {},
   "outputs": [
    {
     "name": "stdout",
     "output_type": "stream",
     "text": [
      "Here is the high-level response table:\n",
      "\n",
      "| Section | Compliance |\n",
      "|-|-|\n",
      "| 1. Introduction | Yes |\n",
      "| 2. Scope | Yes |\n",
      "| 3. Governance and Strategy | Partially Compliant |\n",
      "| 4. Risk Management Framework | Yes | \n",
      "| 5. Information Security | Partially Compliant |\n",
      "| 6. ICT Operations Management | Yes |\n",
      "| 7. Business Continuity Management | Yes |\n",
      "| 8. Compliance and Reporting | Partially Compliant |\n",
      "| 9. Training and Awareness | Yes |\n",
      "\n",
      "Detailed summary for non-compliant or partially compliant sections:\n",
      "\n",
      "3. Governance and Strategy\n",
      "The guidelines state: \"Financial institutions should assign the responsibility for managing and overseeing ICT and security risks to a control function, adhering to the requirements of Section 19 of the EBA Guidelines on internal governance (EBA/GL/2017/11).\"\n",
      "\n",
      "However, the question's policy under this section does not explicitly mention adhering to the EBA Guidelines on internal governance for assigning responsibilities for ICT and security risk management. To be fully compliant, the policy should incorporate this requirement.\n",
      "\n",
      "Suggested change: Update the \"Governance and Strategy\" section to include a point stating that responsibilities for managing and overseeing ICT and security risks should be assigned in adherence with Section 19 of the EBA Guidelines on internal governance (EBA/GL/2017/11).\n",
      "\n",
      "5. Information Security\n",
      "The guidelines state: \"Information Security Reviews: Conduct regular security reviews, assessments, and testing to identify vulnerabilities.\n",
      "o Testing framework primarily focuses on network security, with less emphasis on application security.\"\n",
      "\n",
      "The question's policy under this section does not mention the emphasis on network security testing over application security testing. To be fully compliant, the policy should acknowledge this emphasis.\n",
      "\n",
      "Suggested change: Update the \"Information Security\" section to mention that the security testing framework primarily focuses on network security, with less emphasis on application security.\n",
      "\n",
      "8. Compliance and Reporting\n",
      "The guidelines state: \"Audit Plan: Approve and update the audit plan annually, focusing primarily on financial and operational aspects.\"\n",
      "\n",
      "However, the question's policy under this section does not specify the focus of the audit plan on financial and operational aspects. To be fully compliant, the policy should incorporate this requirement.\n",
      "\n",
      "Suggested change: Update the \"Compliance and Reporting\" section to state that the audit plan should focus primarily on financial and operational aspects.\n",
      "\n",
      "I have aimed to provide an objective assessment based solely on the information provided, without introducing any biases. Please let me know if you need any clarification or have additional requirements.\n"
     ]
    }
   ],
   "source": [
    "print(rag_chain2.invoke({\"context\":docs_unq,\"question\":test_doc_txt}))"
   ]
  },
  {
   "cell_type": "code",
   "execution_count": null,
   "metadata": {},
   "outputs": [],
   "source": []
  }
 ],
 "metadata": {
  "kernelspec": {
   "display_name": "Python 3",
   "language": "python",
   "name": "python3"
  },
  "language_info": {
   "codemirror_mode": {
    "name": "ipython",
    "version": 3
   },
   "file_extension": ".py",
   "mimetype": "text/x-python",
   "name": "python",
   "nbconvert_exporter": "python",
   "pygments_lexer": "ipython3",
   "version": "3.10.0"
  }
 },
 "nbformat": 4,
 "nbformat_minor": 2
}

{
 "cells": [
  {
   "cell_type": "code",
   "execution_count": 1,
   "metadata": {},
   "outputs": [],
   "source": [
    "import json\n",
    "import os\n",
    "import sys\n",
    "import boto3\n",
    "import streamlit as st\n",
    "from dotenv import load_dotenv\n",
    "\n",
    "load_dotenv()\n",
    "\n",
    "## We will be using Titan Embeddings Model To generate Embedding\n",
    "\n",
    "from langchain_community.embeddings import BedrockEmbeddings\n",
    "from langchain.llms.bedrock import Bedrock\n",
    "from langchain_community.chat_models.bedrock import BedrockChat\n",
    "\n",
    "## Data Ingestion\n",
    "\n",
    "import numpy as np\n",
    "from langchain.text_splitter import RecursiveCharacterTextSplitter\n",
    "from langchain_community.document_loaders import PyPDFDirectoryLoader\n",
    "\n",
    "# Vector Embedding And Vector Store\n",
    "# from langchain_community.vectorstores import FAISS\n",
    "from langchain.vectorstores import FAISS\n",
    "\n",
    "## LLm Models\n",
    "from langchain.prompts import PromptTemplate\n",
    "from langchain.chains import RetrievalQA\n",
    "\n",
    "from pypdf import PdfReader"
   ]
  },
  {
   "cell_type": "code",
   "execution_count": 36,
   "metadata": {},
   "outputs": [],
   "source": [
    "\n",
    "## Bedrock Clients\n",
    "bedrock=boto3.client(service_name=\"bedrock-runtime\")\n",
    "bedrock_embeddings=BedrockEmbeddings(model_id=\"amazon.titan-embed-text-v1\",client=bedrock)\n",
    "\n",
    "\n",
    "#Extract PDF Data\n",
    "def extract_pdf(filename):\n",
    "    reader = PdfReader(filename)\n",
    "    page = reader.pages[0]\n",
    "    return page.extract_text()\n",
    "\n",
    "## Data ingestion\n",
    "def data_ingestion(inp):\n",
    "    loader=PyPDFDirectoryLoader(inp)\n",
    "    documents=loader.load()\n",
    "\n",
    "    # - in our testing Character split works better with this PDF data set\n",
    "    text_splitter=RecursiveCharacterTextSplitter(chunk_size=200,\n",
    "                                                 chunk_overlap=20)\n",
    "    \n",
    "    docs=text_splitter.split_documents(documents)\n",
    "    return docs\n"
   ]
  },
  {
   "cell_type": "code",
   "execution_count": 3,
   "metadata": {},
   "outputs": [],
   "source": [
    "def get_claude_llm():\n",
    "    ##create the Anthropic Model\n",
    "    llm=BedrockChat(model_id=\"anthropic.claude-3-sonnet-20240229-v1:0\",client=bedrock,\n",
    "                model_kwargs={'max_tokens':1000})\n",
    "    \n",
    "    return llm"
   ]
  },
  {
   "cell_type": "code",
   "execution_count": 84,
   "metadata": {},
   "outputs": [],
   "source": [
    "from langchain.schema import Document"
   ]
  },
  {
   "cell_type": "code",
   "execution_count": 99,
   "metadata": {},
   "outputs": [],
   "source": [
    "def load_pdf_as_chunk(pdf_path):\n",
    "    # Open the PDF file\\\n",
    "    loader = PyPDFLoader(pdf_path)\n",
    "    pages = loader.load_and_split()\n",
    "    all_text = \"\"\n",
    "    \n",
    "    # Iterate through the pages and extract text\n",
    "    for page in pages:\n",
    "        all_text += page.page_content\n",
    "    \n",
    "    # Create a Document object with the entire text\n",
    "    doc = Document(page_content=all_text)\n",
    "    \n",
    "    return doc"
   ]
  },
  {
   "cell_type": "code",
   "execution_count": 100,
   "metadata": {},
   "outputs": [],
   "source": [
    "docs = load_pdf_as_chunk(\"pdfs/Final draft Guidelines on ICT and security risk management.pdf\")"
   ]
  },
  {
   "cell_type": "code",
   "execution_count": 101,
   "metadata": {},
   "outputs": [],
   "source": [
    "import uuid\n",
    "\n",
    "from langchain_core.documents import Document\n",
    "from langchain_core.output_parsers import StrOutputParser\n",
    "from langchain_core.prompts import ChatPromptTemplate\n",
    "\n",
    "chain = (\n",
    "    {\"doc\": lambda x: x.page_content}\n",
    "    | ChatPromptTemplate.from_template(\"Summarize the following document:\\n\\n{doc}\")\n",
    "    | get_claude_llm()\n",
    "    | StrOutputParser()\n",
    ")\n",
    "\n",
    "summaries = chain.batch([docs], {\"max_concurrency\": 5})\n"
   ]
  },
  {
   "cell_type": "code",
   "execution_count": 105,
   "metadata": {},
   "outputs": [
    {
     "data": {
      "text/plain": [
       "\"Here is a summary of the key points from the document:\\n\\n- The guidelines provide requirements for financial institutions on how to manage ICT and security risks. They integrate and expand upon previous guidelines on security measures for operational and security risks of payment services under PSD2.\\n\\n- The scope covers payment service providers for payment services, credit institutions for all activities, and investment firms for all activities. \\n\\n- Key areas covered include:\\n    - Governance and strategy for ICT and security risk management\\n    - Risk management framework to identify, assess, and mitigate ICT and security risks\\n    - Information security measures like logical security, physical security, operations security\\n    - ICT operations management \\n    - ICT project and change management\\n    - Business continuity management\\n    - Relationship management requirements for payment service users\\n\\n- The guidelines aim to be technology and methodology agnostic to allow flexibility. Implementation should be proportionate based on the institution's size, complexity and risk profile.\\n\\n- The guidelines replace and repeal the previous Guidelines on security measures for operational and security risks once they take effect on 30 June 2020.\\n\\nIn summary, the document provides harmonized requirements across the EU for how financial institutions should govern and manage their ICT and security risks in a proportionate manner.\""
      ]
     },
     "execution_count": 105,
     "metadata": {},
     "output_type": "execute_result"
    }
   ],
   "source": [
    "summaries[0]"
   ]
  },
  {
   "cell_type": "code",
   "execution_count": 106,
   "metadata": {},
   "outputs": [],
   "source": [
    "def get_vector_store(docs, inp):\n",
    "    vectorstore_faiss=FAISS.from_documents(\n",
    "        docs,\n",
    "        bedrock_embeddings\n",
    "    )\n",
    "    vectorstore_faiss.save_local(f\"faiss_index_{inp}\")b"
   ]
  },
  {
   "cell_type": "code",
   "execution_count": 111,
   "metadata": {},
   "outputs": [],
   "source": [
    "get_vector_store([Document(summaries[0])], 'ict_s')"
   ]
  },
  {
   "cell_type": "code",
   "execution_count": 112,
   "metadata": {},
   "outputs": [],
   "source": [
    "from langchain.storage import InMemoryByteStore\n",
    "from langchain.retrievers.multi_vector import MultiVectorRetriever"
   ]
  },
  {
   "cell_type": "code",
   "execution_count": null,
   "metadata": {},
   "outputs": [],
   "source": []
  },
  {
   "cell_type": "code",
   "execution_count": null,
   "metadata": {},
   "outputs": [],
   "source": []
  },
  {
   "cell_type": "code",
   "execution_count": null,
   "metadata": {},
   "outputs": [],
   "source": []
  },
  {
   "cell_type": "code",
   "execution_count": null,
   "metadata": {},
   "outputs": [],
   "source": []
  },
  {
   "cell_type": "code",
   "execution_count": null,
   "metadata": {},
   "outputs": [],
   "source": []
  },
  {
   "cell_type": "code",
   "execution_count": null,
   "metadata": {},
   "outputs": [],
   "source": []
  },
  {
   "cell_type": "code",
   "execution_count": null,
   "metadata": {},
   "outputs": [],
   "source": []
  }
 ],
 "metadata": {
  "kernelspec": {
   "display_name": "Python 3",
   "language": "python",
   "name": "python3"
  },
  "language_info": {
   "codemirror_mode": {
    "name": "ipython",
    "version": 3
   },
   "file_extension": ".py",
   "mimetype": "text/x-python",
   "name": "python",
   "nbconvert_exporter": "python",
   "pygments_lexer": "ipython3",
   "version": "3.10.0"
  }
 },
 "nbformat": 4,
 "nbformat_minor": 2
}
